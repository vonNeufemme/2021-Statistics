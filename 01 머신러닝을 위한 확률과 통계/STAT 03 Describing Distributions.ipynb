{
  "nbformat": 4,
  "nbformat_minor": 0,
  "metadata": {
    "colab": {
      "name": "STAT 03 Describing Distributions.ipynb",
      "provenance": [],
      "collapsed_sections": [],
      "toc_visible": true
    },
    "kernelspec": {
      "name": "python3",
      "display_name": "Python 3"
    },
    "language_info": {
      "name": "python"
    }
  },
  "cells": [
    {
      "cell_type": "markdown",
      "metadata": {
        "id": "IHSZRre2ZwNR"
      },
      "source": [
        "References\n",
        "\n",
        "My Statistics learning notebook following the live lesson series [**\"Probability and Statistics for Machine Learning\"**](https://learning.oreilly.com/videos/probability-and-statistics/9780137566273/) by Dr. Jon Krohn. I adapted some and partially modified or added entirely new code. Notes largely based on and from Jon's notebooks and learning materials. The lesson and original notebook source code at:\n",
        "\n",
        "https://learning.oreilly.com/videos/probability-and-statistics/9780137566273/\n",
        "https://github.com/jonkrohn/ML-foundations/blob/master/notebooks/4-calculus-ii.ipynb"
      ]
    },
    {
      "cell_type": "markdown",
      "metadata": {
        "id": "hS6Lsz45ejN6"
      },
      "source": [
        "## Basic Setup"
      ]
    },
    {
      "cell_type": "code",
      "metadata": {
        "id": "eyWUBUeHZR9P",
        "colab": {
          "base_uri": "https://localhost:8080/"
        },
        "outputId": "aa71faa6-4022-4a6c-99ac-e52e9ff18662"
      },
      "source": [
        "import math\n",
        "import numpy as np\n",
        "import seaborn as sb\n",
        "import matplotlib.pyplot as plt\n",
        "\n",
        "import cv2\n",
        "from google.colab.patches import cv2_imshow\n",
        "from google.colab import drive\n",
        "drive.mount('here')\n",
        "\n",
        "# shows the image immediately. Resize option available\n",
        "def show_img(path, resize=None):\n",
        "  img = cv2.imread(path)\n",
        "  if (resize != None):\n",
        "    img = cv2.resize(img, dsize=(0,0), fx=resize, fy=resize)\n",
        "  cv2_imshow(img)\n",
        "\n",
        "# turns the path into an image object. Resize option available\n",
        "def get_img(path, resize=None):\n",
        "  img = cv2.imread(path)\n",
        "  if (resize != None):\n",
        "    img = cv2.resize(img, dsize=(0,0), fx=resize, fy=resize)\n",
        "  return img\n",
        "\n",
        "def cite_source(img, source, org=None, scale=None):\n",
        "    if (org == None):\n",
        "        img = cv2.putText(img, source, org=(int(np.ceil(img.shape[1]*0.1)), int(np.ceil(img.shape[0]*0.98))),\n",
        "                          fontFace=cv2.FONT_HERSHEY_SIMPLEX, fontScale=scale, color=1)\n",
        "    elif (org != None):\n",
        "        img = cv2.putText(img, source, org=org,\n",
        "                          fontFace=cv2.FONT_HERSHEY_TRIPLEX, fontScale=scale, color=1)\n",
        "    return img\n",
        "\n",
        "# Code by Bill Grates on Stackoverflow\n",
        "# https://stackoverflow.com/users/5629538/bill-grates\n",
        "# https://stackoverflow.com/questions/32609098/how-to-fast-change-image-brightness-with-python-opencv\n",
        "\n",
        "def increase_brightness(img, value=30):\n",
        "    hsv = cv2.cvtColor(img, cv2.COLOR_BGR2HSV) \n",
        "    h, s, v = cv2.split(hsv)\n",
        "\n",
        "    lim = 255 - value\n",
        "    v[v > lim] = 255\n",
        "    v[v <= lim] += value\n",
        "    \n",
        "    final_hsv = cv2.merge((h, s, v))\n",
        "    img = cv2.cvtColor(final_hsv, cv2.COLOR_HSV2BGR)\n",
        "    return img"
      ],
      "execution_count": null,
      "outputs": [
        {
          "output_type": "stream",
          "name": "stdout",
          "text": [
            "Mounted at here\n"
          ]
        }
      ]
    },
    {
      "cell_type": "markdown",
      "metadata": {
        "id": "3x9nq9P9guQD"
      },
      "source": [
        "# 3.1 The Mean, a Measure of Central Tendency\n",
        "Sum up all the frequencies below and divide it by the number of frequency count attemps. "
      ]
    },
    {
      "cell_type": "code",
      "metadata": {
        "id": "QaiwERtSehwd",
        "colab": {
          "base_uri": "https://localhost:8080/",
          "height": 300
        },
        "outputId": "fbb12748-166b-4ce0-9fc2-13d5c50b01d6"
      },
      "source": [
        "n_experiments = 1000\n",
        "heads_count = np.random.binomial(5, 0.5, n_experiments)\n",
        "\n",
        "heads, event_count = np.unique(heads_count, return_counts=True)\n",
        "heads, event_count\n",
        "\n",
        "fig, ax = plt.subplots(1, 2, figsize=(13, 4))\n",
        "ax[0].bar(heads, event_count, label='')\n",
        "ax[0].set_xlabel('Counts of heads')\n",
        "ax[0].set_ylabel('Counts of event out of 1000')\n",
        "ax[0].set_title(\"Event frequency\", fontsize=20, fontweight='bold')\n",
        "ax[1].bar(heads, event_count/n_experiments, color='orange')\n",
        "ax[1].set_xlabel('Counts of heads')\n",
        "ax[1].set_ylabel('Probability')\n",
        "ax[1].set_title(\"Event probability\", fontsize=20, fontweight='bold')\n",
        "plt.show()"
      ],
      "execution_count": null,
      "outputs": [
        {
          "output_type": "display_data",
          "data": {
            "image/png": "[encoded data removed]",
            "text/plain": [
              "<Figure size 936x288 with 2 Axes>"
            ]
          },
          "metadata": {
            "needs_background": "light"
          }
        }
      ]
    },
    {
      "cell_type": "code",
      "metadata": {
        "colab": {
          "base_uri": "https://localhost:8080/"
        },
        "id": "DmrBTbN3vp5h",
        "outputId": "201c03b1-04a1-41b5-c9f2-826f3a51ad05"
      },
      "source": [
        "sum(heads_count) / len(heads_count)"
      ],
      "execution_count": null,
      "outputs": [
        {
          "output_type": "execute_result",
          "data": {
            "text/plain": [
              "2.48"
            ]
          },
          "metadata": {},
          "execution_count": 3
        }
      ]
    },
    {
      "cell_type": "markdown",
      "metadata": {
        "id": "xomMVrAotl4g"
      },
      "source": [
        "# 3.2 Medians"
      ]
    },
    {
      "cell_type": "code",
      "metadata": {
        "id": "SmhENjiCehrK",
        "colab": {
          "base_uri": "https://localhost:8080/"
        },
        "outputId": "7d49c21f-c2ab-46f4-8673-c3e030c14b78"
      },
      "source": [
        "heads_count = np.random.binomial(5, 0.5, n_experiments)\n",
        "heads_count[:20]"
      ],
      "execution_count": null,
      "outputs": [
        {
          "output_type": "execute_result",
          "data": {
            "text/plain": [
              "array([2, 2, 1, 0, 2, 2, 1, 3, 3, 3, 2, 3, 0, 3, 3, 1, 3, 3, 2, 1])"
            ]
          },
          "metadata": {},
          "execution_count": 4
        }
      ]
    },
    {
      "cell_type": "code",
      "metadata": {
        "colab": {
          "base_uri": "https://localhost:8080/"
        },
        "id": "_lB3p5EswKPN",
        "outputId": "2d4bec54-a03e-4b5a-f49a-c609fe9fb30c"
      },
      "source": [
        "# heads_count.sort()\n",
        "heads_count[:50]"
      ],
      "execution_count": null,
      "outputs": [
        {
          "output_type": "execute_result",
          "data": {
            "text/plain": [
              "array([2, 2, 1, 0, 2, 2, 1, 3, 3, 3, 2, 3, 0, 3, 3, 1, 3, 3, 2, 1, 2, 1,\n",
              "       4, 1, 2, 2, 4, 2, 3, 3, 3, 4, 3, 2, 3, 3, 1, 1, 4, 2, 1, 1, 2, 3,\n",
              "       0, 3, 3, 2, 2, 4])"
            ]
          },
          "metadata": {},
          "execution_count": 5
        }
      ]
    },
    {
      "cell_type": "code",
      "metadata": {
        "colab": {
          "base_uri": "https://localhost:8080/"
        },
        "id": "1kAHUDMIwbk6",
        "outputId": "6d6c0b03-6e49-4c06-b022-1cd6ab64c422"
      },
      "source": [
        "heads_count[-20:]"
      ],
      "execution_count": null,
      "outputs": [
        {
          "output_type": "execute_result",
          "data": {
            "text/plain": [
              "array([2, 2, 3, 2, 0, 3, 3, 3, 4, 4, 4, 3, 1, 2, 2, 2, 5, 1, 2, 4])"
            ]
          },
          "metadata": {},
          "execution_count": 6
        }
      ]
    },
    {
      "cell_type": "code",
      "metadata": {
        "colab": {
          "base_uri": "https://localhost:8080/"
        },
        "id": "v6tn7Fllwbgo",
        "outputId": "00eabe14-66e0-469b-d798-e7ebe2c3fe48"
      },
      "source": [
        "values, counts = np.unique(heads_count, return_counts=True)\n",
        "median = (values[2] + values[3]) / 2\n",
        "median"
      ],
      "execution_count": null,
      "outputs": [
        {
          "output_type": "execute_result",
          "data": {
            "text/plain": [
              "2.5"
            ]
          },
          "metadata": {},
          "execution_count": 7
        }
      ]
    },
    {
      "cell_type": "markdown",
      "metadata": {
        "id": "MKVEK8STtnJu"
      },
      "source": [
        "# 3.3 Modes\n",
        "- With small sample sizes, the mean typically provides the most accurate measure of central tendency.\n",
        "\n",
        "- With larger sample sizes, the mean, median, and mode will tend to coincide, as long as the distribution isn't skewed:"
      ]
    },
    {
      "cell_type": "code",
      "metadata": {
        "colab": {
          "base_uri": "https://localhost:8080/"
        },
        "id": "sMPQ-DJIwbaY",
        "outputId": "f3b49e71-7744-45e9-8b5d-e98951679a0c"
      },
      "source": [
        "import scipy.stats as st\n",
        "st.mode(heads_count)"
      ],
      "execution_count": null,
      "outputs": [
        {
          "output_type": "execute_result",
          "data": {
            "text/plain": [
              "ModeResult(mode=array([3]), count=array([329]))"
            ]
          },
          "metadata": {},
          "execution_count": 8
        }
      ]
    },
    {
      "cell_type": "code",
      "metadata": {
        "id": "mvFyy1c8wbVw"
      },
      "source": [
        "x = st.skewnorm.rvs(0, size=1000)   # first argument is 'skewness'; 0 has no skew."
      ],
      "execution_count": null,
      "outputs": []
    },
    {
      "cell_type": "code",
      "metadata": {
        "colab": {
          "base_uri": "https://localhost:8080/",
          "height": 265
        },
        "id": "oblm8yRrya74",
        "outputId": "26643989-d58b-49fc-a797-f71835e38811"
      },
      "source": [
        "fig, ax = plt.subplots()\n",
        "plt.axvline(x = np.mean(x), color='orange')\n",
        "plt.axvline(x = np.median(x), color='green')\n",
        "_ = plt.hist(x, color = 'lightgray')\n",
        "# Note: Mode typically only applies to PMFs; this is a PDF"
      ],
      "execution_count": null,
      "outputs": [
        {
          "output_type": "display_data",
          "data": {
            "image/png": "[encoded data removed]",
            "text/plain": [
              "<Figure size 432x288 with 1 Axes>"
            ]
          },
          "metadata": {
            "needs_background": "light"
          }
        }
      ]
    },
    {
      "cell_type": "markdown",
      "metadata": {
        "id": "e8WdtAKDzR6e"
      },
      "source": [
        "Mod is least affected by the skewness."
      ]
    },
    {
      "cell_type": "code",
      "metadata": {
        "colab": {
          "base_uri": "https://localhost:8080/",
          "height": 265
        },
        "id": "S-CwzlVHyz4h",
        "outputId": "952d2d47-6040-4a49-e7ff-4f4451d49e49"
      },
      "source": [
        "x = st.skewnorm.rvs(10, size=1000)\n",
        "fig, ax = plt.subplots()\n",
        "plt.axvline(x = np.mean(x), color='orange', label='mean')\n",
        "plt.axvline(x = np.median(x), color='green', label='median', linewidth=3)\n",
        "plt.legend()\n",
        "_ = plt.hist(x, color = 'lightgray')"
      ],
      "execution_count": null,
      "outputs": [
        {
          "output_type": "display_data",
          "data": {
            "image/png": "[encoded data removed]",
            "text/plain": [
              "<Figure size 432x288 with 1 Axes>"
            ]
          },
          "metadata": {
            "needs_background": "light"
          }
        }
      ]
    },
    {
      "cell_type": "markdown",
      "metadata": {
        "id": "CBD6KE0Fxt4w"
      },
      "source": [
        "# 3.4 Quantiles: Percentiles, Quartiles, and Deciles\n",
        "## Percentiles\n",
        "- out of 100"
      ]
    },
    {
      "cell_type": "code",
      "metadata": {
        "id": "dFccoGiaehny",
        "colab": {
          "base_uri": "https://localhost:8080/"
        },
        "outputId": "a13efef9-ddd6-4e61-e44a-8429b79af96b"
      },
      "source": [
        "median, quantile = np.median(x), np.quantile(x, 0.5)\n",
        "median, quantile"
      ],
      "execution_count": null,
      "outputs": [
        {
          "output_type": "execute_result",
          "data": {
            "text/plain": [
              "(0.6398401159770304, 0.6398401159770304)"
            ]
          },
          "metadata": {},
          "execution_count": 12
        }
      ]
    },
    {
      "cell_type": "code",
      "metadata": {
        "id": "SUaFixF1ehRE",
        "colab": {
          "base_uri": "https://localhost:8080/"
        },
        "outputId": "e4a5149f-07cd-40a3-ce63-938f538b6696"
      },
      "source": [
        "median == quantile"
      ],
      "execution_count": null,
      "outputs": [
        {
          "output_type": "execute_result",
          "data": {
            "text/plain": [
              "True"
            ]
          },
          "metadata": {},
          "execution_count": 13
        }
      ]
    },
    {
      "cell_type": "code",
      "metadata": {
        "id": "Avr6yeTlehMt",
        "colab": {
          "base_uri": "https://localhost:8080/"
        },
        "outputId": "99b95318-ff18-455b-e4bd-f27ae6d76ac4"
      },
      "source": [
        "p = np.percentile(x, [95, 99])\n",
        "p                  "
      ],
      "execution_count": null,
      "outputs": [
        {
          "output_type": "execute_result",
          "data": {
            "text/plain": [
              "array([1.989051  , 2.68726693])"
            ]
          },
          "metadata": {},
          "execution_count": 14
        }
      ]
    },
    {
      "cell_type": "code",
      "metadata": {
        "id": "x8ZKHj6aehJi",
        "colab": {
          "base_uri": "https://localhost:8080/",
          "height": 265
        },
        "outputId": "697aac4e-1525-4d9d-ee54-eb46ce593632"
      },
      "source": [
        "fig, ax = plt.subplots()\n",
        "plt.axvline(x = p[0], color='orange')\n",
        "plt.axvline(x = p[1], color='red')\n",
        "_ = plt.hist(x, color='lightgray')"
      ],
      "execution_count": null,
      "outputs": [
        {
          "output_type": "display_data",
          "data": {
            "image/png": "[encoded data removed]",
            "text/plain": [
              "<Figure size 432x288 with 1 Axes>"
            ]
          },
          "metadata": {
            "needs_background": "light"
          }
        }
      ]
    },
    {
      "cell_type": "markdown",
      "metadata": {
        "id": "61FELC5_1v8P"
      },
      "source": [
        "## Quartiles\n",
        "- into 1/4 chunks"
      ]
    },
    {
      "cell_type": "code",
      "metadata": {
        "id": "1kGirwBGehGj",
        "colab": {
          "base_uri": "https://localhost:8080/"
        },
        "outputId": "80685372-9020-48c8-e55b-9737f38a7d6d"
      },
      "source": [
        "q = np.percentile(x, [25, 50, 75])\n",
        "q"
      ],
      "execution_count": null,
      "outputs": [
        {
          "output_type": "execute_result",
          "data": {
            "text/plain": [
              "array([0.30656123, 0.63984012, 1.11608081])"
            ]
          },
          "metadata": {},
          "execution_count": 16
        }
      ]
    },
    {
      "cell_type": "code",
      "metadata": {
        "colab": {
          "base_uri": "https://localhost:8080/",
          "height": 283
        },
        "id": "bPkRwk7T12_e",
        "outputId": "07f97fdf-dd33-4d5d-ebf8-b552479f6b4e"
      },
      "source": [
        "fig, ax = plt.subplots()\n",
        "plt.axvline(x = q[0], color='orange', label='q1')\n",
        "plt.axvline(x = q[1], color='red', label='q2')\n",
        "plt.axvline(x = q[2], color='green', label='q3')\n",
        "_ = plt.hist(x, color='lightgray')\n",
        "plt.legend()"
      ],
      "execution_count": null,
      "outputs": [
        {
          "output_type": "execute_result",
          "data": {
            "text/plain": [
              "<matplotlib.legend.Legend at 0x7f88d3d391d0>"
            ]
          },
          "metadata": {},
          "execution_count": 17
        },
        {
          "output_type": "display_data",
          "data": {
            "image/png": "[encoded data removed]",
            "text/plain": [
              "<Figure size 432x288 with 1 Axes>"
            ]
          },
          "metadata": {
            "needs_background": "light"
          }
        }
      ]
    },
    {
      "cell_type": "code",
      "metadata": {
        "id": "-3yO4SllYYxr"
      },
      "source": [
        ""
      ],
      "execution_count": null,
      "outputs": []
    },
    {
      "cell_type": "markdown",
      "metadata": {
        "id": "L5qk7AOG2nnL"
      },
      "source": [
        "## Deciles\n",
        "  - from decimus (meaning 10th)\n",
        "  - 'decimate': to kill, destroy, or remove a large percentage or part of.\n",
        "    - the verb comes from the idea that 1/10 are dead when massacre/destruction happens."
      ]
    },
    {
      "cell_type": "code",
      "metadata": {
        "colab": {
          "base_uri": "https://localhost:8080/"
        },
        "id": "j3ejMCjp2k_Y",
        "outputId": "20211a6b-01e0-4f90-e9e1-9b57943edc24"
      },
      "source": [
        "index = [i for i in range(10, 100, 10)]\n",
        "index"
      ],
      "execution_count": null,
      "outputs": [
        {
          "output_type": "execute_result",
          "data": {
            "text/plain": [
              "[10, 20, 30, 40, 50, 60, 70, 80, 90]"
            ]
          },
          "metadata": {},
          "execution_count": 18
        }
      ]
    },
    {
      "cell_type": "code",
      "metadata": {
        "colab": {
          "base_uri": "https://localhost:8080/"
        },
        "id": "0zvx2kZz21uR",
        "outputId": "fc657f57-0d7a-4874-ca10-7e7f1d512685"
      },
      "source": [
        "d = np.percentile(x, range(10, 100, 10))\n",
        "d"
      ],
      "execution_count": null,
      "outputs": [
        {
          "output_type": "execute_result",
          "data": {
            "text/plain": [
              "array([0.12753788, 0.24115174, 0.36881371, 0.4937205 , 0.63984012,\n",
              "       0.80888847, 1.02703157, 1.2283464 , 1.65358848])"
            ]
          },
          "metadata": {},
          "execution_count": 19
        }
      ]
    },
    {
      "cell_type": "code",
      "metadata": {
        "colab": {
          "base_uri": "https://localhost:8080/",
          "height": 355
        },
        "id": "FYVbsS223BUi",
        "outputId": "d6bcccc3-d5f1-4a81-8ce0-bf5e14ecb43f"
      },
      "source": [
        "fig, ax = plt.subplots()\n",
        "[plt.axvline(x = d_i, color=(0.1, index[i]*0.01, index[i]*0.01)) for i, d_i in enumerate(d)]\n",
        "plt.hist(x, color='lightgray')"
      ],
      "execution_count": null,
      "outputs": [
        {
          "output_type": "execute_result",
          "data": {
            "text/plain": [
              "(array([108., 279., 214., 166., 101.,  60.,  38.,  16.,  10.,   8.]),\n",
              " array([-0.20504574,  0.13421275,  0.47347125,  0.81272974,  1.15198823,\n",
              "         1.49124672,  1.83050521,  2.16976371,  2.5090222 ,  2.84828069,\n",
              "         3.18753918]),\n",
              " <a list of 10 Patch objects>)"
            ]
          },
          "metadata": {},
          "execution_count": 20
        },
        {
          "output_type": "display_data",
          "data": {
            "image/png": "[encoded data removed]",
            "text/plain": [
              "<Figure size 432x288 with 1 Axes>"
            ]
          },
          "metadata": {
            "needs_background": "light"
          }
        }
      ]
    },
    {
      "cell_type": "markdown",
      "metadata": {
        "id": "CDfy2Zd2tlDa"
      },
      "source": [
        "# 3.5 Box-and-Whisker Plots\n"
      ]
    },
    {
      "cell_type": "code",
      "metadata": {
        "id": "6ZPo72pwehDi",
        "colab": {
          "base_uri": "https://localhost:8080/",
          "height": 286
        },
        "outputId": "3c894fd0-bb34-46d2-8f9a-4498d1e8641d"
      },
      "source": [
        "a = st.skewnorm.rvs(3, size=1000)\n",
        "\n",
        "sb.set(style='whitegrid')\n",
        "sb.boxplot(x=a)"
      ],
      "execution_count": null,
      "outputs": [
        {
          "output_type": "execute_result",
          "data": {
            "text/plain": [
              "<matplotlib.axes._subplots.AxesSubplot at 0x7f88f7327bd0>"
            ]
          },
          "metadata": {},
          "execution_count": 21
        },
        {
          "output_type": "display_data",
          "data": {
            "image/png": "[encoded data removed]",
            "text/plain": [
              "<Figure size 432x288 with 1 Axes>"
            ]
          },
          "metadata": {}
        }
      ]
    },
    {
      "cell_type": "markdown",
      "metadata": {
        "id": "3Ze3XM7TasZs"
      },
      "source": [
        "## IQR (Inter-Quartile Range) - NumPy"
      ]
    },
    {
      "cell_type": "code",
      "metadata": {
        "colab": {
          "base_uri": "https://localhost:8080/"
        },
        "id": "tfRVUwstZEJf",
        "outputId": "9989e066-8497-4b04-a335-75a4ea7a2076"
      },
      "source": [
        "q_a = np.percentile(x, [25, 50, 75])\n",
        "q_a"
      ],
      "execution_count": null,
      "outputs": [
        {
          "output_type": "execute_result",
          "data": {
            "text/plain": [
              "array([0.30656123, 0.63984012, 1.11608081])"
            ]
          },
          "metadata": {},
          "execution_count": 22
        }
      ]
    },
    {
      "cell_type": "markdown",
      "metadata": {
        "id": "koZ3Qszha2IC"
      },
      "source": [
        "## IQR (Inter-Quartile Range) - Manual"
      ]
    },
    {
      "cell_type": "code",
      "metadata": {
        "colab": {
          "base_uri": "https://localhost:8080/"
        },
        "id": "EIH3w_vkZUKa",
        "outputId": "845b8259-1ed0-42a4-c968-dbca033e4a26"
      },
      "source": [
        "median = q_a[2] - np.abs(q_a[0])\n",
        "median"
      ],
      "execution_count": null,
      "outputs": [
        {
          "output_type": "execute_result",
          "data": {
            "text/plain": [
              "0.8095195747010931"
            ]
          },
          "metadata": {},
          "execution_count": 23
        }
      ]
    },
    {
      "cell_type": "code",
      "metadata": {
        "colab": {
          "base_uri": "https://localhost:8080/"
        },
        "id": "UUJGDBV-a6NR",
        "outputId": "7c38362f-998c-4ac3-d6f7-1d91cd216385"
      },
      "source": [
        "# upper limit\n",
        "q_a[0] - 1.5 * median"
      ],
      "execution_count": null,
      "outputs": [
        {
          "output_type": "execute_result",
          "data": {
            "text/plain": [
              "-0.907718129309783"
            ]
          },
          "metadata": {},
          "execution_count": 24
        }
      ]
    },
    {
      "cell_type": "code",
      "metadata": {
        "colab": {
          "base_uri": "https://localhost:8080/"
        },
        "id": "d1-25fhha6E2",
        "outputId": "5aaac1f4-37a5-41ab-93ae-770940d97cc4"
      },
      "source": [
        "# lower limit\n",
        "q_a[2] + 1.5 * median"
      ],
      "execution_count": null,
      "outputs": [
        {
          "output_type": "execute_result",
          "data": {
            "text/plain": [
              "2.3303601694945897"
            ]
          },
          "metadata": {},
          "execution_count": 25
        }
      ]
    },
    {
      "cell_type": "code",
      "metadata": {
        "colab": {
          "base_uri": "https://localhost:8080/"
        },
        "id": "vmfo7jz0a58I",
        "outputId": "78023f3a-8d02-41a5-b17c-f98e63fd3e83"
      },
      "source": [
        "np.round([np.max(a), np.min(a)], 2)"
      ],
      "execution_count": null,
      "outputs": [
        {
          "output_type": "execute_result",
          "data": {
            "text/plain": [
              "array([ 2.91, -0.63])"
            ]
          },
          "metadata": {},
          "execution_count": 26
        }
      ]
    },
    {
      "cell_type": "code",
      "metadata": {
        "colab": {
          "base_uri": "https://localhost:8080/",
          "height": 362
        },
        "id": "D5PuHluubsgZ",
        "outputId": "d73de25d-9e49-4b0f-fb44-a8eeace2937a"
      },
      "source": [
        "iris = sb.load_dataset('iris')\n",
        "iris[100:110]"
      ],
      "execution_count": null,
      "outputs": [
        {
          "output_type": "execute_result",
          "data": {
            "text/html": [
              "<div>\n",
              "<style scoped>\n",
              "    .dataframe tbody tr th:only-of-type {\n",
              "        vertical-align: middle;\n",
              "    }\n",
              "\n",
              "    .dataframe tbody tr th {\n",
              "        vertical-align: top;\n",
              "    }\n",
              "\n",
              "    .dataframe thead th {\n",
              "        text-align: right;\n",
              "    }\n",
              "</style>\n",
              "<table border=\"1\" class=\"dataframe\">\n",
              "  <thead>\n",
              "    <tr style=\"text-align: right;\">\n",
              "      <th></th>\n",
              "      <th>sepal_length</th>\n",
              "      <th>sepal_width</th>\n",
              "      <th>petal_length</th>\n",
              "      <th>petal_width</th>\n",
              "      <th>species</th>\n",
              "    </tr>\n",
              "  </thead>\n",
              "  <tbody>\n",
              "    <tr>\n",
              "      <th>100</th>\n",
              "      <td>6.3</td>\n",
              "      <td>3.3</td>\n",
              "      <td>6.0</td>\n",
              "      <td>2.5</td>\n",
              "      <td>virginica</td>\n",
              "    </tr>\n",
              "    <tr>\n",
              "      <th>101</th>\n",
              "      <td>5.8</td>\n",
              "      <td>2.7</td>\n",
              "      <td>5.1</td>\n",
              "      <td>1.9</td>\n",
              "      <td>virginica</td>\n",
              "    </tr>\n",
              "    <tr>\n",
              "      <th>102</th>\n",
              "      <td>7.1</td>\n",
              "      <td>3.0</td>\n",
              "      <td>5.9</td>\n",
              "      <td>2.1</td>\n",
              "      <td>virginica</td>\n",
              "    </tr>\n",
              "    <tr>\n",
              "      <th>103</th>\n",
              "      <td>6.3</td>\n",
              "      <td>2.9</td>\n",
              "      <td>5.6</td>\n",
              "      <td>1.8</td>\n",
              "      <td>virginica</td>\n",
              "    </tr>\n",
              "    <tr>\n",
              "      <th>104</th>\n",
              "      <td>6.5</td>\n",
              "      <td>3.0</td>\n",
              "      <td>5.8</td>\n",
              "      <td>2.2</td>\n",
              "      <td>virginica</td>\n",
              "    </tr>\n",
              "    <tr>\n",
              "      <th>105</th>\n",
              "      <td>7.6</td>\n",
              "      <td>3.0</td>\n",
              "      <td>6.6</td>\n",
              "      <td>2.1</td>\n",
              "      <td>virginica</td>\n",
              "    </tr>\n",
              "    <tr>\n",
              "      <th>106</th>\n",
              "      <td>4.9</td>\n",
              "      <td>2.5</td>\n",
              "      <td>4.5</td>\n",
              "      <td>1.7</td>\n",
              "      <td>virginica</td>\n",
              "    </tr>\n",
              "    <tr>\n",
              "      <th>107</th>\n",
              "      <td>7.3</td>\n",
              "      <td>2.9</td>\n",
              "      <td>6.3</td>\n",
              "      <td>1.8</td>\n",
              "      <td>virginica</td>\n",
              "    </tr>\n",
              "    <tr>\n",
              "      <th>108</th>\n",
              "      <td>6.7</td>\n",
              "      <td>2.5</td>\n",
              "      <td>5.8</td>\n",
              "      <td>1.8</td>\n",
              "      <td>virginica</td>\n",
              "    </tr>\n",
              "    <tr>\n",
              "      <th>109</th>\n",
              "      <td>7.2</td>\n",
              "      <td>3.6</td>\n",
              "      <td>6.1</td>\n",
              "      <td>2.5</td>\n",
              "      <td>virginica</td>\n",
              "    </tr>\n",
              "  </tbody>\n",
              "</table>\n",
              "</div>"
            ],
            "text/plain": [
              "     sepal_length  sepal_width  petal_length  petal_width    species\n",
              "100           6.3          3.3           6.0          2.5  virginica\n",
              "101           5.8          2.7           5.1          1.9  virginica\n",
              "102           7.1          3.0           5.9          2.1  virginica\n",
              "103           6.3          2.9           5.6          1.8  virginica\n",
              "104           6.5          3.0           5.8          2.2  virginica\n",
              "105           7.6          3.0           6.6          2.1  virginica\n",
              "106           4.9          2.5           4.5          1.7  virginica\n",
              "107           7.3          2.9           6.3          1.8  virginica\n",
              "108           6.7          2.5           5.8          1.8  virginica\n",
              "109           7.2          3.6           6.1          2.5  virginica"
            ]
          },
          "metadata": {},
          "execution_count": 27
        }
      ]
    },
    {
      "cell_type": "code",
      "metadata": {
        "colab": {
          "base_uri": "https://localhost:8080/",
          "height": 269
        },
        "id": "Wj2uxgstcATj",
        "outputId": "1f15499b-0342-4e4d-9e3c-ed1221697692"
      },
      "source": [
        "_ = sb.boxplot(data=iris)"
      ],
      "execution_count": null,
      "outputs": [
        {
          "output_type": "display_data",
          "data": {
            "image/png": "[encoded data removed]",
            "text/plain": [
              "<Figure size 432x288 with 1 Axes>"
            ]
          },
          "metadata": {}
        }
      ]
    },
    {
      "cell_type": "markdown",
      "metadata": {
        "id": "TC1iUCcucnWt"
      },
      "source": [
        "Boxplot tells a lot about the distribution of a dataset. \n",
        "- ```sepal_length``` tends to be the longest.\n",
        "- ```sepal_width``` is close to (most concentrated about) the median. \n",
        "- ```petal_length``` is the most spread out from the median.\n",
        "- ```petla_width``` is the shortest compared to other categories of the flower properties."
      ]
    },
    {
      "cell_type": "code",
      "metadata": {
        "colab": {
          "base_uri": "https://localhost:8080/",
          "height": 205
        },
        "id": "ESx-I9aVdB5T",
        "outputId": "5900b169-0537-4ce5-fb1c-6193bccb352c"
      },
      "source": [
        "tips = sb.load_dataset('tips')\n",
        "tips[100:105]"
      ],
      "execution_count": null,
      "outputs": [
        {
          "output_type": "execute_result",
          "data": {
            "text/html": [
              "<div>\n",
              "<style scoped>\n",
              "    .dataframe tbody tr th:only-of-type {\n",
              "        vertical-align: middle;\n",
              "    }\n",
              "\n",
              "    .dataframe tbody tr th {\n",
              "        vertical-align: top;\n",
              "    }\n",
              "\n",
              "    .dataframe thead th {\n",
              "        text-align: right;\n",
              "    }\n",
              "</style>\n",
              "<table border=\"1\" class=\"dataframe\">\n",
              "  <thead>\n",
              "    <tr style=\"text-align: right;\">\n",
              "      <th></th>\n",
              "      <th>total_bill</th>\n",
              "      <th>tip</th>\n",
              "      <th>sex</th>\n",
              "      <th>smoker</th>\n",
              "      <th>day</th>\n",
              "      <th>time</th>\n",
              "      <th>size</th>\n",
              "    </tr>\n",
              "  </thead>\n",
              "  <tbody>\n",
              "    <tr>\n",
              "      <th>100</th>\n",
              "      <td>11.35</td>\n",
              "      <td>2.50</td>\n",
              "      <td>Female</td>\n",
              "      <td>Yes</td>\n",
              "      <td>Fri</td>\n",
              "      <td>Dinner</td>\n",
              "      <td>2</td>\n",
              "    </tr>\n",
              "    <tr>\n",
              "      <th>101</th>\n",
              "      <td>15.38</td>\n",
              "      <td>3.00</td>\n",
              "      <td>Female</td>\n",
              "      <td>Yes</td>\n",
              "      <td>Fri</td>\n",
              "      <td>Dinner</td>\n",
              "      <td>2</td>\n",
              "    </tr>\n",
              "    <tr>\n",
              "      <th>102</th>\n",
              "      <td>44.30</td>\n",
              "      <td>2.50</td>\n",
              "      <td>Female</td>\n",
              "      <td>Yes</td>\n",
              "      <td>Sat</td>\n",
              "      <td>Dinner</td>\n",
              "      <td>3</td>\n",
              "    </tr>\n",
              "    <tr>\n",
              "      <th>103</th>\n",
              "      <td>22.42</td>\n",
              "      <td>3.48</td>\n",
              "      <td>Female</td>\n",
              "      <td>Yes</td>\n",
              "      <td>Sat</td>\n",
              "      <td>Dinner</td>\n",
              "      <td>2</td>\n",
              "    </tr>\n",
              "    <tr>\n",
              "      <th>104</th>\n",
              "      <td>20.92</td>\n",
              "      <td>4.08</td>\n",
              "      <td>Female</td>\n",
              "      <td>No</td>\n",
              "      <td>Sat</td>\n",
              "      <td>Dinner</td>\n",
              "      <td>2</td>\n",
              "    </tr>\n",
              "  </tbody>\n",
              "</table>\n",
              "</div>"
            ],
            "text/plain": [
              "     total_bill   tip     sex smoker  day    time  size\n",
              "100       11.35  2.50  Female    Yes  Fri  Dinner     2\n",
              "101       15.38  3.00  Female    Yes  Fri  Dinner     2\n",
              "102       44.30  2.50  Female    Yes  Sat  Dinner     3\n",
              "103       22.42  3.48  Female    Yes  Sat  Dinner     2\n",
              "104       20.92  4.08  Female     No  Sat  Dinner     2"
            ]
          },
          "metadata": {},
          "execution_count": 29
        }
      ]
    },
    {
      "cell_type": "code",
      "metadata": {
        "colab": {
          "base_uri": "https://localhost:8080/",
          "height": 394
        },
        "id": "fcVpyeCxdhXh",
        "outputId": "3be91c08-5a13-46a5-85a5-7d23d8768c5c"
      },
      "source": [
        "fig, ax = plt.subplots(1, 2, figsize=(15, 6))\n",
        "\n",
        "sb.boxplot(x='day', y='total_bill', hue='day', data=tips, ax=ax[0])\n",
        "sb.boxplot(x='day', y='total_bill', hue='smoker', data=tips, ax=ax[1])\n",
        "plt.show()"
      ],
      "execution_count": null,
      "outputs": [
        {
          "output_type": "display_data",
          "data": {
            "image/png": "[encoded data removed]",
            "text/plain": [
              "<Figure size 1080x432 with 2 Axes>"
            ]
          },
          "metadata": {}
        }
      ]
    },
    {
      "cell_type": "markdown",
      "metadata": {
        "id": "UPZjP2kheox7"
      },
      "source": [
        "- Friday saw the lowest maximum tip compared to the other days. \n",
        "- The greatest amount of tip given on Friday was from a smoker.\n",
        "- Saturday and sundays tip tend to range highest. \n",
        "- Looks like smokers are more generous tippers than non-smokers(considering the both the IQR and Q3 ranges). "
      ]
    },
    {
      "cell_type": "code",
      "metadata": {
        "colab": {
          "base_uri": "https://localhost:8080/",
          "height": 303
        },
        "id": "7g0VYUhSfTot",
        "outputId": "4f311d07-03de-49a4-bb74-71e4cd282bd8"
      },
      "source": [
        "sb.boxplot(x='day', y='total_bill', hue='sex', data=tips)"
      ],
      "execution_count": null,
      "outputs": [
        {
          "output_type": "execute_result",
          "data": {
            "text/plain": [
              "<matplotlib.axes._subplots.AxesSubplot at 0x7f88d37fc310>"
            ]
          },
          "metadata": {},
          "execution_count": 31
        },
        {
          "output_type": "display_data",
          "data": {
            "image/png": "[encoded data removed]",
            "text/plain": [
              "<Figure size 432x288 with 1 Axes>"
            ]
          },
          "metadata": {}
        }
      ]
    },
    {
      "cell_type": "markdown",
      "metadata": {
        "id": "ltdagB6Gfe1b"
      },
      "source": [
        "- Males are more generous tippers than females.\n",
        "- Men tend to tip more on weeknds starting from Friday."
      ]
    },
    {
      "cell_type": "markdown",
      "metadata": {
        "id": "dnSVfarvYPFM"
      },
      "source": [
        "# 3.6 Variance, a Measure of Dispersion\n",
        "\n",
        "Variance (denoted with $\\sigma^2$) can be written using expected-value notation, but it's easier to understand without it: \n",
        "\n",
        "$$\\sigma ^2 = f\\frac{\\sum_{i=1}^{n}(x_i - \\bar{x})^2}{n}$$"
      ]
    },
    {
      "cell_type": "markdown",
      "metadata": {
        "id": "MgTQgpz3heww"
      },
      "source": [
        "## Manual computation"
      ]
    },
    {
      "cell_type": "code",
      "metadata": {
        "colab": {
          "base_uri": "https://localhost:8080/"
        },
        "id": "oB2vCYd8bo5V",
        "outputId": "9f7fcb79-79aa-431e-b28e-83ea428146e1"
      },
      "source": [
        "xbar = np.mean(x)\n",
        "xbar"
      ],
      "execution_count": null,
      "outputs": [
        {
          "output_type": "execute_result",
          "data": {
            "text/plain": [
              "0.7843720194620463"
            ]
          },
          "metadata": {},
          "execution_count": 32
        }
      ]
    },
    {
      "cell_type": "code",
      "metadata": {
        "colab": {
          "base_uri": "https://localhost:8080/"
        },
        "id": "zwpduGBahD4V",
        "outputId": "48bb0bd3-9af6-4afe-a6d5-9e79ed6ce8a2"
      },
      "source": [
        "squared_differences = [(x_i - xbar)**2 for x_i in x]\n",
        "squared_differences[:10]"
      ],
      "execution_count": null,
      "outputs": [
        {
          "output_type": "execute_result",
          "data": {
            "text/plain": [
              "[0.02440786825695681,\n",
              " 0.3010009871574879,\n",
              " 0.0008905070435172892,\n",
              " 0.12253487036786774,\n",
              " 1.3138507927739849,\n",
              " 0.18697071056554035,\n",
              " 0.07507369995572812,\n",
              " 0.24037106839293748,\n",
              " 2.7240848615188,\n",
              " 0.13921011842318468]"
            ]
          },
          "metadata": {},
          "execution_count": 33
        }
      ]
    },
    {
      "cell_type": "code",
      "metadata": {
        "colab": {
          "base_uri": "https://localhost:8080/"
        },
        "id": "8j_D2CdOhQyU",
        "outputId": "ec893539-bba6-4ba3-901c-f24126928051"
      },
      "source": [
        "sigma_squared = sum(squared_differences) / len(x)\n",
        "sigma_squared"
      ],
      "execution_count": null,
      "outputs": [
        {
          "output_type": "execute_result",
          "data": {
            "text/plain": [
              "0.38466345572831334"
            ]
          },
          "metadata": {},
          "execution_count": 34
        }
      ]
    },
    {
      "cell_type": "markdown",
      "metadata": {
        "id": "2S4W8FoLhgiv"
      },
      "source": [
        "## NumPy variance"
      ]
    },
    {
      "cell_type": "code",
      "metadata": {
        "colab": {
          "base_uri": "https://localhost:8080/"
        },
        "id": "2PCQq8JDhh0J",
        "outputId": "07a0beda-bf04-482f-ee94-bb862338dac6"
      },
      "source": [
        "np.var(x)"
      ],
      "execution_count": null,
      "outputs": [
        {
          "output_type": "execute_result",
          "data": {
            "text/plain": [
              "0.3846634557283131"
            ]
          },
          "metadata": {},
          "execution_count": 35
        }
      ]
    },
    {
      "cell_type": "markdown",
      "metadata": {
        "id": "NFwJWrFIbk31"
      },
      "source": [
        "# 3.7 Standard Deviation\n",
        "$$\\sigma = \\sqrt{\\sigma^2} = \\sqrt{f\\frac{\\sum_{i=1}^{n}(x_i - \\bar{x})^2}{n}}$$\n",
        "\n"
      ]
    },
    {
      "cell_type": "code",
      "metadata": {
        "id": "0dGP0PRvbpVE",
        "colab": {
          "base_uri": "https://localhost:8080/"
        },
        "outputId": "ed3828b6-b135-4973-be42-53ed5cacbb34"
      },
      "source": [
        "sigma = sigma_squared**(1/2)\n",
        "sigma"
      ],
      "execution_count": 37,
      "outputs": [
        {
          "output_type": "execute_result",
          "data": {
            "text/plain": [
              "0.6202124279054019"
            ]
          },
          "metadata": {},
          "execution_count": 37
        }
      ]
    },
    {
      "cell_type": "code",
      "metadata": {
        "colab": {
          "base_uri": "https://localhost:8080/"
        },
        "id": "gSDjn9dfHKb3",
        "outputId": "1e368081-86f1-447a-9c2d-b2ceabc40f46"
      },
      "source": [
        "np.std(x)"
      ],
      "execution_count": 38,
      "outputs": [
        {
          "output_type": "execute_result",
          "data": {
            "text/plain": [
              "0.6202124279054018"
            ]
          },
          "metadata": {},
          "execution_count": 38
        }
      ]
    },
    {
      "cell_type": "code",
      "metadata": {
        "colab": {
          "base_uri": "https://localhost:8080/",
          "height": 268
        },
        "id": "OQCm08NGHTIe",
        "outputId": "1b99bc90-bbcf-4d42-8c61-12d35c2880ad"
      },
      "source": [
        "fig, ax = plt.subplots()\n",
        "plt.axvline(x = xbar, color='orange')                       # mean of the distribution\n",
        "plt.axvline(x = xbar+sigma, color='olivedrab',linewidth=3)  # 1 std to the right\n",
        "plt.axvline(x = xbar-sigma, color='olivedrab',linewidth=3)  # 1 std to the left\n",
        "_ = plt.hist(x, color = 'lightgray')"
      ],
      "execution_count": 40,
      "outputs": [
        {
          "output_type": "display_data",
          "data": {
            "image/png": "[encoded data removed]",
            "text/plain": [
              "<Figure size 432x288 with 1 Axes>"
            ]
          },
          "metadata": {}
        }
      ]
    },
    {
      "cell_type": "markdown",
      "metadata": {
        "id": "NgdtHxEvbmmn"
      },
      "source": [
        "# 3.8 Standard Error\n",
        "A further derivation of standard deviation is **standard error**, which is denoted with \\sigma_{\\bar x}:\n",
        "\n",
        "$$\\sigma_{\\bar x} = \\frac{\\sigma}{\\sqrt n}$$\n",
        "\n",
        "Standard error tells us whether the distribution of two sets of data significantly vary from each other.\n",
        "- it gives us the clue to decide whether the two datasets are two differnt phenomena. \n",
        "- \"The standard error (SE) of a statistic (usually an estimate of a parameter) is the standard deviation of its sampling distribution or an estimate of that standard deviation. If the statistic is the sample mean, it is called the standard error of the mean (SEM)([Wikipedia](https://en.wikipedia.org/wiki/Standard_error)).\""
      ]
    },
    {
      "cell_type": "code",
      "metadata": {
        "id": "XexFDnztbpo7",
        "colab": {
          "base_uri": "https://localhost:8080/"
        },
        "outputId": "a4a8d4e2-6b2c-4af9-b331-cfe213bf6976"
      },
      "source": [
        "sigma / (len(x))**(1/2)"
      ],
      "execution_count": 41,
      "outputs": [
        {
          "output_type": "execute_result",
          "data": {
            "text/plain": [
              "0.01961283905324044"
            ]
          },
          "metadata": {},
          "execution_count": 41
        }
      ]
    },
    {
      "cell_type": "code",
      "metadata": {
        "colab": {
          "base_uri": "https://localhost:8080/"
        },
        "id": "AIt2qN2aIv3g",
        "outputId": "87faf7ae-6370-4d62-e816-271013b45d24"
      },
      "source": [
        "st.sem(x) # defaults to 1 degree of freedom (n-1), which can be ignored with the larger data sets of ML"
      ],
      "execution_count": 42,
      "outputs": [
        {
          "output_type": "execute_result",
          "data": {
            "text/plain": [
              "0.01962265283371608"
            ]
          },
          "metadata": {},
          "execution_count": 42
        }
      ]
    },
    {
      "cell_type": "code",
      "metadata": {
        "colab": {
          "base_uri": "https://localhost:8080/"
        },
        "id": "vN0oyHfJIy98",
        "outputId": "01941a7b-204f-4805-8a13-653a30073865"
      },
      "source": [
        "st.sem(x, ddof=0) # 0 degrees of freedom (n)"
      ],
      "execution_count": 43,
      "outputs": [
        {
          "output_type": "execute_result",
          "data": {
            "text/plain": [
              "0.019612839053240436"
            ]
          },
          "metadata": {},
          "execution_count": 43
        }
      ]
    },
    {
      "cell_type": "markdown",
      "metadata": {
        "id": "3GSBsc3mbn8-"
      },
      "source": [
        "# 3.9 Covariance, a Measure of Relatedness\n",
        "\n",
        "If we have two vectors of the same length, $x$ and $y$, where each element of $x$ is paired with the corresponding element of $y$, covariance provides a measure of how related the variables are to each other: \n",
        "\n",
        "$$cov(x, y) = \\frac{\\sum_{i=1}^{n}(x_i - \\bar{x})(y_i - \\bar{y})}{n}$$\n",
        "\n",
        "- sum of $variance(x) \\times variance (y)$ divided by $length(n)$"
      ]
    },
    {
      "cell_type": "markdown",
      "metadata": {
        "id": "5wNK0Rv3LMdg"
      },
      "source": [
        "Taking the ```iris``` dataset as an example, a specific ```sepal_length``` is associated with a specific ```petal_length```. Therefore, it makes sense to investigate the correlation between these two features. Look at the ```iris``` dataset below."
      ]
    },
    {
      "cell_type": "code",
      "metadata": {
        "id": "Od-Wj9APbqFN",
        "colab": {
          "base_uri": "https://localhost:8080/",
          "height": 422
        },
        "outputId": "1997c172-ddcf-442f-9e49-95def70e820e"
      },
      "source": [
        "iris"
      ],
      "execution_count": 44,
      "outputs": [
        {
          "output_type": "execute_result",
          "data": {
            "text/html": [
              "<div>\n",
              "<style scoped>\n",
              "    .dataframe tbody tr th:only-of-type {\n",
              "        vertical-align: middle;\n",
              "    }\n",
              "\n",
              "    .dataframe tbody tr th {\n",
              "        vertical-align: top;\n",
              "    }\n",
              "\n",
              "    .dataframe thead th {\n",
              "        text-align: right;\n",
              "    }\n",
              "</style>\n",
              "<table border=\"1\" class=\"dataframe\">\n",
              "  <thead>\n",
              "    <tr style=\"text-align: right;\">\n",
              "      <th></th>\n",
              "      <th>sepal_length</th>\n",
              "      <th>sepal_width</th>\n",
              "      <th>petal_length</th>\n",
              "      <th>petal_width</th>\n",
              "      <th>species</th>\n",
              "    </tr>\n",
              "  </thead>\n",
              "  <tbody>\n",
              "    <tr>\n",
              "      <th>0</th>\n",
              "      <td>5.1</td>\n",
              "      <td>3.5</td>\n",
              "      <td>1.4</td>\n",
              "      <td>0.2</td>\n",
              "      <td>setosa</td>\n",
              "    </tr>\n",
              "    <tr>\n",
              "      <th>1</th>\n",
              "      <td>4.9</td>\n",
              "      <td>3.0</td>\n",
              "      <td>1.4</td>\n",
              "      <td>0.2</td>\n",
              "      <td>setosa</td>\n",
              "    </tr>\n",
              "    <tr>\n",
              "      <th>2</th>\n",
              "      <td>4.7</td>\n",
              "      <td>3.2</td>\n",
              "      <td>1.3</td>\n",
              "      <td>0.2</td>\n",
              "      <td>setosa</td>\n",
              "    </tr>\n",
              "    <tr>\n",
              "      <th>3</th>\n",
              "      <td>4.6</td>\n",
              "      <td>3.1</td>\n",
              "      <td>1.5</td>\n",
              "      <td>0.2</td>\n",
              "      <td>setosa</td>\n",
              "    </tr>\n",
              "    <tr>\n",
              "      <th>4</th>\n",
              "      <td>5.0</td>\n",
              "      <td>3.6</td>\n",
              "      <td>1.4</td>\n",
              "      <td>0.2</td>\n",
              "      <td>setosa</td>\n",
              "    </tr>\n",
              "    <tr>\n",
              "      <th>...</th>\n",
              "      <td>...</td>\n",
              "      <td>...</td>\n",
              "      <td>...</td>\n",
              "      <td>...</td>\n",
              "      <td>...</td>\n",
              "    </tr>\n",
              "    <tr>\n",
              "      <th>145</th>\n",
              "      <td>6.7</td>\n",
              "      <td>3.0</td>\n",
              "      <td>5.2</td>\n",
              "      <td>2.3</td>\n",
              "      <td>virginica</td>\n",
              "    </tr>\n",
              "    <tr>\n",
              "      <th>146</th>\n",
              "      <td>6.3</td>\n",
              "      <td>2.5</td>\n",
              "      <td>5.0</td>\n",
              "      <td>1.9</td>\n",
              "      <td>virginica</td>\n",
              "    </tr>\n",
              "    <tr>\n",
              "      <th>147</th>\n",
              "      <td>6.5</td>\n",
              "      <td>3.0</td>\n",
              "      <td>5.2</td>\n",
              "      <td>2.0</td>\n",
              "      <td>virginica</td>\n",
              "    </tr>\n",
              "    <tr>\n",
              "      <th>148</th>\n",
              "      <td>6.2</td>\n",
              "      <td>3.4</td>\n",
              "      <td>5.4</td>\n",
              "      <td>2.3</td>\n",
              "      <td>virginica</td>\n",
              "    </tr>\n",
              "    <tr>\n",
              "      <th>149</th>\n",
              "      <td>5.9</td>\n",
              "      <td>3.0</td>\n",
              "      <td>5.1</td>\n",
              "      <td>1.8</td>\n",
              "      <td>virginica</td>\n",
              "    </tr>\n",
              "  </tbody>\n",
              "</table>\n",
              "<p>150 rows × 5 columns</p>\n",
              "</div>"
            ],
            "text/plain": [
              "     sepal_length  sepal_width  petal_length  petal_width    species\n",
              "0             5.1          3.5           1.4          0.2     setosa\n",
              "1             4.9          3.0           1.4          0.2     setosa\n",
              "2             4.7          3.2           1.3          0.2     setosa\n",
              "3             4.6          3.1           1.5          0.2     setosa\n",
              "4             5.0          3.6           1.4          0.2     setosa\n",
              "..            ...          ...           ...          ...        ...\n",
              "145           6.7          3.0           5.2          2.3  virginica\n",
              "146           6.3          2.5           5.0          1.9  virginica\n",
              "147           6.5          3.0           5.2          2.0  virginica\n",
              "148           6.2          3.4           5.4          2.3  virginica\n",
              "149           5.9          3.0           5.1          1.8  virginica\n",
              "\n",
              "[150 rows x 5 columns]"
            ]
          },
          "metadata": {},
          "execution_count": 44
        }
      ]
    },
    {
      "cell_type": "markdown",
      "metadata": {
        "id": "wP0EdWL5RtgM"
      },
      "source": [
        "## Manual covariance"
      ]
    },
    {
      "cell_type": "code",
      "metadata": {
        "id": "Z62lkAw_K9_Z"
      },
      "source": [
        "x = iris.sepal_length\n",
        "y = iris.petal_length"
      ],
      "execution_count": 45,
      "outputs": []
    },
    {
      "cell_type": "code",
      "metadata": {
        "id": "traKSpqwMaKi"
      },
      "source": [
        "target = []\n",
        "for i in range(len(iris.species)):\n",
        "    if (iris.species[i] == \"setosa\"):\n",
        "        target.append(1)\n",
        "    elif (iris.species[i] == \"versicolor\"):\n",
        "        target.append(2)\n",
        "    else:\n",
        "        target.append(3)"
      ],
      "execution_count": 92,
      "outputs": []
    },
    {
      "cell_type": "code",
      "metadata": {
        "colab": {
          "base_uri": "https://localhost:8080/",
          "height": 291
        },
        "id": "GSsDMlHnLh9j",
        "outputId": "080b28e5-cae8-4688-9c41-89aadf154f56"
      },
      "source": [
        "fig, ax = plt.subplots(1, 2, figsize=(15, 5))\n",
        "sb.scatterplot(x=x, y=y, ax=ax[0])\n",
        "sb.scatterplot(x=x, y=y, c=target, ax=ax[1])"
      ],
      "execution_count": 97,
      "outputs": [
        {
          "output_type": "execute_result",
          "data": {
            "text/plain": [
              "<matplotlib.axes._subplots.AxesSubplot at 0x7f88ccaa6e90>"
            ]
          },
          "metadata": {},
          "execution_count": 97
        },
        {
          "output_type": "display_data",
          "data": {
            "image/png": "[encoded data removed]",
            "text/plain": [
              "<Figure size 1080x360 with 2 Axes>"
            ]
          },
          "metadata": {}
        }
      ]
    },
    {
      "cell_type": "code",
      "metadata": {
        "id": "n-4040v1Pnfv"
      },
      "source": [
        "n = len(iris.sepal_width)"
      ],
      "execution_count": 98,
      "outputs": []
    },
    {
      "cell_type": "code",
      "metadata": {
        "colab": {
          "base_uri": "https://localhost:8080/"
        },
        "id": "GJXUux8IPq_6",
        "outputId": "dc63ccc8-6d65-4f96-b1bc-847940d71d10"
      },
      "source": [
        "xbar = sum(x)/n\n",
        "ybar = sum(y)/n\n",
        "\n",
        "xbar, ybar"
      ],
      "execution_count": 99,
      "outputs": [
        {
          "output_type": "execute_result",
          "data": {
            "text/plain": [
              "(5.843333333333335, 3.7580000000000027)"
            ]
          },
          "metadata": {},
          "execution_count": 99
        }
      ]
    },
    {
      "cell_type": "code",
      "metadata": {
        "colab": {
          "base_uri": "https://localhost:8080/"
        },
        "id": "xdaAmN55P3n2",
        "outputId": "44c3a4aa-a768-4070-a84c-2fc8b4eec61e"
      },
      "source": [
        "x_diff = [(x_i-xbar) for x_i in x]\n",
        "y_diff = [(y_i-xbar) for y_i in y]\n",
        "\n",
        "xy_product = []\n",
        "for i in range(n):\n",
        "    xy_product.append(x_diff[i]*y_diff[i])\n",
        "cov_iris = sum(xy_product)/n\n",
        "cov_iris\n",
        "\n",
        "# one-liner: product.append((x[i]-xbar)*(y[i]-ybar))"
      ],
      "execution_count": 110,
      "outputs": [
        {
          "output_type": "execute_result",
          "data": {
            "text/plain": [
              "1.2658200000000028"
            ]
          },
          "metadata": {},
          "execution_count": 110
        }
      ]
    },
    {
      "cell_type": "markdown",
      "metadata": {
        "id": "-FJ5MhjBRzSu"
      },
      "source": [
        "## NumPy Covariance\n",
        "\n",
        "The NumPy cov() method returns a covariance matrix, which is a $2 \\times 2$ matrix because $x$ and $y$ together describe a two-dimensional space:\n"
      ]
    },
    {
      "cell_type": "code",
      "metadata": {
        "colab": {
          "base_uri": "https://localhost:8080/"
        },
        "id": "CH99m14TRrUw",
        "outputId": "938cc20e-7812-4983-e5c5-1acd817c31d9"
      },
      "source": [
        "np.cov(x, y, ddof=0)    # again, defaults to ddof=1\n",
        "\n",
        "# [variance x, covariance] # positive covariance = positive relationship\n",
        "# [covariance, variance y] # nevative covariance = nevative relationship"
      ],
      "execution_count": 111,
      "outputs": [
        {
          "output_type": "execute_result",
          "data": {
            "text/plain": [
              "array([[0.68112222, 1.26582   ],\n",
              "       [1.26582   , 3.09550267]])"
            ]
          },
          "metadata": {},
          "execution_count": 111
        }
      ]
    },
    {
      "cell_type": "code",
      "metadata": {
        "colab": {
          "base_uri": "https://localhost:8080/"
        },
        "id": "dPBF0hBlSdHR",
        "outputId": "4a7a3423-835f-43c3-9095-666c02be5e0e"
      },
      "source": [
        "np.var(x), np.var(y), (np.var(x)*np.var(y)/2) "
      ],
      "execution_count": 115,
      "outputs": [
        {
          "output_type": "execute_result",
          "data": {
            "text/plain": [
              "(0.6811222222222222, 3.0955026666666674, 1.0542078276074076)"
            ]
          },
          "metadata": {},
          "execution_count": 115
        }
      ]
    },
    {
      "cell_type": "markdown",
      "metadata": {
        "id": "V1mruPdoS4XQ"
      },
      "source": [
        "If $x$ and $y$ are inversely related, their covariance is negative. The less related they are, the closer their covariance is to zero:"
      ]
    },
    {
      "cell_type": "code",
      "metadata": {
        "colab": {
          "base_uri": "https://localhost:8080/",
          "height": 287
        },
        "id": "hzODFROXTCjf",
        "outputId": "d5e39758-148c-4e02-bf10-55f0449f64e5"
      },
      "source": [
        "_ = sb.scatterplot(x=iris.sepal_length, y=iris.sepal_width)"
      ],
      "execution_count": 117,
      "outputs": [
        {
          "output_type": "display_data",
          "data": {
            "image/png": "[encoded data removed]",
            "text/plain": [
              "<Figure size 432x288 with 1 Axes>"
            ]
          },
          "metadata": {}
        }
      ]
    },
    {
      "cell_type": "code",
      "metadata": {
        "colab": {
          "base_uri": "https://localhost:8080/"
        },
        "id": "9AqkYoMDTOK3",
        "outputId": "75e8dd04-de54-4d6a-b297-4e2fbbc25197"
      },
      "source": [
        "cov_sepal = np.cov(iris.sepal_length, iris.sepal_width, ddof=0)\n",
        "cov_sepal"
      ],
      "execution_count": 119,
      "outputs": [
        {
          "output_type": "execute_result",
          "data": {
            "text/plain": [
              "array([[ 0.68112222, -0.04215111],\n",
              "       [-0.04215111,  0.18871289]])"
            ]
          },
          "metadata": {},
          "execution_count": 119
        }
      ]
    },
    {
      "cell_type": "markdown",
      "metadata": {
        "id": "zhpLTOjntjRI"
      },
      "source": [
        "# 3.10. Correlation\n",
        "A derivation of covariance\n",
        "\n",
        "- A drawback of covariance is that it confounds the relative scale of two variables with a measure of the variables' relatedness. Correlation builds on covariance and overcomes this drawback via **rescaling**, thereby measuring relatedness exclusively. Correlation is much more common because of this difference.\n",
        "\n",
        "The correlation coefficient (developed by Karl Pearson in the 20th c. though known in the 19th c.) is often denoted with $r$ or $\\rho$ and is defined by: \n",
        "\n",
        "$$\\rho _{x, y}=\\frac{cov(x,y)}{\\sigma_x\\sigma_y}$$\n",
        "\n",
        "N.B.: Covariance and correlation only account for linear relationships. Two variables could be non-linearly related to each other and these metrics could come out as zero.\n"
      ]
    },
    {
      "cell_type": "markdown",
      "metadata": {
        "id": "dR3YcLFfWbKH"
      },
      "source": [
        "## Manual correlation"
      ]
    },
    {
      "cell_type": "code",
      "metadata": {
        "id": "bdB2OEg8eg__",
        "colab": {
          "base_uri": "https://localhost:8080/"
        },
        "outputId": "82fe2e56-ebc1-4a82-8889-52268b62ee00"
      },
      "source": [
        "cov = cov_sepal[0][1]\n",
        "sigma_sq_x = cov_sepal[0][0]\n",
        "sigma_sq_y = cov_sepal[1][1]\n",
        "\n",
        "cov, sigma_sq_x, sigma_sq_y"
      ],
      "execution_count": 124,
      "outputs": [
        {
          "output_type": "execute_result",
          "data": {
            "text/plain": [
              "(-0.042151111111111104, 0.6811222222222221, 0.18871288888888882)"
            ]
          },
          "metadata": {},
          "execution_count": 124
        }
      ]
    },
    {
      "cell_type": "code",
      "metadata": {
        "colab": {
          "base_uri": "https://localhost:8080/"
        },
        "id": "Xn0ewOtxVkOU",
        "outputId": "633e2636-4150-4ecf-e871-c027abcd27c3"
      },
      "source": [
        "sigma_x = sigma_sq_x**(1/2)\n",
        "sigma_y = sigma_sq_y**(1/2)\n",
        "\n",
        "sigma_x, sigma_y"
      ],
      "execution_count": 125,
      "outputs": [
        {
          "output_type": "execute_result",
          "data": {
            "text/plain": [
              "(0.8253012917851408, 0.4344109677354945)"
            ]
          },
          "metadata": {},
          "execution_count": 125
        }
      ]
    },
    {
      "cell_type": "markdown",
      "metadata": {
        "id": "P3qTzpCVWO4o"
      },
      "source": [
        "We are now controlling for the differing variance. So these differing variances no longer have an impact on our measure of the relatedness of X and Y. "
      ]
    },
    {
      "cell_type": "code",
      "metadata": {
        "colab": {
          "base_uri": "https://localhost:8080/"
        },
        "id": "gySj_wPbWB2T",
        "outputId": "0f64e2c6-df68-4f6e-d5eb-a1d5962ba96b"
      },
      "source": [
        "corr = cov / (sigma_x*sigma_y)\n",
        "corr"
      ],
      "execution_count": 127,
      "outputs": [
        {
          "output_type": "execute_result",
          "data": {
            "text/plain": [
              "-0.11756978413300208"
            ]
          },
          "metadata": {},
          "execution_count": 127
        }
      ]
    },
    {
      "cell_type": "markdown",
      "metadata": {
        "id": "BP5Cxfw2WdWb"
      },
      "source": [
        "## NumPy correlation"
      ]
    },
    {
      "cell_type": "code",
      "metadata": {
        "colab": {
          "base_uri": "https://localhost:8080/"
        },
        "id": "AlgNe7LWWoR5",
        "outputId": "cce28106-03e3-43a0-abe0-a50a554073f0"
      },
      "source": [
        "corr_pearson = st.pearsonr(iris.sepal_length, iris.sepal_width)\n",
        "\n",
        "print(corr)         # no significant correlation\n",
        "print(corr_pearson)\n",
        "print(np.round(corr,3) == np.round(corr_pearson[0], 3))"
      ],
      "execution_count": 133,
      "outputs": [
        {
          "output_type": "stream",
          "name": "stdout",
          "text": [
            "-0.11756978413300208\n",
            "(-0.11756978413300206, 0.15189826071144766)\n",
            "True\n"
          ]
        }
      ]
    },
    {
      "cell_type": "code",
      "metadata": {
        "colab": {
          "base_uri": "https://localhost:8080/"
        },
        "id": "IPDXucjVXMXX",
        "outputId": "7ecc27ab-4c7b-4173-f015-d5876aac3322"
      },
      "source": [
        "corr_petal = st.pearsonr(iris.sepal_length, iris.petal_length)\n",
        "corr_petal[0]   # strong correlation "
      ],
      "execution_count": 135,
      "outputs": [
        {
          "output_type": "execute_result",
          "data": {
            "text/plain": [
              "0.8717537758865831"
            ]
          },
          "metadata": {},
          "execution_count": 135
        }
      ]
    },
    {
      "cell_type": "markdown",
      "metadata": {
        "id": "elxDS14MZjIH"
      },
      "source": [
        "# Frequent Functions\n",
        "- ```st.mode(heads_count)```\n",
        "  - ```import scipy.stats as st```\n",
        "- ```st.skewnorm.rvs(skewness=0, size=1000)```\n",
        "  - ```0 means no skewness+```\n",
        "- ```np.quantile(x, 0.5)```: 2nd arg ranges 0 ~ 1.\n",
        "- ```np.percentile(x, [95, 99])```: 2nd arg ranges 0 ~ 100.\n",
        "- ```sb.boxplot(x=, y=, hue=category, data=dataset, ax=ax[0])```\n",
        "  - ```ax```: for allocating a plot to a specific subplot.\n",
        "- ```scatter plot```\n",
        "    - ```sb.scatterplot(x=x, y=y)```\n",
        "    - ```plt.scatter(x, y, c=c)```\n",
        "- ```st.pearsonr(x, y)```"
      ]
    }
  ]
}
