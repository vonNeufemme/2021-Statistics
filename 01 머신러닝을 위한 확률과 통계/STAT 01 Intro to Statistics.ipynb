{
  "nbformat": 4,
  "nbformat_minor": 0,
  "metadata": {
    "colab": {
      "name": "STAT 01 Intro to Statistics.ipynb",
      "provenance": [],
      "collapsed_sections": []
    },
    "kernelspec": {
      "name": "python3",
      "display_name": "Python 3"
    },
    "language_info": {
      "name": "python"
    }
  },
  "cells": [
    {
      "cell_type": "markdown",
      "metadata": {
        "id": "cisZtoQqbB-t"
      },
      "source": [
        "References\n",
        "\n",
        "My Statistics learning notebook following the live lesson series [**\"Probability and Statistics for Machine Learning\"**](https://learning.oreilly.com/videos/probability-and-statistics/9780137566273/) by Dr. Jon Krohn. I adapted some and partially modified or added entirely new code. Notes largely based on and from Jon's notebooks and learning materials. The lesson and original notebook source code at:\n",
        "\n",
        "https://learning.oreilly.com/videos/probability-and-statistics/9780137566273/\n",
        "https://github.com/jonkrohn/ML-foundations/blob/master/notebooks/4-calculus-ii.ipynb"
      ]
    },
    {
      "cell_type": "code",
      "metadata": {
        "id": "_KbmQb5EbpGA"
      },
      "source": [
        "import numpy as np\n",
        "import matplotlib.pyplot as plt\n",
        "import seaborn as sb"
      ],
      "execution_count": 25,
      "outputs": []
    },
    {
      "cell_type": "markdown",
      "metadata": {
        "id": "O9iM0m-YXtyk"
      },
      "source": [
        "# 1.2 What Probability Theory Is\n",
        "- Earliest known use: Arab mathematicians (8th-13th c.)\n",
        "  - Largely related to cryptographic communications\n",
        "  - Al-Kindi (9th c.): first known to make statistical inference\n",
        "- Later further developed by Europeans to study games of chance\n",
        "  - 16th c: Italian polymath Gerolamo Cardano\n",
        "  - 17th c: Frenchmen Pierre de Fermat and Blaise Pascal\n",
        "- Largely combinatorial up to this point in history\n",
        "- Modern probability theory\n",
        "  - Mostly devised in 20th c (Soviet Kolmogorov, Austrian von Mises)\n",
        "  - Allows us to work with continuous, real (float) values\n",
        "  - Underpins frequentist stats, Bayesian stats, and ML"
      ]
    },
    {
      "cell_type": "markdown",
      "metadata": {
        "id": "zakTMbKQZUid"
      },
      "source": [
        "## Probability theory\n",
        "- Mathematical study of procsses that include uncertainty\n",
        "- Probabilities expressed over range of 0 (won't happen) to 1 (will happen).\n",
        "- Enables models of futur enon-deterministic events based on historical data.\n",
        "  - **Statistics**\n",
        "    - Quantifies confidence in inferences based on probabilistic events\n",
        "    - Provides framework for supporting or rejecting hypotheses\n",
        "  - **Machine Learning**\n",
        "    - Modelling approach that scales to large- high-dimensional data leveraging the statistical techniques\n",
        "\n",
        "<br/>\n",
        "\n",
        "## - Key Concepts\n",
        "  - **Low of large numbers**\n",
        "  - **Random variables**\n",
        "  - **Probability distributions**\n",
        "  - **Central limit theorem**"
      ]
    },
    {
      "cell_type": "markdown",
      "metadata": {
        "id": "Zi_koKzJXspE"
      },
      "source": [
        "# 1.3 Events and Sample Spaces\n",
        "Drawing a card from a deck of cards\n",
        "- Events: drawing a specific card that satisfies conditions\n",
        "- Sample space ($\\omega$): the deck of cards "
      ]
    },
    {
      "cell_type": "code",
      "metadata": {
        "id": "59_C06A8bgmX"
      },
      "source": [
        "def round(num, pos):\n",
        "    return np.round(num, pos)"
      ],
      "execution_count": 13,
      "outputs": []
    },
    {
      "cell_type": "code",
      "metadata": {
        "colab": {
          "base_uri": "https://localhost:8080/"
        },
        "id": "IKQqlC3UaROT",
        "outputId": "69d12110-5ba6-421f-eac5-312ee61708a0"
      },
      "source": [
        "# Proabability of drawing a specific card from a deck of 52 cards\n",
        "prob_card = 1/52 \n",
        "round(prob_card, 4)"
      ],
      "execution_count": 14,
      "outputs": [
        {
          "output_type": "execute_result",
          "data": {
            "text/plain": [
              "0.0192"
            ]
          },
          "metadata": {},
          "execution_count": 14
        }
      ]
    },
    {
      "cell_type": "code",
      "metadata": {
        "colab": {
          "base_uri": "https://localhost:8080/"
        },
        "id": "V60FyaO9by2M",
        "outputId": "6d7b3884-7867-4989-f466-2597c9bd4817"
      },
      "source": [
        "# Proabability of drawing an ace\n",
        "prob_ace = 4/52\n",
        "round(prob_suit, 4)"
      ],
      "execution_count": 15,
      "outputs": [
        {
          "output_type": "execute_result",
          "data": {
            "text/plain": [
              "0.3077"
            ]
          },
          "metadata": {},
          "execution_count": 15
        }
      ]
    },
    {
      "cell_type": "code",
      "metadata": {
        "colab": {
          "base_uri": "https://localhost:8080/"
        },
        "id": "lejyQWBBbU5K",
        "outputId": "0a4a9c9d-9374-4211-a646-8d76f0d791af"
      },
      "source": [
        "# Proabability of drawing a suit (clubs, spades, diamonds, or hearts)\n",
        "prob_suit = 13/52\n",
        "round(prob_suit, 4)"
      ],
      "execution_count": 16,
      "outputs": [
        {
          "output_type": "execute_result",
          "data": {
            "text/plain": [
              "0.25"
            ]
          },
          "metadata": {},
          "execution_count": 16
        }
      ]
    },
    {
      "cell_type": "code",
      "metadata": {
        "colab": {
          "base_uri": "https://localhost:8080/"
        },
        "id": "sClEuIvqb321",
        "outputId": "c210cdc5-8b7a-4363-a80d-9cb6a73810c4"
      },
      "source": [
        "# Proabability of drawing an ace or a suit\n",
        "prob_ace_or_suit = 16/52\n",
        "round(prob_ace_or_suit, 4)"
      ],
      "execution_count": 17,
      "outputs": [
        {
          "output_type": "execute_result",
          "data": {
            "text/plain": [
              "0.3077"
            ]
          },
          "metadata": {},
          "execution_count": 17
        }
      ]
    },
    {
      "cell_type": "code",
      "metadata": {
        "colab": {
          "base_uri": "https://localhost:8080/"
        },
        "id": "dl3Xm1SKcMo-",
        "outputId": "4b161c47-13ab-4c53-e0e1-ca9456d31177"
      },
      "source": [
        "# Proabability of drawing a card\n",
        "prob_card = 52/52\n",
        "prob_card"
      ],
      "execution_count": 18,
      "outputs": [
        {
          "output_type": "execute_result",
          "data": {
            "text/plain": [
              "1.0"
            ]
          },
          "metadata": {},
          "execution_count": 18
        }
      ]
    },
    {
      "cell_type": "code",
      "metadata": {
        "colab": {
          "base_uri": "https://localhost:8080/"
        },
        "id": "cNZQEkeecfw1",
        "outputId": "0b98f3a6-d82d-498b-814d-29ddef1981c0"
      },
      "source": [
        "# Proabability of drawing a card\n",
        "prob_turnip = 0/52\n",
        "prob_turnip"
      ],
      "execution_count": 19,
      "outputs": [
        {
          "output_type": "execute_result",
          "data": {
            "text/plain": [
              "0.0"
            ]
          },
          "metadata": {},
          "execution_count": 19
        }
      ]
    },
    {
      "cell_type": "markdown",
      "metadata": {
        "id": "8VVtL_zeX0j1"
      },
      "source": [
        "# 1.4 Multiple Observations\n",
        "- Consecutive events \n",
        "  - Example: coin tossing\n",
        "$$P(HH)=\\frac{1}{4} = 0.25$$\n",
        "\n",
        "$$P(HHH)=\\frac{1}{8} = 0.125$$\n",
        "\n",
        "- Combining probabilities:\n",
        "$$P(HHHHH)= P(HH) \\times P(HHH) = \\frac{1}{4} \\times \\frac{1}{8} = \\frac{1}{32} = 0.031$$\n"
      ]
    },
    {
      "cell_type": "markdown",
      "metadata": {
        "id": "LUhndWejX121"
      },
      "source": [
        "# 1.5 Factorials and Combinatorics\n",
        "\n",
        "\n"
      ]
    },
    {
      "cell_type": "markdown",
      "metadata": {
        "id": "pWDKrHF2eXqG"
      },
      "source": [
        " $$ {n \\choose k} = \\frac{n!}{k!(n - k)!} $$\n",
        "\n"
      ]
    },
    {
      "cell_type": "markdown",
      "metadata": {
        "id": "4lfWrdp2X3Sj"
      },
      "source": [
        "# 1.6 Exercises\n"
      ]
    },
    {
      "cell_type": "markdown",
      "metadata": {
        "id": "P7eH3zenKz9m"
      },
      "source": [
        "## Problem 1\n",
        "What is the probability of drawing the ace of spades twice in a row? (Assume that any card drawn on the first draw will be put back in the deck before the second draw.)\n"
      ]
    },
    {
      "cell_type": "code",
      "metadata": {
        "colab": {
          "base_uri": "https://localhost:8080/"
        },
        "id": "H4puYS13Ko2f",
        "outputId": "9751cc4e-8985-4194-8d1a-965b2ad55a9d"
      },
      "source": [
        "prob_ace_spades = 1 / 52\n",
        "(prob_ace_spades)**2"
      ],
      "execution_count": 1,
      "outputs": [
        {
          "output_type": "execute_result",
          "data": {
            "text/plain": [
              "0.00036982248520710064"
            ]
          },
          "metadata": {},
          "execution_count": 1
        }
      ]
    },
    {
      "cell_type": "markdown",
      "metadata": {
        "id": "gAtIMla_K9y-"
      },
      "source": [
        "## Problem 2\n",
        "You draw a card from a deck of cards. After replacing the drawn card back in the deck and shuffling thoroughly, what is the probability of drawing the same card again?\n"
      ]
    },
    {
      "cell_type": "code",
      "metadata": {
        "colab": {
          "base_uri": "https://localhost:8080/"
        },
        "id": "FKcR9YU4K_nB",
        "outputId": "7bcdf859-ff87-4e2a-aa4e-05539a34a9fc"
      },
      "source": [
        "prob_card = 1/52\n",
        "# You can choose the first card at random. \n",
        "1 * prob_card"
      ],
      "execution_count": 13,
      "outputs": [
        {
          "output_type": "execute_result",
          "data": {
            "text/plain": [
              "0.019230769230769232"
            ]
          },
          "metadata": {},
          "execution_count": 13
        }
      ]
    },
    {
      "cell_type": "markdown",
      "metadata": {
        "id": "MlhQOQBHLAMR"
      },
      "source": [
        "## Problem 3\n",
        "Use $n \\choose k$ to calculate the probability of throwing three heads in five coin tosses.\n"
      ]
    },
    {
      "cell_type": "code",
      "metadata": {
        "colab": {
          "base_uri": "https://localhost:8080/"
        },
        "id": "VrvpPjfSLCrc",
        "outputId": "93173c21-0d69-469b-d7e3-fab265aaae5a"
      },
      "source": [
        "import math\n",
        "num_events = math.factorial(5) / (math.factorial(3) * 2)\n",
        "num_events / 2**5"
      ],
      "execution_count": 17,
      "outputs": [
        {
          "output_type": "execute_result",
          "data": {
            "text/plain": [
              "0.3125"
            ]
          },
          "metadata": {},
          "execution_count": 17
        }
      ]
    },
    {
      "cell_type": "markdown",
      "metadata": {
        "id": "fIIsoORPLBcC"
      },
      "source": [
        "## Problem 4\n",
        " Create a Python method that solves exercise 3 and incorporates the $n \\choose k$ formula $\\frac{n!}{k!(n - k)!}$. With the method in hand, calculate the probability of -- in five tosses -- throwing each of zero, one, two, three, four, and five heads."
      ]
    },
    {
      "cell_type": "code",
      "metadata": {
        "id": "lp04qtQcLCMI"
      },
      "source": [
        "def coinflip_prob(n, k):\n",
        "    n_choose_k = math.factorial(n) / (math.factorial(k) * math.factorial(n-k))\n",
        "    return n_choose_k / 2**n"
      ],
      "execution_count": 21,
      "outputs": []
    },
    {
      "cell_type": "code",
      "metadata": {
        "colab": {
          "base_uri": "https://localhost:8080/"
        },
        "id": "UWc1gy5GMpWB",
        "outputId": "0a978718-41a4-49ea-b53b-d6b7ca8769b5"
      },
      "source": [
        "for i in range(6):\n",
        "    print(coinflip_prob(5, i))"
      ],
      "execution_count": 23,
      "outputs": [
        {
          "output_type": "stream",
          "name": "stdout",
          "text": [
            "0.03125\n",
            "0.15625\n",
            "0.3125\n",
            "0.3125\n",
            "0.15625\n",
            "0.03125\n"
          ]
        }
      ]
    },
    {
      "cell_type": "markdown",
      "metadata": {
        "id": "w5Fk_SheX4c4"
      },
      "source": [
        "\n",
        "# 1.7 The Law of Large Numbers and the Gambler's Fallacy\n",
        "\n",
        "While a fair coin should land heads up 50% of the time, as we've seen above, with small sample sizes, there is a non-trivial possibility that in a given experiment we could flip heads on all of the tosses. For example, we've calculated that there's a 3.1% chance that we'll get heads on every toss in a small five-toss experiment.\n",
        "\n",
        "The law of large numbers states that the more experiments we run, the closer we will tend to get to the expected probability.\n",
        "\n",
        "Let's run some code to examine this in practice. To start, we'll create a vector of exponentially increasing $n$umbers of coin tosses per experiment:\n"
      ]
    },
    {
      "cell_type": "code",
      "metadata": {
        "id": "ZCcLBJnGPOXz"
      },
      "source": [
        "np.random.seed(42)\n",
        "ns = np.array([2, 4, 8, 16, 32, 64, 128, 256, 512, 1024, 2048, 4096])"
      ],
      "execution_count": 30,
      "outputs": []
    },
    {
      "cell_type": "code",
      "metadata": {
        "colab": {
          "base_uri": "https://localhost:8080/"
        },
        "id": "0jH5fq6MQ-R_",
        "outputId": "76f87511-c2c4-4999-8de2-b548bcbd3e95"
      },
      "source": [
        "np.random.binomial(1, 0.5)"
      ],
      "execution_count": 32,
      "outputs": [
        {
          "output_type": "execute_result",
          "data": {
            "text/plain": [
              "1"
            ]
          },
          "metadata": {},
          "execution_count": 32
        }
      ]
    },
    {
      "cell_type": "code",
      "metadata": {
        "colab": {
          "base_uri": "https://localhost:8080/"
        },
        "id": "rl-5NnrzRB1U",
        "outputId": "5fa03ac7-a473-4aef-e028-b43e13dbfc96"
      },
      "source": [
        "# the number of heads we get for each n coin flips (ns)\n",
        "heads_count = [np.random.binomial(n, 0.5) for n in ns]\n",
        "heads_count"
      ],
      "execution_count": 33,
      "outputs": [
        {
          "output_type": "execute_result",
          "data": {
            "text/plain": [
              "[1, 2, 3, 6, 12, 35, 67, 128, 264, 506, 1019, 2051]"
            ]
          },
          "metadata": {},
          "execution_count": 33
        }
      ]
    },
    {
      "cell_type": "code",
      "metadata": {
        "colab": {
          "base_uri": "https://localhost:8080/"
        },
        "id": "oT1bwhVqRr7e",
        "outputId": "52896958-ff99-4a10-b510-65d7a3763172"
      },
      "source": [
        "proportion_heads = heads_count / ns\n",
        "proportion_heads"
      ],
      "execution_count": 34,
      "outputs": [
        {
          "output_type": "execute_result",
          "data": {
            "text/plain": [
              "array([0.5       , 0.5       , 0.375     , 0.375     , 0.375     ,\n",
              "       0.546875  , 0.5234375 , 0.5       , 0.515625  , 0.49414062,\n",
              "       0.49755859, 0.50073242])"
            ]
          },
          "metadata": {},
          "execution_count": 34
        }
      ]
    },
    {
      "cell_type": "code",
      "metadata": {
        "colab": {
          "base_uri": "https://localhost:8080/",
          "height": 279
        },
        "id": "G59_F6IoR0d5",
        "outputId": "3c3259bf-8795-4ca2-9742-afda00761ee7"
      },
      "source": [
        "fig, ax = plt.subplots()\n",
        "plt.xlabel('Number of coin flips in experiment')\n",
        "plt.ylabel('Proportion of flips that are heads')\n",
        "plt.axhline(0.5, color='orange')  # Expected probability\n",
        "_ = ax.scatter(ns, proportion_heads)"
      ],
      "execution_count": 35,
      "outputs": [
        {
          "output_type": "display_data",
          "data": {
            "image/png": "[encoded data removed]",
            "text/plain": [
              "<Figure size 432x288 with 1 Axes>"
            ]
          },
          "metadata": {
            "needs_background": "light"
          }
        }
      ]
    },
    {
      "cell_type": "markdown",
      "metadata": {
        "id": "gKncjgalX56Z"
      },
      "source": [
        "\n",
        "# 1.8 Probability Distributions in Statistics\n"
      ]
    },
    {
      "cell_type": "code",
      "metadata": {
        "id": "iMqP6LNVPQb7"
      },
      "source": [
        "n_experiments = 1000\n",
        "heads_count = np.random.binomial(5, 0.5, n_experiments)"
      ],
      "execution_count": 37,
      "outputs": []
    },
    {
      "cell_type": "code",
      "metadata": {
        "id": "S1EQJgIJUPxH"
      },
      "source": [
        "heads, event_count = np.unique(heads_count, return_counts=True)"
      ],
      "execution_count": 38,
      "outputs": []
    },
    {
      "cell_type": "code",
      "metadata": {
        "colab": {
          "base_uri": "https://localhost:8080/"
        },
        "id": "GepKvV6mVCxm",
        "outputId": "dc4cfbce-0784-4fb5-e1f7-bcae2115d597"
      },
      "source": [
        "heads, event_count"
      ],
      "execution_count": 40,
      "outputs": [
        {
          "output_type": "execute_result",
          "data": {
            "text/plain": [
              "(array([0, 1, 2, 3, 4, 5]), array([ 31, 168, 292, 324, 147,  38]))"
            ]
          },
          "metadata": {},
          "execution_count": 40
        }
      ]
    },
    {
      "cell_type": "code",
      "metadata": {
        "colab": {
          "base_uri": "https://localhost:8080/"
        },
        "id": "MGQN1KwXPQvy",
        "outputId": "09a62656-20c4-480e-8ddd-d3f69f35f839"
      },
      "source": [
        "event_prob = event_count / n_experiments\n",
        "event_prob"
      ],
      "execution_count": 42,
      "outputs": [
        {
          "output_type": "execute_result",
          "data": {
            "text/plain": [
              "array([0.031, 0.168, 0.292, 0.324, 0.147, 0.038])"
            ]
          },
          "metadata": {},
          "execution_count": 42
        }
      ]
    },
    {
      "cell_type": "code",
      "metadata": {
        "colab": {
          "base_uri": "https://localhost:8080/",
          "height": 297
        },
        "id": "UUsn31C4VXnN",
        "outputId": "358ebeb0-e2bc-453f-f706-6fb228697510"
      },
      "source": [
        "plt.bar(heads, event_prob, color='mediumpurple')\n",
        "plt.xlabel('Heads flips ( out of 5 tosses)')\n",
        "plt.ylabel('Event probability')"
      ],
      "execution_count": 45,
      "outputs": [
        {
          "output_type": "execute_result",
          "data": {
            "text/plain": [
              "Text(0, 0.5, 'Event probability')"
            ]
          },
          "metadata": {},
          "execution_count": 45
        },
        {
          "output_type": "display_data",
          "data": {
            "image/png": "[encoded data removed]",
            "text/plain": [
              "<Figure size 432x288 with 1 Axes>"
            ]
          },
          "metadata": {
            "needs_background": "light"
          }
        }
      ]
    },
    {
      "cell_type": "code",
      "metadata": {
        "colab": {
          "base_uri": "https://localhost:8080/",
          "height": 297
        },
        "id": "ThaCtCKIV9oW",
        "outputId": "27e3e5d9-19da-4878-c521-4ecb6a48e119"
      },
      "source": [
        "n_experiments = 1000000\n",
        "heads_count = np.random.binomial(10, 0.5, n_experiments)\n",
        "heads, event_count = np.unique(heads_count, return_counts=True)\n",
        "event_prob = event_count / n_experiments\n",
        "\n",
        "plt.bar(heads, event_prob, color='mediumpurple')\n",
        "plt.xlabel('Heads flips ( out of 5 tosses)')\n",
        "plt.ylabel('Event probability')"
      ],
      "execution_count": 55,
      "outputs": [
        {
          "output_type": "execute_result",
          "data": {
            "text/plain": [
              "Text(0, 0.5, 'Event probability')"
            ]
          },
          "metadata": {},
          "execution_count": 55
        },
        {
          "output_type": "display_data",
          "data": {
            "image/png": "[encoded data removed]",
            "text/plain": [
              "<Figure size 432x288 with 1 Axes>"
            ]
          },
          "metadata": {
            "needs_background": "light"
          }
        }
      ]
    },
    {
      "cell_type": "markdown",
      "metadata": {
        "id": "pMVuWcnbX7Fx"
      },
      "source": [
        "\n",
        "# 1.9 Bayesian versus Frequentist Statistics\n",
        "- Can incorporate prior knowledge from e.g. experimental results, beliefs\n",
        "- How lay people think about probabilities :\"There's 67% chance it'll rain today.\"\n",
        "- English philosopher **Thomas Bayes**\n",
        "  - Devised particular case of \"Bayes'theorem\" in 1763\n",
        "- French polymath **Pierre-Simon Laplace\"**\n",
        "  - Generally computationally expensive."
      ]
    },
    {
      "cell_type": "markdown",
      "metadata": {
        "id": "RRlN06-kYbEq"
      },
      "source": [
        "## Frequentist Statistics\n",
        "- Focus on \"objective\" probabilities\n",
        "- \"On 100 days exactly like today, it would rain on 80 of them.\"\n",
        "- Arbitrary threshold of \"less than 5% chance result occurs by chance.\"\n",
        "- (Sir) R.A. Fisher and (declined Sir) Karl Pearson developed much of modern statistical techniques in 20th.\n",
        "- Drawbacks: \n",
        "  - Not dsigned for large feature sets (inputs)\n",
        "  - 5% threshold too high for large sample sizes"
      ]
    },
    {
      "cell_type": "markdown",
      "metadata": {
        "id": "L_YnH8D0X8JS"
      },
      "source": [
        "# 1.10 Applications of Probability to Machine Learning\n",
        "- Bayesian stats has become a type of ML today where:\n",
        "  - Sample sizes tend to be not very large\n",
        "  - Typically have evidence for priors (initail parameter values)\n",
        "- Probability concepts ubiquitous in AL including ML.\n",
        "  - Uncertainly typically involved in mapping inputs to outputs.\n",
        "  - Models the output in the language of probabilities: \n",
        "    - Image classification: \"95% chance image is of a hot dog\"\n",
        "  - With STATS, can confidently compare model performances\n",
        "  - Some models are **stocastic (non-deterministic)**."
      ]
    },
    {
      "cell_type": "markdown",
      "metadata": {
        "id": "yBju6gHXcAY4"
      },
      "source": [
        "Why can't most AI systems be certain and deterministic?\n",
        "1. The process being modeled is itself stochastic:\n",
        "    - Games of chance\n",
        "    - Human behaviour in general\n",
        "    - Stock market in particular\n",
        "2. Model inputs are not comprehensive.\n",
        "    - Car crash inevitable around curve.\n",
        "    - Candidate for role has offer from other employer.\n",
        "3. Model is incomplete:\n",
        "    - Computational complexity of perfect solution is astronomical.\n",
        "    - Modelling approach for solving problem perfectly is unknown.\n",
        "    - Building perfect model is unreasonably expensive.\n"
      ]
    },
    {
      "cell_type": "markdown",
      "metadata": {
        "id": "eA1q6wIIUuHv"
      },
      "source": [
        "# Frequent Functions\n",
        "- ```np.random.binomial(events, probabiltiy, trials)```  \n",
        "- ```np.unique(array, return_counts=True)```  \n",
        "    - ```return_counts = True```!!!"
      ]
    }
  ]
}
