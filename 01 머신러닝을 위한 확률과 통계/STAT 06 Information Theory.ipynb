{
  "nbformat": 4,
  "nbformat_minor": 0,
  "metadata": {
    "colab": {
      "name": "STAT 06 Information Theory.ipynb",
      "provenance": [],
      "collapsed_sections": []
    },
    "kernelspec": {
      "name": "python3",
      "display_name": "Python 3"
    },
    "language_info": {
      "name": "python"
    }
  },
  "cells": [
    {
      "cell_type": "markdown",
      "metadata": {
        "id": "oYqgvxTywuQi"
      },
      "source": [
        "# Lesson 6: Information Theory"
      ]
    },
    {
      "cell_type": "markdown",
      "metadata": {
        "id": "IHSZRre2ZwNR"
      },
      "source": [
        "References\n",
        "\n",
        "My Statistics learning notebook following the live lesson series [**\"Probability and Statistics for Machine Learning\"**](https://learning.oreilly.com/videos/probability-and-statistics/9780137566273/) by Dr. Jon Krohn. I adapted some and partially modified or added entirely new code. Notes largely based on and from Jon's notebooks and learning materials. The lesson and original notebook source code at:\n",
        "\n",
        "https://learning.oreilly.com/videos/probability-and-statistics/9780137566273/\n",
        "https://github.com/jonkrohn/ML-foundations/blob/master/notebooks/4-calculus-ii.ipynb"
      ]
    },
    {
      "cell_type": "markdown",
      "metadata": {
        "id": "hS6Lsz45ejN6"
      },
      "source": [
        "## Basic Setup"
      ]
    },
    {
      "cell_type": "code",
      "metadata": {
        "id": "eyWUBUeHZR9P",
        "colab": {
          "base_uri": "https://localhost:8080/"
        },
        "outputId": "a076ea3b-a86b-4af6-ba2a-428c834ae1c4"
      },
      "source": [
        "import math\n",
        "import numpy as np\n",
        "import seaborn as sb\n",
        "import matplotlib.pyplot as plt\n",
        "\n",
        "import cv2\n",
        "from IPython.display import HTML, display\n",
        "from google.colab.patches import cv2_imshow\n",
        "from google.colab import drive\n",
        "drive.mount('here')\n",
        "\n",
        "def set_css():\n",
        "  display(HTML('''<style> pre { white-space: pre-wrap; } </style>'''))\n",
        "get_ipython().events.register('pre_run_cell', set_css)\n",
        "\n",
        "# Shows the image immediately. \n",
        "# Resize option available.\n",
        "# If you are using others' image, you can pass in a string parameter to cite the source.\n",
        "def show_img(path, resize=None, source=None, source_scale=0.5):\n",
        "    img = cv2.imread(path)\n",
        "    if (resize != None):\n",
        "        img = cv2.resize(img, dsize=(0,0), fx=resize, fy=resize)\n",
        "    if(source != None):\n",
        "        cite_source(img, source, scale=source_scale)\n",
        "    cv2_imshow(img)\n",
        "\n",
        "# Turns the path into an image object. Resize option available.\n",
        "def get_img(path, resize=None):\n",
        "  img = cv2.imread(path)\n",
        "  if (resize != None):\n",
        "    img = cv2.resize(img, dsize=(0,0), fx=resize, fy=resize)\n",
        "  return img\n",
        "\n",
        "# Puts text of source on the image.\n",
        "# Avoiding plagiarism and crediting others' hard work is important.\n",
        "def cite_source(img, source, org=None, scale=0.7, color=1):\n",
        "    if (org == None):\n",
        "        img = cv2.putText(img, source, org=(int(np.ceil(img.shape[1]*0.1)), int(np.ceil(img.shape[0]*0.98))),\n",
        "                          fontFace=cv2.FONT_HERSHEY_SIMPLEX, fontScale=scale, color=1)\n",
        "    elif (org != None):\n",
        "        img = cv2.putText(img, source, org=org,\n",
        "                          fontFace=cv2.FONT_HERSHEY_TRIPLEX, fontScale=scale, color=1)\n",
        "    return img\n",
        "\n",
        "# Take notes on a sticky note.\n",
        "def take_notes(img, source, org, scale=None, color=1, thickness=1):\n",
        "    if (org == None):\n",
        "        img = cv2.putText(img, source, org=( int(np.ceil( img.shape[1] * 0.9 )), int(np.ceil( img.shape[0] * 0.1 )) ),\n",
        "                          fontFace=cv2.FONT_HERSHEY_TRIPLEX, fontScale=scale, color=color, thickness=thickness)\n",
        "    elif (org != None):\n",
        "        img = cv2.putText(img, source, org=( int(np.ceil( img.shape[1] * org[0] )), int(np.ceil( img.shape[0] * org[1] )) ),\n",
        "                          fontFace=cv2.FONT_HERSHEY_TRIPLEX, fontScale=scale, color=color, thickness=thickness)\n",
        "    return img\n",
        "\n",
        "def sticky_notes(notes, return_object=False):\n",
        "    path = \"/content/here/MyDrive/Math works/notes.png\"    \n",
        "    sticky_notes = get_img(path, resize=0.65)\n",
        "\n",
        "    for i, note in enumerate(notes):\n",
        "        sticky_notes = take_notes(sticky_notes, note, org=(1/17,(i+4)/11), scale=0.5)\n",
        "    if (return_object == True):\n",
        "        return sticky_notes\n",
        "    else:\n",
        "        cv2_imshow(sticky_notes)\n",
        "\n",
        "# Code by Bill Grates on Stackoverflow\n",
        "# https://stackoverflow.com/users/5629538/bill-grates\n",
        "# https://stackoverflow.com/questions/32609098/how-to-fast-change-image-brightness-with-python-opencv\n",
        "\n",
        "def increase_brightness(img, value=30):\n",
        "    hsv = cv2.cvtColor(img, cv2.COLOR_BGR2HSV) \n",
        "    h, s, v = cv2.split(hsv)\n",
        "\n",
        "    lim = 255 - value\n",
        "    v[v > lim] = 255\n",
        "    v[v <= lim] += value\n",
        "    \n",
        "    final_hsv = cv2.merge((h, s, v))\n",
        "    img = cv2.cvtColor(final_hsv, cv2.COLOR_HSV2BGR)\n",
        "    return img"
      ],
      "execution_count": 2,
      "outputs": [
        {
          "output_type": "stream",
          "name": "stdout",
          "text": [
            "Mounted at here\n"
          ]
        }
      ]
    },
    {
      "cell_type": "markdown",
      "metadata": {
        "id": "3x9nq9P9guQD"
      },
      "source": [
        "## Sticky Notes for Thoughts"
      ]
    },
    {
      "cell_type": "code",
      "metadata": {
        "id": "GLqAFM4Sj29v"
      },
      "source": [
        "# display work\n",
        "notes = [\"\",\n",
        "         \"\",\n",
        "         \"\",\n",
        "         \"\"]\n",
        "\n",
        "sticky_notes(notes)"
      ],
      "execution_count": null,
      "outputs": []
    },
    {
      "cell_type": "markdown",
      "metadata": {
        "id": "rrVFN66LkSKC"
      },
      "source": [
        "# 6.1 What Information Theory Is\n",
        "- Field of applied mathematics\n",
        "- While Probability Theory facilitates uncertain statements and reasoning despite the uncertainty, Informatino Theory quantifies the uncertainty in a signal (e.g. a distribution).\n",
        "- Claude Shannon (1916-2001): father of Info. thy."
      ]
    },
    {
      "cell_type": "markdown",
      "metadata": {
        "id": "BJvO7X7Tw69_"
      },
      "source": [
        "# 6.2 Self-Information, Nats, and Bits\n",
        "The eesnetial concept: \n",
        "- Likelier events have less information content than rarer ones. \n",
        "  - Message that sun rose this morning has no niformational value. \n",
        "- The equation of **self-information**: \n",
        "$$I(x) = -logP(x)$$\n",
        "  - Self-information of a RV $x$: $(I(x))$\n",
        "  - is equal tot he logarithm of the probability of that event $x$ ($-logP(x)$)\n",
        "  - Quantifies the informational content.\n",
        "    - If event is guaranteed (i.e., $P(x)=1$), $I(x)=0$\n",
        "    - Less likely an event, the greater $I(x)$\n",
        "    - Independent events are additive. \n",
        "      - If one head flip has $I(x)$, two heads flips has 2$I(x)$"
      ]
    },
    {
      "cell_type": "code",
      "metadata": {
        "id": "8YlLDowrkTM7",
        "colab": {
          "base_uri": "https://localhost:8080/",
          "height": 17
        },
        "outputId": "450e7ad3-3cc6-4694-f1f9-1f7b7782720d"
      },
      "source": [
        "def self_info(p):\n",
        "    return -1 * np.log(p)   # nats"
      ],
      "execution_count": 3,
      "outputs": [
        {
          "output_type": "display_data",
          "data": {
            "text/html": [
              "<style> pre { white-space: pre-wrap; } </style>"
            ],
            "text/plain": [
              "<IPython.core.display.HTML object>"
            ]
          },
          "metadata": {}
        }
      ]
    },
    {
      "cell_type": "code",
      "metadata": {
        "colab": {
          "base_uri": "https://localhost:8080/",
          "height": 90
        },
        "id": "hVQC_SVa0EwB",
        "outputId": "169efd4c-7dbc-4807-d9ef-d7a8fab446e7"
      },
      "source": [
        "probs = [1, 0.5, 0.1, 0.01]\n",
        "\n",
        "for prob in probs: \n",
        "    print(self_info(prob))\n",
        "\n",
        "# the smaller the probability, the greater the entropy is."
      ],
      "execution_count": 6,
      "outputs": [
        {
          "output_type": "display_data",
          "data": {
            "text/html": [
              "<style> pre { white-space: pre-wrap; } </style>"
            ],
            "text/plain": [
              "<IPython.core.display.HTML object>"
            ]
          },
          "metadata": {}
        },
        {
          "output_type": "stream",
          "name": "stdout",
          "text": [
            "-0.0\n",
            "0.6931471805599453\n",
            "2.3025850929940455\n",
            "4.605170185988091\n"
          ]
        }
      ]
    },
    {
      "cell_type": "code",
      "metadata": {
        "colab": {
          "base_uri": "https://localhost:8080/",
          "height": 35
        },
        "id": "mZ93gmvQ0EsK",
        "outputId": "b728f1ac-f8b0-4347-8b1e-2af2f5b0c53c"
      },
      "source": [
        "self_info(0.5) + self_info(0.5)"
      ],
      "execution_count": 7,
      "outputs": [
        {
          "output_type": "display_data",
          "data": {
            "text/html": [
              "<style> pre { white-space: pre-wrap; } </style>"
            ],
            "text/plain": [
              "<IPython.core.display.HTML object>"
            ]
          },
          "metadata": {}
        },
        {
          "output_type": "execute_result",
          "data": {
            "text/plain": [
              "1.3862943611198906"
            ]
          },
          "metadata": {},
          "execution_count": 7
        }
      ]
    },
    {
      "cell_type": "markdown",
      "metadata": {
        "id": "cYR1jfdX07mV"
      },
      "source": [
        "Depending on what logarithm base we use, the units of self-information vary. Most frequently, the units are either:\n",
        "\n",
        "nats:  \n",
        "- Natural logarithm, as above with `np.log()`\n",
        "- Typical in ML  \n",
        "\n",
        "bits:  \n",
        "- Base-2 logarithm\n",
        "- A.k.a. shannons\n",
        "- Typical in computer science\n",
        "\n",
        "So, the self-information of $P(x) = 0.1$ is ~2.3 nats.\n"
      ]
    },
    {
      "cell_type": "markdown",
      "metadata": {
        "id": "-Yg2RwFmw8e7"
      },
      "source": [
        "# 6.3 Shannon and Differential Entropy\n",
        "\n",
        "To quantify uncertainty about a probability distribution (as opposed to a single event), we can use Shannon entropy, which is denoted $H(x)$ or $H(P)$: $$ H(x) = \\mathbb{E}_{\\text{x}\\sim P}[I(x)] \\\\ = -\\mathbb{E}_{\\text{x}\\sim P}[\\text{log}P(x)] $$\n",
        "\n",
        "Conveys the expected informational content associated with an event drawn from the distribution:\n",
        "\n",
        "**Low entropy**:\n",
        "- Distribution is ~deterministic and outcomes are ~certain\n",
        "- E.g., weighted coin always lands heads up ($P(1)=1$)\n",
        "\n",
        "**High entropy**:\n",
        "- Outcomes are uncertain\n",
        "- Uniform distribution can be highest entropy\n",
        "- E.g., coin is as likely to be heads as tails ($P(0)=P(1)=0.5$)\n",
        "\n",
        "As an example, Shannon entropy for a binary random variable (e.g., coin flip) is: $$ (p-1)\\text{log}(1-p)-p \\text{log}p $$"
      ]
    },
    {
      "cell_type": "code",
      "metadata": {
        "colab": {
          "base_uri": "https://localhost:8080/",
          "height": 17
        },
        "id": "f-mP3VJJ0Eoh",
        "outputId": "166a6d0e-da0d-4ed2-9461-9dfb4d40efd6"
      },
      "source": [
        "def binary_entropy(p):\n",
        "    return (p-1) * np.log(1-p) - p * np.log(p)"
      ],
      "execution_count": 8,
      "outputs": [
        {
          "output_type": "display_data",
          "data": {
            "text/html": [
              "<style> pre { white-space: pre-wrap; } </style>"
            ],
            "text/plain": [
              "<IPython.core.display.HTML object>"
            ]
          },
          "metadata": {}
        }
      ]
    },
    {
      "cell_type": "markdown",
      "metadata": {
        "id": "6GTrotdT3P65"
      },
      "source": [
        "Will throw nan with $p=0$ (always tails) or $p=1$ (always heads), but we can get close:"
      ]
    },
    {
      "cell_type": "code",
      "metadata": {
        "colab": {
          "base_uri": "https://localhost:8080/",
          "height": 145
        },
        "id": "9d3XncWT3Qw2",
        "outputId": "0f60151e-3faa-41c7-c5b6-da8f424f8519"
      },
      "source": [
        "probs = [0.00001, 0.001, 0.1, 0.5, 0.7, 0.9, 0.99999]\n",
        "\n",
        "for prob in probs:\n",
        "    print(f'{prob} entropy: {binary_entropy(prob)}')"
      ],
      "execution_count": 16,
      "outputs": [
        {
          "output_type": "display_data",
          "data": {
            "text/html": [
              "<style> pre { white-space: pre-wrap; } </style>"
            ],
            "text/plain": [
              "<IPython.core.display.HTML object>"
            ]
          },
          "metadata": {}
        },
        {
          "output_type": "stream",
          "name": "stdout",
          "text": [
            "1e-05 entropy: 0.00012512920464949012\n",
            "0.001 entropy: 0.007907255112232087\n",
            "0.1 entropy: 0.3250829733914482\n",
            "0.5 entropy: 0.6931471805599453\n",
            "0.7 entropy: 0.6108643020548935\n",
            "0.9 entropy: 0.3250829733914482\n",
            "0.99999 entropy: 0.00012512920464901166\n"
          ]
        }
      ]
    },
    {
      "cell_type": "code",
      "metadata": {
        "colab": {
          "base_uri": "https://localhost:8080/",
          "height": 35
        },
        "id": "x4RlucdG4lcX",
        "outputId": "53626210-d408-4544-ab07-faead238ebfb"
      },
      "source": [
        "max_H = np.max(H)\n",
        "max_H"
      ],
      "execution_count": 23,
      "outputs": [
        {
          "output_type": "display_data",
          "data": {
            "text/html": [
              "<style> pre { white-space: pre-wrap; } </style>"
            ],
            "text/plain": [
              "<IPython.core.display.HTML object>"
            ]
          },
          "metadata": {}
        },
        {
          "output_type": "execute_result",
          "data": {
            "text/plain": [
              "0.6931466815603623"
            ]
          },
          "metadata": {},
          "execution_count": 23
        }
      ]
    },
    {
      "cell_type": "markdown",
      "metadata": {
        "id": "fDCEqz2j66_W"
      },
      "source": [
        "## **Differential entropy**\n",
        "- simply the term for Shannon entropy if distribution is PDF.\n",
        "- used to calculate a single distribution. "
      ]
    },
    {
      "cell_type": "code",
      "metadata": {
        "colab": {
          "base_uri": "https://localhost:8080/",
          "height": 300
        },
        "id": "NxxM_nyJ3rfm",
        "outputId": "dd7ab2bb-6d60-4ae2-aa3d-bd7cd07ab76a"
      },
      "source": [
        "p = np.linspace(0.001, 0.999, 1000)\n",
        "H = binary_entropy(p)\n",
        "\n",
        "fig, ax = plt.subplots()\n",
        "plt.title('Shannon entropy of Bernoulli trial', fontsize=20, fontweight='bold')\n",
        "plt.axhline(max_H, linestyle='dashed', color='lightgray', label=np.round(max_H, 3))\n",
        "plt.xlabel('p')\n",
        "plt.ylabel('H (nats)')\n",
        "plt.legend()\n",
        "_ = ax.plot(p,H)"
      ],
      "execution_count": 26,
      "outputs": [
        {
          "output_type": "display_data",
          "data": {
            "text/html": [
              "<style> pre { white-space: pre-wrap; } </style>"
            ],
            "text/plain": [
              "<IPython.core.display.HTML object>"
            ]
          },
          "metadata": {}
        },
        {
          "output_type": "display_data",
          "data": {
            "image/png": "[encoded data removed]",
            "text/plain": [
              "<Figure size 432x288 with 1 Axes>"
            ]
          },
          "metadata": {
            "needs_background": "light"
          }
        }
      ]
    },
    {
      "cell_type": "markdown",
      "metadata": {
        "id": "PKwqmdqAw9Pc"
      },
      "source": [
        "# 6.4 Kullback-Leibler Divergence and Cross-Entropy\n",
        "\n",
        "If we want to compare two different distributions...\n",
        "\n",
        "## **KL divergence** \n",
        ": enables us to quantify the relative Shannon (or differential) entropy of two probability distributions that are over the same random variable x.\n",
        "\n",
        "For example, if we have one probability distribution described by $P(x)$ and another by $Q(x)$, their KL divergence (denoted $D_\\text{KL}$) is: $$ D_\\text{KL}(P||Q) = \\mathbb{E}_{\\text{x} \\sim P}[\\text{log}P(x) - \\text{log}Q(x)] $$\n",
        "\n",
        "- This is simply comparing the self-information. \n"
      ]
    },
    {
      "cell_type": "markdown",
      "metadata": {
        "id": "92wDE3dx7EpQ"
      },
      "source": [
        "\n",
        "## **Cross-Entropy**\n",
        "\n",
        "Cross-entropy is a concept derived from KL divergence. Its detail is beyond the scope of this series except to mention that it provides us with the cross-entropy cost function.\n",
        "\n",
        "This cost function is ubiquitous in neural networks as it's the cost function of choice for predicting discrete, categorical outcomes. E.g., for a binary classifier, the cross-entropy cost ($C$) is:\n",
        "$$ C = -(y \\cdot \\text{log}(\\hat{y}) + (1-y) \\cdot \\text{log}(1-\\hat{y})) $$\n"
      ]
    },
    {
      "cell_type": "markdown",
      "metadata": {
        "id": "2cJ8cxEn8Lcj"
      },
      "source": [
        "- it's the cost function of choice for a neural network or a deep learning network tasked with predicting **discrete categorical outcomes**. "
      ]
    },
    {
      "cell_type": "code",
      "metadata": {
        "colab": {
          "base_uri": "https://localhost:8080/",
          "height": 17
        },
        "id": "BRnoW_VS8Eir",
        "outputId": "dd0f30e4-d48a-4720-f8a5-7cd36db84f63"
      },
      "source": [
        "# y = true known output\n",
        "# y_hat = prediction\n",
        "\n",
        "def cross_entropy(y, y_hat):    \n",
        "    return -1 * (y * np.log(y_hat) + (1 - y) * np.log(1 - y_hat))"
      ],
      "execution_count": 28,
      "outputs": [
        {
          "output_type": "display_data",
          "data": {
            "text/html": [
              "<style> pre { white-space: pre-wrap; } </style>"
            ],
            "text/plain": [
              "<IPython.core.display.HTML object>"
            ]
          },
          "metadata": {}
        }
      ]
    },
    {
      "cell_type": "code",
      "metadata": {
        "colab": {
          "base_uri": "https://localhost:8080/",
          "height": 35
        },
        "id": "bGHrsPZx8lF1",
        "outputId": "d2ff2768-b183-49c4-df0a-5de16678666b"
      },
      "source": [
        "# Positive movie review? \n",
        "# Cross entropy is low when the model's prediction is close to the desired output.\n",
        "\n",
        "cross_entropy(1, 0.997)"
      ],
      "execution_count": 30,
      "outputs": [
        {
          "output_type": "display_data",
          "data": {
            "text/html": [
              "<style> pre { white-space: pre-wrap; } </style>"
            ],
            "text/plain": [
              "<IPython.core.display.HTML object>"
            ]
          },
          "metadata": {}
        },
        {
          "output_type": "execute_result",
          "data": {
            "text/plain": [
              "0.0030045090202987243"
            ]
          },
          "metadata": {},
          "execution_count": 30
        }
      ]
    },
    {
      "cell_type": "code",
      "metadata": {
        "colab": {
          "base_uri": "https://localhost:8080/",
          "height": 181
        },
        "id": "jpPEzeE_8_gc",
        "outputId": "a946c3bb-7b04-4fb6-8fb9-2bed8b67e785"
      },
      "source": [
        "preds = [0.9997, 0.997, 0.9, 0.6, 0.3, 0.1, 0.001, 0.00001]\n",
        "\n",
        "print('Prediction Cross Entropy when:')\n",
        "for pred in preds: \n",
        "    print(f'pred = {pred}:  {np.round(cross_entropy(1, pred), 3)}')"
      ],
      "execution_count": 35,
      "outputs": [
        {
          "output_type": "display_data",
          "data": {
            "text/html": [
              "<style> pre { white-space: pre-wrap; } </style>"
            ],
            "text/plain": [
              "<IPython.core.display.HTML object>"
            ]
          },
          "metadata": {}
        },
        {
          "output_type": "stream",
          "name": "stdout",
          "text": [
            "Prediction Cross Entropy when:\n",
            "pred = 0.9997:  0.0\n",
            "pred = 0.997:  0.003\n",
            "pred = 0.9:  0.105\n",
            "pred = 0.6:  0.511\n",
            "pred = 0.3:  1.204\n",
            "pred = 0.1:  2.303\n",
            "pred = 0.001:  6.908\n",
            "pred = 1e-05:  11.513\n"
          ]
        }
      ]
    }
  ]
}
