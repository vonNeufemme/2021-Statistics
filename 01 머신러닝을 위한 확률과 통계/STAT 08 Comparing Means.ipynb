{
  "nbformat": 4,
  "nbformat_minor": 0,
  "metadata": {
    "colab": {
      "name": "STAT 08 Comparing Means.ipynb",
      "provenance": [],
      "collapsed_sections": [
        "W8Qg7amC3p_F",
        "R1_iBJgq3pEU",
        "m7SiL6bn3hkl",
        "up62ewVuimqQ",
        "88J3bCWsjTkr",
        "edOWw2AFjk_J",
        "elxDS14MZjIH",
        "TjWrB1KrZrD1"
      ]
    },
    "kernelspec": {
      "name": "python3",
      "display_name": "Python 3"
    },
    "language_info": {
      "name": "python"
    }
  },
  "cells": [
    {
      "cell_type": "markdown",
      "metadata": {
        "id": "rrVFN66LkSKC"
      },
      "source": [
        "# 8.1 Single-Sample t-tests and Degrees of Freedom"
      ]
    },
    {
      "cell_type": "markdown",
      "metadata": {
        "id": "W8Qg7amC3p_F"
      },
      "source": [
        "## Mean of a single sample against Reference Mean"
      ]
    },
    {
      "cell_type": "markdown",
      "metadata": {
        "id": "R1_iBJgq3pEU"
      },
      "source": [
        "## **Comparing Means with t-tests**\n",
        "\n",
        "Copy of learning material from [the lesson's source code here](https://github.com/jonkrohn/ML-foundations/blob/master/notebooks/6-statistics.ipynb)\n",
        "\n",
        "- Where z-scores apply to individual values only, t-tests enables us to compare (the mean of) a sample of multiple values to a reference mean.\n"
      ]
    },
    {
      "cell_type": "markdown",
      "metadata": {
        "id": "B94hnA0pE2yt"
      },
      "source": [
        "## **Student's Single-Sample t-test**\n",
        "\n",
        "Named after William Sealy Gosset, an Oxford-trained scientist and mathematician, who became a stout yield statistician for Guinness in Dublin (from 1899 to his fatal heart attack in 1937 shortly after being promoted to head brewer). Alongside sabbaticals in Karl Pearson's UCL Biometric Laboratory, Gosset published under the pseudonym Student (including on the t-test, starting in 1908) as it was against Guinness policy to publish.\n",
        "\n",
        "Recalling the formula for calculating a z-score: $$ z = \\frac{x_i-\\mu}{\\sigma} $$\n",
        "\n",
        "The single-sample t-test is a variation on the theme and is defined by: $$ t = \\frac{\\bar{x} - \\mu_0}{s_{\\bar{x}}} $$ Where:\n",
        "\n",
        "- $\\bar{x}$ is the sample mean\n",
        "- $\\mu_0$ is a reference mean, e.g., known population mean or \"null hypothesis\" mean\n",
        "- $s_{\\bar{x}}$ is the sample standard error"
      ]
    },
    {
      "cell_type": "markdown",
      "metadata": {
        "id": "CpeJAayaxWem"
      },
      "source": [
        "Let's say you're the head brewer at Guinness. Your baseline brewing process yields 50L of stout. Using a new genetically-modified yeast, you obtain the following yields (all in liters) in four separate experiments:"
      ]
    },
    {
      "cell_type": "code",
      "metadata": {
        "id": "8YlLDowrkTM7",
        "colab": {
          "base_uri": "https://localhost:8080/",
          "height": 17
        },
        "outputId": "d1517d7b-e4fb-4c82-81e5-a42adee8bd3b"
      },
      "source": [
        "x = [48, 50, 54, 60]    # yields using a new genetically-modified yeast"
      ],
      "execution_count": null,
      "outputs": [
      ]      
    },
    {
      "cell_type": "code",
      "metadata": {
        "colab": {
          "base_uri": "https://localhost:8080/",
          "height": 54
        },
        "id": "iCI_jLwpvlmi",
        "outputId": "4a56bb70-8706-48cd-a70e-49f7aba5290d"
      },
      "source": [
        "x_bar = np.mean(x)\n",
        "print(xbar)\n",
        "\n",
        "sx = st.sem(x)\n",
        "sx"
      ],
      "execution_count": null,
      "outputs": [
        {
          "output_type": "stream",
          "name": "stdout",
          "text": [
            "53.0\n"
          ]
        },
        {
          "output_type": "execute_result",
          "data": {
            "text/plain": [
              "2.6457513110645907"
            ]
          },
          "metadata": {},
          "execution_count": 6
        }
      ]
    },
    {
      "cell_type": "code",
      "metadata": {
        "colab": {
          "base_uri": "https://localhost:8080/",
          "height": 35
        },
        "id": "vs2kKNe4vmRV",
        "outputId": "6243f14b-87e3-49a3-c950-9d6c3a32ba61"
      },
      "source": [
        "t = (x_bar-50)/sx   # baseline brewing process yields 50L of stout. \n",
        "t                   # t statistic"
      ],
      "execution_count": null,
      "outputs": [
        {
          "output_type": "execute_result",
          "data": {
            "text/plain": [
              "1.1338934190276817"
            ]
          },
          "metadata": {},
          "execution_count": 8
        }
      ]
    },
    {
      "cell_type": "markdown",
      "metadata": {
        "id": "7QMnGx5Hx0ZM"
      },
      "source": [
        "We can convert the t-value into a p-value using Student's t-distribution (similar to the normal z-distribution, but varies based on number of data points in sample; see [here](https://en.wikipedia.org/wiki/Student%27s_t-distribution) for more detail):\n",
        "\n",
        "*In probability and statistics, Student's t-distribution (or simply the t-distribution) is any member of a family of continuous probability distributions that arise when estimating the mean of a normally-distributed population in situations where the sample size is small and the population's standard deviation is unknown. It was developed by English statistician William Sealy Gosset under the pseudonym \"Student\".*"
      ]
    },
    {
      "cell_type": "code",
      "metadata": {
        "colab": {
          "base_uri": "https://localhost:8080/",
          "height": 17
        },
        "id": "8AZi7YCvxzSd",
        "outputId": "1dbeb5bc-0615-4fdc-d6c0-e33fa55e91af"
      },
      "source": [
        "def p_from_t(t, n):                     # n = number of data points \n",
        "    return 2 * st.t.cdf(-abs(t), n-1)   # 2nd arg to t.cdf() is \"degrees of freedom\""
      ],
      "execution_count": null,
      "outputs": [
      ]
    },
    {
      "cell_type": "code",
      "metadata": {
        "colab": {
          "base_uri": "https://localhost:8080/",
          "height": 35
        },
        "id": "7KcQK_A2ySz9",
        "outputId": "2984d982-faa2-4ead-eb15-61bea7ec122d"
      },
      "source": [
        "p_from_t(t, len(x))     # above 0.05, above the statistically significant p-value."
      ],
      "execution_count": null,
      "outputs": [
        {
          "output_type": "execute_result",
          "data": {
            "text/plain": [
              "0.3392540508564543"
            ]
          },
          "metadata": {},
          "execution_count": 10
        }
      ]
    },
    {
      "cell_type": "markdown",
      "metadata": {
        "id": "CTMCfV8GzHO1"
      },
      "source": [
        "Interpretation: \n",
        "the yield of stout using the newly invented GMO yeast is not significantly greater (as p-value sits within the conventaion range between 2.5 ~ 9.75%) than how it is produced using the existing yeast.\n",
        "\n",
        "<br/>\n",
        "\n",
        "In short, there is a 34% chance that we would get a mean of 53 by chance alone. According to the t-test, it turns out that the surplus of 3 litre is likely out of random chance, not the effect of the GMO yeast.\n"
      ]
    },
    {
      "cell_type": "markdown",
      "metadata": {
        "id": "Mzq1E5zn09T-"
      },
      "source": [
        "(An illustration of degrees of freedom: If we know the mean of the array x, three of its four values **can vary freely**. That is, if we know three of the values in the array, the fourth has no \"freedom\"; it must be a specific value. Thus, **the most common situation with statistical tests is that we have $n-1$ degrees of freedom**.)\n",
        "\n",
        "For everyday usage, however, we can rely on the SciPy `ttest_1samp()` method:\n"
      ]
    },
    {
      "cell_type": "code",
      "metadata": {
        "colab": {
          "base_uri": "https://localhost:8080/",
          "height": 35
        },
        "id": "kdaSkWQQ1MOu",
        "outputId": "751ba297-26e8-4ac6-de44-5b8b3f6d7554"
      },
      "source": [
        "st.ttest_1samp(x,50)    # 50 = reference mean"
      ],
      "execution_count": null,
      "outputs": [
        {
          "output_type": "execute_result",
          "data": {
            "text/plain": [
              "Ttest_1sampResult(statistic=1.1338934190276817, pvalue=0.3392540508564543)"
            ]
          },
          "metadata": {},
          "execution_count": 11
        }
      ]
    },
    {
      "cell_type": "markdown",
      "metadata": {
        "id": "BjhgQ7lDuCBR"
      },
      "source": [
        "# 8.2 Independent t-tests\n",
        "\n",
        "The independent t-test allows us to compare the mean of two separate samples.\n"
      ]
    },
    {
      "cell_type": "markdown",
      "metadata": {
        "id": "m7SiL6bn3hkl"
      },
      "source": [
        "## Comparing the means of two samples\n",
        "(against each other)\n"
      ]
    },
    {
      "cell_type": "markdown",
      "metadata": {
        "id": "hD7zwE5Y3j-d"
      },
      "source": [
        "## Welch's Independent t-test\n",
        "\n",
        "In ordinary circumstances, if we have two samples whose means we'd like to compare, we use an independent t-test."
      ]
    },
    {
      "cell_type": "code",
      "metadata": {
        "colab": {
          "base_uri": "https://localhost:8080/",
          "height": 316
        },
        "id": "1lYeaaGb6oV_",
        "outputId": "60c92c84-a0d5-4f17-b1c3-8993254a508a"
      },
      "source": [
        "img = get_img(path)\n",
        "img = cv2.cvtColor(img, cv2.COLOR_RGB2BGR)\n",
        "width, height = img.shape[1], img.shape[0]\n",
        "half_height = int(height/2)\n",
        "species = img[:half_height-20, :]\n",
        "bill = img[half_height+20:, :]\n",
        "\n",
        "fig, ax = plt.subplots(1, 2, figsize=(15, 5))\n",
        "ax[0].imshow(species)\n",
        "ax[0].axis('off')\n",
        "ax[1].imshow(bill)\n",
        "ax[1].axis('off')\n",
        "plt.tight_layout()\n",
        "plt.suptitle(\"these penguins from 'Visualising data with ggplot2', datasciencebox.org\\nhttps://rstudio-education.github.io/datascience-box/course-materials/slides/u2-d02-ggplot2/u2-d02-ggplot2.html#4\", y=1.05)"
      ],
      "execution_count": null,
      "outputs": [
        {
          "output_type": "execute_result",
          "data": {
            "text/plain": [
              "Text(0.5, 1.05, \"these penguins from 'Visualising data with ggplot2', datasciencebox.org\\nhttps://rstudio-education.github.io/datascience-box/course-materials/slides/u2-d02-ggplot2/u2-d02-ggplot2.html#4\")"
            ]
          },
          "metadata": {},
          "execution_count": 52
        },
        {
          "output_type": "display_data",
          "data": {
            "image/png": "[encoded data removed]",
            "text/plain": [
              "<Figure size 1080x360 with 2 Axes>"
            ]
          },
          "metadata": {
            "needs_background": "light"
          }
        }
      ]
    },
    {
      "cell_type": "code",
      "metadata": {
        "colab": {
          "base_uri": "https://localhost:8080/",
          "height": 17
        },
        "id": "6CV0ggxkxyWt",
        "outputId": "39f48509-8066-44e0-c143-fe35aec9910f"
      },
      "source": [
        "penguins = sb.load_dataset('penguins').dropna()     # some rows are missing data. "
      ],
      "execution_count": null,
      "outputs": [
      ]
    },
    {
      "cell_type": "code",
      "metadata": {
        "colab": {
          "base_uri": "https://localhost:8080/",
          "height": 442
        },
        "id": "Jh9qP7Se318E",
        "outputId": "d738e9fa-6c20-4ad6-ad36-3d24823b5def"
      },
      "source": [
        "penguins"
      ],
      "execution_count": null,
      "outputs": [
        {
          "output_type": "execute_result",
          "data": {
            "text/html": [
              "<div>\n",
              "<style scoped>\n",
              "    .dataframe tbody tr th:only-of-type {\n",
              "        vertical-align: middle;\n",
              "    }\n",
              "\n",
              "    .dataframe tbody tr th {\n",
              "        vertical-align: top;\n",
              "    }\n",
              "\n",
              "    .dataframe thead th {\n",
              "        text-align: right;\n",
              "    }\n",
              "</style>\n",
              "<table border=\"1\" class=\"dataframe\">\n",
              "  <thead>\n",
              "    <tr style=\"text-align: right;\">\n",
              "      <th></th>\n",
              "      <th>species</th>\n",
              "      <th>island</th>\n",
              "      <th>bill_length_mm</th>\n",
              "      <th>bill_depth_mm</th>\n",
              "      <th>flipper_length_mm</th>\n",
              "      <th>body_mass_g</th>\n",
              "      <th>sex</th>\n",
              "    </tr>\n",
              "  </thead>\n",
              "  <tbody>\n",
              "    <tr>\n",
              "      <th>0</th>\n",
              "      <td>Adelie</td>\n",
              "      <td>Torgersen</td>\n",
              "      <td>39.1</td>\n",
              "      <td>18.7</td>\n",
              "      <td>181.0</td>\n",
              "      <td>3750.0</td>\n",
              "      <td>Male</td>\n",
              "    </tr>\n",
              "    <tr>\n",
              "      <th>1</th>\n",
              "      <td>Adelie</td>\n",
              "      <td>Torgersen</td>\n",
              "      <td>39.5</td>\n",
              "      <td>17.4</td>\n",
              "      <td>186.0</td>\n",
              "      <td>3800.0</td>\n",
              "      <td>Female</td>\n",
              "    </tr>\n",
              "    <tr>\n",
              "      <th>2</th>\n",
              "      <td>Adelie</td>\n",
              "      <td>Torgersen</td>\n",
              "      <td>40.3</td>\n",
              "      <td>18.0</td>\n",
              "      <td>195.0</td>\n",
              "      <td>3250.0</td>\n",
              "      <td>Female</td>\n",
              "    </tr>\n",
              "    <tr>\n",
              "      <th>4</th>\n",
              "      <td>Adelie</td>\n",
              "      <td>Torgersen</td>\n",
              "      <td>36.7</td>\n",
              "      <td>19.3</td>\n",
              "      <td>193.0</td>\n",
              "      <td>3450.0</td>\n",
              "      <td>Female</td>\n",
              "    </tr>\n",
              "    <tr>\n",
              "      <th>5</th>\n",
              "      <td>Adelie</td>\n",
              "      <td>Torgersen</td>\n",
              "      <td>39.3</td>\n",
              "      <td>20.6</td>\n",
              "      <td>190.0</td>\n",
              "      <td>3650.0</td>\n",
              "      <td>Male</td>\n",
              "    </tr>\n",
              "    <tr>\n",
              "      <th>...</th>\n",
              "      <td>...</td>\n",
              "      <td>...</td>\n",
              "      <td>...</td>\n",
              "      <td>...</td>\n",
              "      <td>...</td>\n",
              "      <td>...</td>\n",
              "      <td>...</td>\n",
              "    </tr>\n",
              "    <tr>\n",
              "      <th>338</th>\n",
              "      <td>Gentoo</td>\n",
              "      <td>Biscoe</td>\n",
              "      <td>47.2</td>\n",
              "      <td>13.7</td>\n",
              "      <td>214.0</td>\n",
              "      <td>4925.0</td>\n",
              "      <td>Female</td>\n",
              "    </tr>\n",
              "    <tr>\n",
              "      <th>340</th>\n",
              "      <td>Gentoo</td>\n",
              "      <td>Biscoe</td>\n",
              "      <td>46.8</td>\n",
              "      <td>14.3</td>\n",
              "      <td>215.0</td>\n",
              "      <td>4850.0</td>\n",
              "      <td>Female</td>\n",
              "    </tr>\n",
              "    <tr>\n",
              "      <th>341</th>\n",
              "      <td>Gentoo</td>\n",
              "      <td>Biscoe</td>\n",
              "      <td>50.4</td>\n",
              "      <td>15.7</td>\n",
              "      <td>222.0</td>\n",
              "      <td>5750.0</td>\n",
              "      <td>Male</td>\n",
              "    </tr>\n",
              "    <tr>\n",
              "      <th>342</th>\n",
              "      <td>Gentoo</td>\n",
              "      <td>Biscoe</td>\n",
              "      <td>45.2</td>\n",
              "      <td>14.8</td>\n",
              "      <td>212.0</td>\n",
              "      <td>5200.0</td>\n",
              "      <td>Female</td>\n",
              "    </tr>\n",
              "    <tr>\n",
              "      <th>343</th>\n",
              "      <td>Gentoo</td>\n",
              "      <td>Biscoe</td>\n",
              "      <td>49.9</td>\n",
              "      <td>16.1</td>\n",
              "      <td>213.0</td>\n",
              "      <td>5400.0</td>\n",
              "      <td>Male</td>\n",
              "    </tr>\n",
              "  </tbody>\n",
              "</table>\n",
              "<p>333 rows × 7 columns</p>\n",
              "</div>"
            ],
            "text/plain": [
              "    species     island  bill_length_mm  ...  flipper_length_mm  body_mass_g     sex\n",
              "0    Adelie  Torgersen            39.1  ...              181.0       3750.0    Male\n",
              "1    Adelie  Torgersen            39.5  ...              186.0       3800.0  Female\n",
              "2    Adelie  Torgersen            40.3  ...              195.0       3250.0  Female\n",
              "4    Adelie  Torgersen            36.7  ...              193.0       3450.0  Female\n",
              "5    Adelie  Torgersen            39.3  ...              190.0       3650.0    Male\n",
              "..      ...        ...             ...  ...                ...          ...     ...\n",
              "338  Gentoo     Biscoe            47.2  ...              214.0       4925.0  Female\n",
              "340  Gentoo     Biscoe            46.8  ...              215.0       4850.0  Female\n",
              "341  Gentoo     Biscoe            50.4  ...              222.0       5750.0    Male\n",
              "342  Gentoo     Biscoe            45.2  ...              212.0       5200.0  Female\n",
              "343  Gentoo     Biscoe            49.9  ...              213.0       5400.0    Male\n",
              "\n",
              "[333 rows x 7 columns]"
            ]
          },
          "metadata": {},
          "execution_count": 16
        }
      ]
    },
    {
      "cell_type": "code",
      "metadata": {
        "colab": {
          "base_uri": "https://localhost:8080/",
          "height": 54
        },
        "id": "B587OFjb9Tf7",
        "outputId": "42af3144-7bd7-4cd8-a127-b2bd5e7c2064"
      },
      "source": [
        "np.unique(penguins.species, return_counts=True)"
      ],
      "execution_count": null,
      "outputs": [
        {
          "output_type": "execute_result",
          "data": {
            "text/plain": [
              "(array(['Adelie', 'Chinstrap', 'Gentoo'], dtype=object),\n",
              " array([146,  68, 119]))"
            ]
          },
          "metadata": {},
          "execution_count": 53
        }
      ]
    },
    {
      "cell_type": "code",
      "metadata": {
        "colab": {
          "base_uri": "https://localhost:8080/",
          "height": 422
        },
        "id": "hRR1twGS9d7a",
        "outputId": "61bdb884-1eba-40ad-8212-44eecee613e1"
      },
      "source": [
        "adelie = penguins[penguins.species == 'Adelie']\n",
        "adelie"
      ],
      "execution_count": null,
      "outputs": [
        {
          "output_type": "execute_result",
          "data": {
            "text/html": [
              "<div>\n",
              "<style scoped>\n",
              "    .dataframe tbody tr th:only-of-type {\n",
              "        vertical-align: middle;\n",
              "    }\n",
              "\n",
              "    .dataframe tbody tr th {\n",
              "        vertical-align: top;\n",
              "    }\n",
              "\n",
              "    .dataframe thead th {\n",
              "        text-align: right;\n",
              "    }\n",
              "</style>\n",
              "<table border=\"1\" class=\"dataframe\">\n",
              "  <thead>\n",
              "    <tr style=\"text-align: right;\">\n",
              "      <th></th>\n",
              "      <th>species</th>\n",
              "      <th>island</th>\n",
              "      <th>bill_length_mm</th>\n",
              "      <th>bill_depth_mm</th>\n",
              "      <th>flipper_length_mm</th>\n",
              "      <th>body_mass_g</th>\n",
              "      <th>sex</th>\n",
              "    </tr>\n",
              "  </thead>\n",
              "  <tbody>\n",
              "    <tr>\n",
              "      <th>0</th>\n",
              "      <td>Adelie</td>\n",
              "      <td>Torgersen</td>\n",
              "      <td>39.1</td>\n",
              "      <td>18.7</td>\n",
              "      <td>181.0</td>\n",
              "      <td>3750.0</td>\n",
              "      <td>Male</td>\n",
              "    </tr>\n",
              "    <tr>\n",
              "      <th>1</th>\n",
              "      <td>Adelie</td>\n",
              "      <td>Torgersen</td>\n",
              "      <td>39.5</td>\n",
              "      <td>17.4</td>\n",
              "      <td>186.0</td>\n",
              "      <td>3800.0</td>\n",
              "      <td>Female</td>\n",
              "    </tr>\n",
              "    <tr>\n",
              "      <th>2</th>\n",
              "      <td>Adelie</td>\n",
              "      <td>Torgersen</td>\n",
              "      <td>40.3</td>\n",
              "      <td>18.0</td>\n",
              "      <td>195.0</td>\n",
              "      <td>3250.0</td>\n",
              "      <td>Female</td>\n",
              "    </tr>\n",
              "    <tr>\n",
              "      <th>4</th>\n",
              "      <td>Adelie</td>\n",
              "      <td>Torgersen</td>\n",
              "      <td>36.7</td>\n",
              "      <td>19.3</td>\n",
              "      <td>193.0</td>\n",
              "      <td>3450.0</td>\n",
              "      <td>Female</td>\n",
              "    </tr>\n",
              "    <tr>\n",
              "      <th>5</th>\n",
              "      <td>Adelie</td>\n",
              "      <td>Torgersen</td>\n",
              "      <td>39.3</td>\n",
              "      <td>20.6</td>\n",
              "      <td>190.0</td>\n",
              "      <td>3650.0</td>\n",
              "      <td>Male</td>\n",
              "    </tr>\n",
              "    <tr>\n",
              "      <th>...</th>\n",
              "      <td>...</td>\n",
              "      <td>...</td>\n",
              "      <td>...</td>\n",
              "      <td>...</td>\n",
              "      <td>...</td>\n",
              "      <td>...</td>\n",
              "      <td>...</td>\n",
              "    </tr>\n",
              "    <tr>\n",
              "      <th>147</th>\n",
              "      <td>Adelie</td>\n",
              "      <td>Dream</td>\n",
              "      <td>36.6</td>\n",
              "      <td>18.4</td>\n",
              "      <td>184.0</td>\n",
              "      <td>3475.0</td>\n",
              "      <td>Female</td>\n",
              "    </tr>\n",
              "    <tr>\n",
              "      <th>148</th>\n",
              "      <td>Adelie</td>\n",
              "      <td>Dream</td>\n",
              "      <td>36.0</td>\n",
              "      <td>17.8</td>\n",
              "      <td>195.0</td>\n",
              "      <td>3450.0</td>\n",
              "      <td>Female</td>\n",
              "    </tr>\n",
              "    <tr>\n",
              "      <th>149</th>\n",
              "      <td>Adelie</td>\n",
              "      <td>Dream</td>\n",
              "      <td>37.8</td>\n",
              "      <td>18.1</td>\n",
              "      <td>193.0</td>\n",
              "      <td>3750.0</td>\n",
              "      <td>Male</td>\n",
              "    </tr>\n",
              "    <tr>\n",
              "      <th>150</th>\n",
              "      <td>Adelie</td>\n",
              "      <td>Dream</td>\n",
              "      <td>36.0</td>\n",
              "      <td>17.1</td>\n",
              "      <td>187.0</td>\n",
              "      <td>3700.0</td>\n",
              "      <td>Female</td>\n",
              "    </tr>\n",
              "    <tr>\n",
              "      <th>151</th>\n",
              "      <td>Adelie</td>\n",
              "      <td>Dream</td>\n",
              "      <td>41.5</td>\n",
              "      <td>18.5</td>\n",
              "      <td>201.0</td>\n",
              "      <td>4000.0</td>\n",
              "      <td>Male</td>\n",
              "    </tr>\n",
              "  </tbody>\n",
              "</table>\n",
              "<p>146 rows × 7 columns</p>\n",
              "</div>"
            ],
            "text/plain": [
              "    species     island  bill_length_mm  ...  flipper_length_mm  body_mass_g     sex\n",
              "0    Adelie  Torgersen            39.1  ...              181.0       3750.0    Male\n",
              "1    Adelie  Torgersen            39.5  ...              186.0       3800.0  Female\n",
              "2    Adelie  Torgersen            40.3  ...              195.0       3250.0  Female\n",
              "4    Adelie  Torgersen            36.7  ...              193.0       3450.0  Female\n",
              "5    Adelie  Torgersen            39.3  ...              190.0       3650.0    Male\n",
              "..      ...        ...             ...  ...                ...          ...     ...\n",
              "147  Adelie      Dream            36.6  ...              184.0       3475.0  Female\n",
              "148  Adelie      Dream            36.0  ...              195.0       3450.0  Female\n",
              "149  Adelie      Dream            37.8  ...              193.0       3750.0    Male\n",
              "150  Adelie      Dream            36.0  ...              187.0       3700.0  Female\n",
              "151  Adelie      Dream            41.5  ...              201.0       4000.0    Male\n",
              "\n",
              "[146 rows x 7 columns]"
            ]
          },
          "metadata": {},
          "execution_count": 54
        }
      ]
    },
    {
      "cell_type": "code",
      "metadata": {
        "colab": {
          "base_uri": "https://localhost:8080/",
          "height": 35
        },
        "id": "rRIc6wFI9sK0",
        "outputId": "56514f48-d0ec-4495-d5ab-870f2d9be274"
      },
      "source": [
        "np.unique(adelie.island, return_counts=True)"
      ],
      "execution_count": null,
      "outputs": [
        {
          "output_type": "execute_result",
          "data": {
            "text/plain": [
              "(array(['Biscoe', 'Dream', 'Torgersen'], dtype=object), array([44, 55, 47]))"
            ]
          },
          "metadata": {},
          "execution_count": 55
        }
      ]
    },
    {
      "cell_type": "code",
      "metadata": {
        "colab": {
          "base_uri": "https://localhost:8080/",
          "height": 35
        },
        "id": "lqIdUARg9wUF",
        "outputId": "6910f8f0-d6e0-463f-e92b-e08951b2c037"
      },
      "source": [
        "np.unique(adelie.sex, return_counts=True)"
      ],
      "execution_count": null,
      "outputs": [
        {
          "output_type": "execute_result",
          "data": {
            "text/plain": [
              "(array(['Female', 'Male'], dtype=object), array([73, 73]))"
            ]
          },
          "metadata": {},
          "execution_count": 56
        }
      ]
    },
    {
      "cell_type": "code",
      "metadata": {
        "colab": {
          "base_uri": "https://localhost:8080/",
          "height": 297
        },
        "id": "VMludRpQ922q",
        "outputId": "6cbc3533-eb4e-4f5b-8e4a-6745cee12b68"
      },
      "source": [
        "sb.boxplot(x='island', y='body_mass_g', hue='sex', data=adelie)"
      ],
      "execution_count": null,
      "outputs": [
        {
          "output_type": "execute_result",
          "data": {
            "text/plain": [
              "<matplotlib.axes._subplots.AxesSubplot at 0x7f79ff543150>"
            ]
          },
          "metadata": {},
          "execution_count": 57
        },
        {
          "output_type": "display_data",
          "data": {
            "image/png": "[encoded data removed]",
            "text/plain": [
              "<Figure size 432x288 with 1 Axes>"
            ]
          },
          "metadata": {
            "needs_background": "light"
          }
        }
      ]
    },
    {
      "cell_type": "code",
      "metadata": {
        "colab": {
          "base_uri": "https://localhost:8080/",
          "height": 181
        },
        "id": "zAEAYCyy-KW_",
        "outputId": "109c96e3-ea88-4597-a012-b460d28f25f6"
      },
      "source": [
        "f = adelie[adelie.sex == 'Female']['body_mass_g'].to_numpy()/1000\n",
        "f"
      ],
      "execution_count": null,
      "outputs": [
        {
          "output_type": "execute_result",
          "data": {
            "text/plain": [
              "array([3.8  , 3.25 , 3.45 , 3.625, 3.2  , 3.7  , 3.45 , 3.325, 3.4  ,\n",
              "       3.8  , 3.8  , 3.2  , 3.15 , 3.25 , 3.3  , 3.325, 3.55 , 3.3  ,\n",
              "       3.15 , 3.1  , 3.   , 3.45 , 3.5  , 3.45 , 2.9  , 3.55 , 2.85 ,\n",
              "       3.15 , 3.6  , 2.85 , 3.35 , 3.05 , 3.6  , 3.55 , 3.7  , 3.7  ,\n",
              "       3.55 , 3.2  , 3.8  , 3.35 , 3.5  , 3.6  , 3.55 , 3.4  , 3.3  ,\n",
              "       3.7  , 2.9  , 3.725, 3.075, 2.925, 3.75 , 3.175, 3.825, 3.2  ,\n",
              "       3.9  , 2.9  , 3.35 , 3.15 , 3.45 , 3.05 , 3.275, 3.05 , 3.325,\n",
              "       3.5  , 3.425, 3.175, 3.4  , 3.4  , 3.05 , 3.   , 3.475, 3.45 ,\n",
              "       3.7  ])"
            ]
          },
          "metadata": {},
          "execution_count": 59
        }
      ]
    },
    {
      "cell_type": "code",
      "metadata": {
        "colab": {
          "base_uri": "https://localhost:8080/",
          "height": 181
        },
        "id": "V3LQ3hC1-KF8",
        "outputId": "e166ef6c-ee66-4d2c-e672-3e73e0533c8b"
      },
      "source": [
        "m = adelie[adelie.sex == 'Male']['body_mass_g'].to_numpy()/1000\n",
        "m"
      ],
      "execution_count": null,
      "outputs": [
        {
          "output_type": "execute_result",
          "data": {
            "text/plain": [
              "array([3.75 , 3.65 , 4.675, 3.8  , 4.4  , 4.5  , 4.2  , 3.6  , 3.95 ,\n",
              "       3.8  , 3.55 , 3.95 , 3.9  , 3.9  , 4.15 , 3.95 , 4.65 , 3.9  ,\n",
              "       4.4  , 4.6  , 3.425, 4.15 , 4.3  , 4.05 , 3.7  , 3.8  , 3.75 ,\n",
              "       4.4  , 4.05 , 3.95 , 4.1  , 4.45 , 3.9  , 4.15 , 4.25 , 3.9  ,\n",
              "       4.   , 4.7  , 4.2  , 3.55 , 3.8  , 3.95 , 4.3  , 4.45 , 4.3  ,\n",
              "       4.35 , 4.1  , 4.725, 4.25 , 3.55 , 3.9  , 4.775, 4.6  , 4.275,\n",
              "       4.075, 3.775, 3.325, 3.5  , 3.875, 4.   , 4.3  , 4.   , 3.5  ,\n",
              "       4.475, 3.9  , 3.975, 4.25 , 3.475, 3.725, 3.65 , 4.25 , 3.75 ,\n",
              "       4.   ])"
            ]
          },
          "metadata": {},
          "execution_count": 60
        }
      ]
    },
    {
      "cell_type": "code",
      "metadata": {
        "colab": {
          "base_uri": "https://localhost:8080/",
          "height": 35
        },
        "id": "9smzeIqs-J-d",
        "outputId": "0545826e-3a8e-42b9-cf96-5750ea52f50b"
      },
      "source": [
        "f_bar = f.mean()\n",
        "m_bar = m.mean()\n",
        "\n",
        "f_bar, m_bar"
      ],
      "execution_count": null,
      "outputs": [
        {
          "output_type": "execute_result",
          "data": {
            "text/plain": [
              "(3.368835616438356, 4.043493150684932)"
            ]
          },
          "metadata": {},
          "execution_count": 61
        }
      ]
    },
    {
      "cell_type": "markdown",
      "metadata": {
        "id": "r86HTp7p_DtS"
      },
      "source": [
        "To quantify whether males weigh significantly more than females, we can use the Welch t-test, devised by the 20th c. British statistician Bernard Lewis Welch: $$ t = \\frac{\\bar{x} - \\bar{y}}{\\sqrt{\\frac{s^2_x}{n_x} + \\frac{s^2_y}{n_y}}} $$ Where:\n",
        "\n",
        "- $\\bar{x}$ and $\\bar{y}$ are the sample means\n",
        "- $s^2_x$ and $s^2_y$ are the sample variances\n",
        "- $n_x$ and $n_y$ are the sample sizes\n",
        "\n",
        "N.B.: Student's independent t-test is markedly more popular than Welch's, but Student's assumes equal population variances (i.e., $\\sigma^2_x \\approx \\sigma^2_y$), making it less robust. In case you're curious, Student's formula is the same as Welch's, except that it uses a pooled variance $s^2_p$ in place of individual sample variances ($s^2_x$ and $s^2_y$). You can read more about it here.\n",
        "\n",
        "---\n",
        "\n",
        "*\"So that isn't too far off the usual standard error calculation for a single sample, but we're pooling together the two standard errors in a way here.\"*"
      ]
    },
    {
      "cell_type": "markdown",
      "metadata": {
        "id": "suz6GzMQ_7RV"
      },
      "source": [
        "N.B.: Student's independent t-test is markedly more popular than Welch's, but Student's assumes equal population variances (i.e., $\\sigma^2_x \\approx \\sigma^2_y$), making it less robust. In case you're curious, Student's formula is the same as Welch's, except that it uses a pooled variance $s^2_p$ in place of individual sample variances ($s^2_x$ and $s^2_y$). You can read more about it [here (Independent two-sample t-test)](https://en.wikipedia.org/wiki/Student%27s_t-test#Independent_two-sample_t-test)."
      ]
    },
    {
      "cell_type": "code",
      "metadata": {
        "colab": {
          "base_uri": "https://localhost:8080/",
          "height": 17
        },
        "id": "mDcSwtDeALX2",
        "outputId": "3922771b-afcf-4c7d-9ccb-7bcef5a8e3c7"
      },
      "source": [
        "sf = f.var(ddof=1)\n",
        "sm = m.var(ddof=1)"
      ],
      "execution_count": null,
      "outputs": [
      ]
    },
    {
      "cell_type": "code",
      "metadata": {
        "colab": {
          "base_uri": "https://localhost:8080/",
          "height": 35
        },
        "id": "LbQRLIo0AYG1",
        "outputId": "c7ef0815-fa6b-4d63-cc35-0047431849ac"
      },
      "source": [
        "nf = f.size\n",
        "nm = m.size\n",
        "\n",
        "nf, nm"
      ],
      "execution_count": null,
      "outputs": [
        {
          "output_type": "execute_result",
          "data": {
            "text/plain": [
              "(73, 73)"
            ]
          },
          "metadata": {},
          "execution_count": 63
        }
      ]
    },
    {
      "cell_type": "code",
      "metadata": {
        "colab": {
          "base_uri": "https://localhost:8080/",
          "height": 35
        },
        "id": "hB1mddGLAegL",
        "outputId": "bb0023ad-9993-4be7-eb3b-428486395086"
      },
      "source": [
        "t = (f_bar - m_bar) / (sf/nf + sm/nm)**(1/2)\n",
        "t"
      ],
      "execution_count": null,
      "outputs": [
        {
          "output_type": "execute_result",
          "data": {
            "text/plain": [
              "-13.126285923485879"
            ]
          },
          "metadata": {},
          "execution_count": 65
        }
      ]
    },
    {
      "cell_type": "markdown",
      "metadata": {
        "id": "FSJxMMN5BKQK"
      },
      "source": [
        "Degrees of freedom for calculating the p-value are estimated using the [Welch–Satterthwaite equation](https://en.wikipedia.org/wiki/Welch%E2%80%93Satterthwaite_equation), which we won't detail but is defined as:"
      ]
    },
    {
      "cell_type": "code",
      "metadata": {
        "colab": {
          "base_uri": "https://localhost:8080/",
          "height": 17
        },
        "id": "QlBwSGgiB0hR",
        "outputId": "52e637d4-9bde-4f34-8530-023c91d990fe"
      },
      "source": [
        "def ws_equation(sx, sy, nx, ny):\n",
        "    return (sx / nx + sy / ny)**2 / (sx**2 / (nx**2 * (nx - 1)) + sy**2 / (ny**2 * (ny - 1)))"
      ],
      "execution_count": null,
      "outputs": [
      ]
    },
    {
      "cell_type": "code",
      "metadata": {
        "colab": {
          "base_uri": "https://localhost:8080/",
          "height": 35
        },
        "id": "3-OVnbOzDGhK",
        "outputId": "4294ca10-a0d1-4223-fdd3-2c0fa5b19713"
      },
      "source": [
        "df = ws_equation(sf, sm, nf, nm)\n",
        "df                                  # 135.69357893530386 degrees of freedom"
      ],
      "execution_count": null,
      "outputs": [
        {
          "output_type": "execute_result",
          "data": {
            "text/plain": [
              "135.69357893530386"
            ]
          },
          "metadata": {},
          "execution_count": 67
        }
      ]
    },
    {
      "cell_type": "code",
      "metadata": {
        "colab": {
          "base_uri": "https://localhost:8080/",
          "height": 35
        },
        "id": "EFtih9o9DZtp",
        "outputId": "58b1fdc8-07b5-41ed-b678-932d263f4ca6"
      },
      "source": [
        "# we do need to add one extra degree of freedom to get exactly the correct value. \n",
        "p_from_t(t, df+1)"
      ],
      "execution_count": null,
      "outputs": [
        {
          "output_type": "execute_result",
          "data": {
            "text/plain": [
              "6.402319748031518e-26"
            ]
          },
          "metadata": {},
          "execution_count": 70
        }
      ]
    },
    {
      "cell_type": "code",
      "metadata": {
        "colab": {
          "base_uri": "https://localhost:8080/",
          "height": 35
        },
        "id": "ZM_PImytDQkC",
        "outputId": "8f4f8739-ce0c-41a7-fc03-36c2e8864fb4"
      },
      "source": [
        "p = 2 * st.t.cdf(-abs(t), df)\n",
        "p"
      ],
      "execution_count": null,
      "outputs": [
        {
          "output_type": "execute_result",
          "data": {
            "text/plain": [
              "6.402319748031518e-26"
            ]
          },
          "metadata": {},
          "execution_count": 69
        }
      ]
    },
    {
      "cell_type": "code",
      "metadata": {
        "colab": {
          "base_uri": "https://localhost:8080/",
          "height": 35
        },
        "id": "JnGswesAEO3p",
        "outputId": "adb0dbd4-a191-4c51-f811-8b595c1934cd"
      },
      "source": [
        "# Converting p into our negative log P notation, that's a negative log P value of 25.\n",
        "# This is an absolutely monstrous P value. \n",
        "# It means that we have an extremely statistically significant difference \n",
        "# between the weights of the male penguins relative to the female penguins.\n",
        "\n",
        "-np.log10(p)"
      ],
      "execution_count": null,
      "outputs": [
        {
          "output_type": "execute_result",
          "data": {
            "text/plain": [
              "25.193662639886046"
            ]
          },
          "metadata": {},
          "execution_count": 71
        }
      ]
    },
    {
      "cell_type": "markdown",
      "metadata": {
        "id": "NeMhE1nGFo8f"
      },
      "source": [
        "## NumPy t-test"
      ]
    },
    {
      "cell_type": "code",
      "metadata": {
        "colab": {
          "base_uri": "https://localhost:8080/",
          "height": 35
        },
        "id": "jwMo9VswFrjJ",
        "outputId": "55c1c1cb-25dc-4236-b3b2-c22307b5385d"
      },
      "source": [
        "st.ttest_ind(f, m, equal_var=False)"
      ],
      "execution_count": null,
      "outputs": [
        {
          "output_type": "execute_result",
          "data": {
            "text/plain": [
              "Ttest_indResult(statistic=-13.126285923485879, pvalue=6.402319748031518e-26)"
            ]
          },
          "metadata": {},
          "execution_count": 72
        }
      ]
    },
    {
      "cell_type": "markdown",
      "metadata": {
        "id": "nVZ_Uql7uDAD"
      },
      "source": [
        "# 8.3 Paired t-tests\n",
        "\n",
        "**Excerpt from the lecture**\n",
        "\n",
        "\"*For example, we could run an experiment where Alzheimer's disease patients receive a drug on one day let's call that the experimental condition, and then a sugar pill placebo on another day, we can call that the control condition. So, we can then measure the patient's forgetfulness on both days to test whether the drug has a significant impact on memory. So, for a given sample size, such as a paired t-test this is more powerful relative to the unpaired independent t-test because the variance of X is directly related to the variance of Y. A severe Alzheimer's patient will tend to be relatively forgetful on both days, while a mild Alzheimer's patient will tend to be relatively unforgetiful on both days. So with paired samples, we capture this power by comparing the difference between X and Y. For example, the difference in forgetfulness for given patients when given the drug relative to when given the sugar pill. In contrast, in the penguin dataset that we were working with in the preceding video, there wouldn't be an obvious way to pair a given male penguin with a corresponding female penguin or consider a situation where we provide a drug to one set of Alzheimer's patients, while we provide a placebo to an entire different, an independent group of patients.*\"\n"
      ]
    },
    {
      "cell_type": "code",
      "metadata": {
        "colab": {
          "base_uri": "https://localhost:8080/",
          "height": 422
        },
        "id": "7J8NFcglIHc5",
        "outputId": "d6bde68f-89ad-4c72-c11e-1d0696dd2a15"
      },
      "source": [
        "exercise = sb.load_dataset('exercise')\n",
        "exercise"
      ],
      "execution_count": null,
      "outputs": [
        {
          "output_type": "execute_result",
          "data": {
            "text/html": [
              "<div>\n",
              "<style scoped>\n",
              "    .dataframe tbody tr th:only-of-type {\n",
              "        vertical-align: middle;\n",
              "    }\n",
              "\n",
              "    .dataframe tbody tr th {\n",
              "        vertical-align: top;\n",
              "    }\n",
              "\n",
              "    .dataframe thead th {\n",
              "        text-align: right;\n",
              "    }\n",
              "</style>\n",
              "<table border=\"1\" class=\"dataframe\">\n",
              "  <thead>\n",
              "    <tr style=\"text-align: right;\">\n",
              "      <th></th>\n",
              "      <th>Unnamed: 0</th>\n",
              "      <th>id</th>\n",
              "      <th>diet</th>\n",
              "      <th>pulse</th>\n",
              "      <th>time</th>\n",
              "      <th>kind</th>\n",
              "    </tr>\n",
              "  </thead>\n",
              "  <tbody>\n",
              "    <tr>\n",
              "      <th>0</th>\n",
              "      <td>0</td>\n",
              "      <td>1</td>\n",
              "      <td>low fat</td>\n",
              "      <td>85</td>\n",
              "      <td>1 min</td>\n",
              "      <td>rest</td>\n",
              "    </tr>\n",
              "    <tr>\n",
              "      <th>1</th>\n",
              "      <td>1</td>\n",
              "      <td>1</td>\n",
              "      <td>low fat</td>\n",
              "      <td>85</td>\n",
              "      <td>15 min</td>\n",
              "      <td>rest</td>\n",
              "    </tr>\n",
              "    <tr>\n",
              "      <th>2</th>\n",
              "      <td>2</td>\n",
              "      <td>1</td>\n",
              "      <td>low fat</td>\n",
              "      <td>88</td>\n",
              "      <td>30 min</td>\n",
              "      <td>rest</td>\n",
              "    </tr>\n",
              "    <tr>\n",
              "      <th>3</th>\n",
              "      <td>3</td>\n",
              "      <td>2</td>\n",
              "      <td>low fat</td>\n",
              "      <td>90</td>\n",
              "      <td>1 min</td>\n",
              "      <td>rest</td>\n",
              "    </tr>\n",
              "    <tr>\n",
              "      <th>4</th>\n",
              "      <td>4</td>\n",
              "      <td>2</td>\n",
              "      <td>low fat</td>\n",
              "      <td>92</td>\n",
              "      <td>15 min</td>\n",
              "      <td>rest</td>\n",
              "    </tr>\n",
              "    <tr>\n",
              "      <th>...</th>\n",
              "      <td>...</td>\n",
              "      <td>...</td>\n",
              "      <td>...</td>\n",
              "      <td>...</td>\n",
              "      <td>...</td>\n",
              "      <td>...</td>\n",
              "    </tr>\n",
              "    <tr>\n",
              "      <th>85</th>\n",
              "      <td>85</td>\n",
              "      <td>29</td>\n",
              "      <td>no fat</td>\n",
              "      <td>135</td>\n",
              "      <td>15 min</td>\n",
              "      <td>running</td>\n",
              "    </tr>\n",
              "    <tr>\n",
              "      <th>86</th>\n",
              "      <td>86</td>\n",
              "      <td>29</td>\n",
              "      <td>no fat</td>\n",
              "      <td>130</td>\n",
              "      <td>30 min</td>\n",
              "      <td>running</td>\n",
              "    </tr>\n",
              "    <tr>\n",
              "      <th>87</th>\n",
              "      <td>87</td>\n",
              "      <td>30</td>\n",
              "      <td>no fat</td>\n",
              "      <td>99</td>\n",
              "      <td>1 min</td>\n",
              "      <td>running</td>\n",
              "    </tr>\n",
              "    <tr>\n",
              "      <th>88</th>\n",
              "      <td>88</td>\n",
              "      <td>30</td>\n",
              "      <td>no fat</td>\n",
              "      <td>111</td>\n",
              "      <td>15 min</td>\n",
              "      <td>running</td>\n",
              "    </tr>\n",
              "    <tr>\n",
              "      <th>89</th>\n",
              "      <td>89</td>\n",
              "      <td>30</td>\n",
              "      <td>no fat</td>\n",
              "      <td>150</td>\n",
              "      <td>30 min</td>\n",
              "      <td>running</td>\n",
              "    </tr>\n",
              "  </tbody>\n",
              "</table>\n",
              "<p>90 rows × 6 columns</p>\n",
              "</div>"
            ],
            "text/plain": [
              "    Unnamed: 0  id     diet  pulse    time     kind\n",
              "0            0   1  low fat     85   1 min     rest\n",
              "1            1   1  low fat     85  15 min     rest\n",
              "2            2   1  low fat     88  30 min     rest\n",
              "3            3   2  low fat     90   1 min     rest\n",
              "4            4   2  low fat     92  15 min     rest\n",
              "..         ...  ..      ...    ...     ...      ...\n",
              "85          85  29   no fat    135  15 min  running\n",
              "86          86  29   no fat    130  30 min  running\n",
              "87          87  30   no fat     99   1 min  running\n",
              "88          88  30   no fat    111  15 min  running\n",
              "89          89  30   no fat    150  30 min  running\n",
              "\n",
              "[90 rows x 6 columns]"
            ]
          },
          "metadata": {},
          "execution_count": 74
        }
      ]
    },
    {
      "cell_type": "markdown",
      "metadata": {
        "id": "wPpVpo6bITzF"
      },
      "source": [
        "There are 30 people in the dataset, with their pulse taken at three different time points in an experiment (i.e, after one, 15, and 30 minutes). Ten people were assigned to each of three activity groups:"
      ]
    },
    {
      "cell_type": "code",
      "metadata": {
        "colab": {
          "base_uri": "https://localhost:8080/",
          "height": 35
        },
        "id": "uC4bnuRuIVIc",
        "outputId": "3226bc1d-a239-4f32-8da0-78ac1176d227"
      },
      "source": [
        "np.unique(exercise.kind, return_counts=True)"
      ],
      "execution_count": null,
      "outputs": [
        {
          "output_type": "execute_result",
          "data": {
            "text/plain": [
              "(array(['rest', 'running', 'walking'], dtype=object), array([30, 30, 30]))"
            ]
          },
          "metadata": {},
          "execution_count": 75
        }
      ]
    },
    {
      "cell_type": "markdown",
      "metadata": {
        "id": "YsNK9hofIf5M"
      },
      "source": [
        "Within each of those activity groups, half of the participants are on a low-fat diet while the other half are on a no-fat diet:"
      ]
    },
    {
      "cell_type": "code",
      "metadata": {
        "colab": {
          "base_uri": "https://localhost:8080/",
          "height": 35
        },
        "id": "R--d3IeuIhyx",
        "outputId": "a70f040d-07ae-41a1-b08d-977dcf39dc10"
      },
      "source": [
        "np.unique(exercise.diet, return_counts=True)"
      ],
      "execution_count": null,
      "outputs": [
        {
          "output_type": "execute_result",
          "data": {
            "text/plain": [
              "(array(['low fat', 'no fat'], dtype=object), array([45, 45]))"
            ]
          },
          "metadata": {},
          "execution_count": 76
        }
      ]
    },
    {
      "cell_type": "code",
      "metadata": {
        "colab": {
          "base_uri": "https://localhost:8080/",
          "height": 518
        },
        "id": "z283fKDxIs-p",
        "outputId": "65985759-5850-471d-c743-939feee210d7"
      },
      "source": [
        "walk_no = exercise[(exercise.diet == 'no fat') & (exercise.kind == 'walking')]\n",
        "walk_no"
      ],
      "execution_count": null,
      "outputs": [
        {
          "output_type": "execute_result",
          "data": {
            "text/html": [
              "<div>\n",
              "<style scoped>\n",
              "    .dataframe tbody tr th:only-of-type {\n",
              "        vertical-align: middle;\n",
              "    }\n",
              "\n",
              "    .dataframe tbody tr th {\n",
              "        vertical-align: top;\n",
              "    }\n",
              "\n",
              "    .dataframe thead th {\n",
              "        text-align: right;\n",
              "    }\n",
              "</style>\n",
              "<table border=\"1\" class=\"dataframe\">\n",
              "  <thead>\n",
              "    <tr style=\"text-align: right;\">\n",
              "      <th></th>\n",
              "      <th>Unnamed: 0</th>\n",
              "      <th>id</th>\n",
              "      <th>diet</th>\n",
              "      <th>pulse</th>\n",
              "      <th>time</th>\n",
              "      <th>kind</th>\n",
              "    </tr>\n",
              "  </thead>\n",
              "  <tbody>\n",
              "    <tr>\n",
              "      <th>45</th>\n",
              "      <td>45</td>\n",
              "      <td>16</td>\n",
              "      <td>no fat</td>\n",
              "      <td>84</td>\n",
              "      <td>1 min</td>\n",
              "      <td>walking</td>\n",
              "    </tr>\n",
              "    <tr>\n",
              "      <th>46</th>\n",
              "      <td>46</td>\n",
              "      <td>16</td>\n",
              "      <td>no fat</td>\n",
              "      <td>86</td>\n",
              "      <td>15 min</td>\n",
              "      <td>walking</td>\n",
              "    </tr>\n",
              "    <tr>\n",
              "      <th>47</th>\n",
              "      <td>47</td>\n",
              "      <td>16</td>\n",
              "      <td>no fat</td>\n",
              "      <td>89</td>\n",
              "      <td>30 min</td>\n",
              "      <td>walking</td>\n",
              "    </tr>\n",
              "    <tr>\n",
              "      <th>48</th>\n",
              "      <td>48</td>\n",
              "      <td>17</td>\n",
              "      <td>no fat</td>\n",
              "      <td>103</td>\n",
              "      <td>1 min</td>\n",
              "      <td>walking</td>\n",
              "    </tr>\n",
              "    <tr>\n",
              "      <th>49</th>\n",
              "      <td>49</td>\n",
              "      <td>17</td>\n",
              "      <td>no fat</td>\n",
              "      <td>109</td>\n",
              "      <td>15 min</td>\n",
              "      <td>walking</td>\n",
              "    </tr>\n",
              "    <tr>\n",
              "      <th>50</th>\n",
              "      <td>50</td>\n",
              "      <td>17</td>\n",
              "      <td>no fat</td>\n",
              "      <td>90</td>\n",
              "      <td>30 min</td>\n",
              "      <td>walking</td>\n",
              "    </tr>\n",
              "    <tr>\n",
              "      <th>51</th>\n",
              "      <td>51</td>\n",
              "      <td>18</td>\n",
              "      <td>no fat</td>\n",
              "      <td>92</td>\n",
              "      <td>1 min</td>\n",
              "      <td>walking</td>\n",
              "    </tr>\n",
              "    <tr>\n",
              "      <th>52</th>\n",
              "      <td>52</td>\n",
              "      <td>18</td>\n",
              "      <td>no fat</td>\n",
              "      <td>96</td>\n",
              "      <td>15 min</td>\n",
              "      <td>walking</td>\n",
              "    </tr>\n",
              "    <tr>\n",
              "      <th>53</th>\n",
              "      <td>53</td>\n",
              "      <td>18</td>\n",
              "      <td>no fat</td>\n",
              "      <td>101</td>\n",
              "      <td>30 min</td>\n",
              "      <td>walking</td>\n",
              "    </tr>\n",
              "    <tr>\n",
              "      <th>54</th>\n",
              "      <td>54</td>\n",
              "      <td>19</td>\n",
              "      <td>no fat</td>\n",
              "      <td>97</td>\n",
              "      <td>1 min</td>\n",
              "      <td>walking</td>\n",
              "    </tr>\n",
              "    <tr>\n",
              "      <th>55</th>\n",
              "      <td>55</td>\n",
              "      <td>19</td>\n",
              "      <td>no fat</td>\n",
              "      <td>98</td>\n",
              "      <td>15 min</td>\n",
              "      <td>walking</td>\n",
              "    </tr>\n",
              "    <tr>\n",
              "      <th>56</th>\n",
              "      <td>56</td>\n",
              "      <td>19</td>\n",
              "      <td>no fat</td>\n",
              "      <td>100</td>\n",
              "      <td>30 min</td>\n",
              "      <td>walking</td>\n",
              "    </tr>\n",
              "    <tr>\n",
              "      <th>57</th>\n",
              "      <td>57</td>\n",
              "      <td>20</td>\n",
              "      <td>no fat</td>\n",
              "      <td>102</td>\n",
              "      <td>1 min</td>\n",
              "      <td>walking</td>\n",
              "    </tr>\n",
              "    <tr>\n",
              "      <th>58</th>\n",
              "      <td>58</td>\n",
              "      <td>20</td>\n",
              "      <td>no fat</td>\n",
              "      <td>104</td>\n",
              "      <td>15 min</td>\n",
              "      <td>walking</td>\n",
              "    </tr>\n",
              "    <tr>\n",
              "      <th>59</th>\n",
              "      <td>59</td>\n",
              "      <td>20</td>\n",
              "      <td>no fat</td>\n",
              "      <td>103</td>\n",
              "      <td>30 min</td>\n",
              "      <td>walking</td>\n",
              "    </tr>\n",
              "  </tbody>\n",
              "</table>\n",
              "</div>"
            ],
            "text/plain": [
              "    Unnamed: 0  id    diet  pulse    time     kind\n",
              "45          45  16  no fat     84   1 min  walking\n",
              "46          46  16  no fat     86  15 min  walking\n",
              "47          47  16  no fat     89  30 min  walking\n",
              "48          48  17  no fat    103   1 min  walking\n",
              "49          49  17  no fat    109  15 min  walking\n",
              "50          50  17  no fat     90  30 min  walking\n",
              "51          51  18  no fat     92   1 min  walking\n",
              "52          52  18  no fat     96  15 min  walking\n",
              "53          53  18  no fat    101  30 min  walking\n",
              "54          54  19  no fat     97   1 min  walking\n",
              "55          55  19  no fat     98  15 min  walking\n",
              "56          56  19  no fat    100  30 min  walking\n",
              "57          57  20  no fat    102   1 min  walking\n",
              "58          58  20  no fat    104  15 min  walking\n",
              "59          59  20  no fat    103  30 min  walking"
            ]
          },
          "metadata": {},
          "execution_count": 77
        }
      ]
    },
    {
      "cell_type": "markdown",
      "metadata": {
        "id": "3ApZZFENJIsa"
      },
      "source": [
        "\"*this paired t-test will allow us to compare a single individual at minute one, minute, 15 minute 30 and it's because of these relative differences.*\""
      ]
    },
    {
      "cell_type": "code",
      "metadata": {
        "colab": {
          "base_uri": "https://localhost:8080/",
          "height": 299
        },
        "id": "FWMPmAppJPqy",
        "outputId": "3c05981b-9011-4021-8589-153de8a373b8"
      },
      "source": [
        "# so are the increasing heart ratse over time staitstically significant?\n",
        "sb.boxplot(x='time', y='pulse', data=walk_no)"
      ],
      "execution_count": null,
      "outputs": [
        {
          "output_type": "execute_result",
          "data": {
            "text/plain": [
              "<matplotlib.axes._subplots.AxesSubplot at 0x7f79ff3c0890>"
            ]
          },
          "metadata": {},
          "execution_count": 78
        },
        {
          "output_type": "display_data",
          "data": {
            "image/png": "[encoded data removed]",
            "text/plain": [
              "<Figure size 432x288 with 1 Axes>"
            ]
          },
          "metadata": {
            "needs_background": "light"
          }
        }
      ]
    },
    {
      "cell_type": "code",
      "metadata": {
        "colab": {
          "base_uri": "https://localhost:8080/",
          "height": 72
        },
        "id": "dtZgaLrrJrbq",
        "outputId": "9c7e805b-4adf-4c54-8e0a-46c19910fc83"
      },
      "source": [
        "min1 = walk_no[walk_no.time == '1 min']['pulse'].to_numpy()\n",
        "min15 = walk_no[walk_no.time == '15 min']['pulse'].to_numpy()\n",
        "min30 = walk_no[walk_no.time == '30 min']['pulse'].to_numpy()\n",
        "\n",
        "min1, min15, min30"
      ],
      "execution_count": null,
      "outputs": [
        {
          "output_type": "execute_result",
          "data": {
            "text/plain": [
              "(array([ 84, 103,  92,  97, 102]),\n",
              " array([ 86, 109,  96,  98, 104]),\n",
              " array([ 89,  90, 101, 100, 103]))"
            ]
          },
          "metadata": {},
          "execution_count": 79
        }
      ]
    },
    {
      "cell_type": "code",
      "metadata": {
        "colab": {
          "base_uri": "https://localhost:8080/",
          "height": 35
        },
        "id": "2Uh8OKACJ7r2",
        "outputId": "ecaaa0aa-2fe8-491e-a64f-12e73064c405"
      },
      "source": [
        "mean1 = min1.mean()\n",
        "mean15 = min15.mean()\n",
        "mean30 = min30.mean()\n",
        "\n",
        "mean1, mean15, mean30"
      ],
      "execution_count": null,
      "outputs": [
        {
          "output_type": "execute_result",
          "data": {
            "text/plain": [
              "(95.6, 98.6, 96.6)"
            ]
          },
          "metadata": {},
          "execution_count": 80
        }
      ]
    },
    {
      "cell_type": "markdown",
      "metadata": {
        "id": "nBsBbze6KXyR"
      },
      "source": [
        "(With paired samples, we can plot the values in a scatterplot, which wouldn't make any sense for independent samples, e.g.:)"
      ]
    },
    {
      "cell_type": "code",
      "metadata": {
        "colab": {
          "base_uri": "https://localhost:8080/",
          "height": 295
        },
        "id": "RUamugc3KcZT",
        "outputId": "a69fa345-93ea-4bd4-d5d4-4561a0d1d26e"
      },
      "source": [
        "sb.scatterplot(x=min1, y=min15)\n",
        "plt.title('Heart rate of no-fat dieters (beats per minute)')\n",
        "plt.xlabel('After 1 minute walking')\n",
        "_ = plt.ylabel('After 15 minutes walking')"
      ],
      "execution_count": null,
      "outputs": [

        {
          "output_type": "display_data",
          "data": {
            "image/png": "[encoded data removed]",
            "text/plain": [
              "<Figure size 432x288 with 1 Axes>"
            ]
          },
          "metadata": {
            "needs_background": "light"
          }
        }
      ]
    },
    {
      "cell_type": "code",
      "metadata": {
        "colab": {
          "base_uri": "https://localhost:8080/",
          "height": 35
        },
        "id": "0QejkGMILLTD",
        "outputId": "02d0f9db-6d33-442b-dd88-c7c4ec41e59d"
      },
      "source": [
        "d = min15 - min1\n",
        "d_bar = d.mean()\n",
        "sd = st.sem(d)\n",
        "t = (d_bar - 0)/sd\n",
        "\n",
        "d, d_bar, sd, t"
      ],
      "execution_count": null,
      "outputs": [
        {
          "output_type": "execute_result",
          "data": {
            "text/plain": [
              "(array([2, 6, 4, 1, 2]), 3.0, 0.8944271909999159, 3.3541019662496847)"
            ]
          },
          "metadata": {},
          "execution_count": 82
        }
      ]
    },
    {
      "cell_type": "code",
      "metadata": {
        "colab": {
          "base_uri": "https://localhost:8080/",
          "height": 54
        },
        "id": "lfiyYqRVLLNb",
        "outputId": "03ff0aec-cd80-4e74-af74-51dbda857d80"
      },
      "source": [
        "print(  p_from_t(t, d.size))            # statistically significant as below 0.05\n",
        "print(  st.ttest_rel(min15, min1))"
      ],
      "execution_count": null,
      "outputs": [
        {
          "output_type": "stream",
          "name": "stdout",
          "text": [
            "0.02846020325433834\n",
            "Ttest_relResult(statistic=3.3541019662496847, pvalue=0.02846020325433834)\n"
          ]
        }
      ]
    },
    {
      "cell_type": "code",
      "metadata": {
        "colab": {
          "base_uri": "https://localhost:8080/",
          "height": 35
        },
        "id": "-5Nm4EY1LLHc",
        "outputId": "93f51e9b-1cd5-4831-949f-0520c2bf9cc4"
      },
      "source": [
        "st.ttest_rel(min15, min1)"
      ],
      "execution_count": null,
      "outputs": [
        {
          "output_type": "execute_result",
          "data": {
            "text/plain": [
              "Ttest_relResult(statistic=3.3541019662496847, pvalue=0.02846020325433834)"
            ]
          },
          "metadata": {},
          "execution_count": 84
        }
      ]
    },
    {
      "cell_type": "code",
      "metadata": {
        "id": "Dv_U97odLLBd"
      },
      "source": [
        ""
      ],
      "execution_count": null,
      "outputs": []
    },
    {
      "cell_type": "code",
      "metadata": {
        "id": "C99C-U1jLK6q"
      },
      "source": [
        ""
      ],
      "execution_count": null,
      "outputs": []
    },
    {
      "cell_type": "markdown",
      "metadata": {
        "id": "bkL7mU7cK0-m"
      },
      "source": [
        "To assess whether the mean heart rate varies significantly after one minute of walking relative to after 15 minutes, we can use Student's paired-sample (a.k.a., dependent) t-test: $$ t = \\frac{\\bar{d} - \\mu_0}{s_\\bar{d}} $$ Where:\n",
        "\n",
        "- $d$ is a vector of the differences between paired samples $x$ and $y$\n",
        "- $\\bar{d}$ is the mean of the differences\n",
        "- $\\mu_0$ will typically be zero, meaning the null hypothesis is that there is no difference between $x$ and $y$\n",
        "- $s_\\bar{d}$ is the standard error of the differences\n",
        "\n",
        "(Note how similar to single-sample t-test formula.)\n"
      ]
    },
    {
      "cell_type": "markdown",
      "metadata": {
        "id": "n-YdWBcluC6d"
      },
      "source": [
        "# 8.4 Applications to Machine Learning\n",
        "\n",
        "\n"
      ]
    },
    {
      "cell_type": "markdown",
      "metadata": {
        "id": "up62ewVuimqQ"
      },
      "source": [
        "## Single Sample T-test\n",
        "\n",
        "A variation of measure of spread using z-score (std)\n",
        "\n",
        "- You invent your own ML model and compare it against the established benchmark. \n",
        "- Run my model a number of times, get a sample of model outputs of model accuracies. \n",
        "- Using the single sample t-test, you can compare the sample of accuracies from your stochastic model against the established benchmark and get an assessment of the statistical significance of your performance."
      ]
    },
    {
      "cell_type": "markdown",
      "metadata": {
        "id": "88J3bCWsjTkr"
      },
      "source": [
        "## Independent T-test\n",
        "\n",
        "Comparing the means of two different datasets.\n",
        "\n",
        "- Does your model have **unwanted bias** in it? \n",
        "- You can test this using independent samples\n",
        "- Use independent samples to stratify our data set by different demographic groups.\n",
        "- Compare the model outputs for one group against the other groups.\n",
        "  - Are the difference statistically significant?"
      ]
    },
    {
      "cell_type": "markdown",
      "metadata": {
        "id": "edOWw2AFjk_J"
      },
      "source": [
        "## Paired Sample T-test\n",
        "\n",
        "You invented a new TensorFlow model running a neural network in a browser. Is it **significantly faster than the old model** in the browser? \n",
        "\n",
        "- Prepare paired samples with varying conditions:\n",
        "  - Try a bunch of runs with your new model versus your old model and you see which one performs higher than the other. \n",
        "  - Run the pairs on different browsers - Safari, Firefox, Chrome, on a mobile device, on a tablet, and on a desktop computer; \n",
        "  - Pair by the situations where you test the old model on Safari on an iPhone, and you test the new model on Safari on an iPhone."
      ]
    },
    {
      "cell_type": "markdown",
      "metadata": {
        "id": "ymyzircWuC1H"
      },
      "source": [
        "# 8.5 Exercises\n",
        "\n"
      ]
    },
    {
      "cell_type": "markdown",
      "metadata": {
        "id": "-3xNNA2GnPcp"
      },
      "source": [
        "## Exercise 1 - Stout yields\n",
        "1. You run four additional experiments with your GMO brewing yeast and now have the following eight stout yields: \n",
        "\n",
        "        [48, 50, 54, 60, 49, 55, 59, 62]. \n",
        "\n",
        "What is the t-statistic and is it significantly different from the 50L-yielding baseline process?\n",
        "\n",
        "\n",
        "Degrees of Freedom: if we know the values of the first 7 stout yields and the average of the  8 stout yields is 54.6L, the last yield doesn't have any freedom. It has to be a specific value (62L in this case) to make the mean 54.6L. \n",
        "Therefore, the DDOF (n - 1) is: \n",
        "$$8 - 1 = 7$$"
      ]
    },
    {
      "cell_type": "markdown",
      "metadata": {
        "id": "FDLsuHKV1Og4"
      },
      "source": [
        "Answer: \n",
        "The GMO yeast yields a mean of 54.6L, which is significantly more stout than the baseline process, t(7) = 2.45, $p < .05$."
      ]
    },
    {
      "cell_type": "code",
      "metadata": {
        "colab": {
          "base_uri": "https://localhost:8080/",
          "height": 35
        },
        "id": "j7lVgRwOnO7p",
        "outputId": "8c8aa1e0-d762-4347-cf21-56726c2956ce"
      },
      "source": [
        "stouts = [48, 50, 54, 60, 49, 55, 59, 62]\n",
        "count = len(stouts)\n",
        "stouts_mean = np.mean(stouts)\n",
        "stouts_std = np.sqrt(np.sum([(stout - stouts_mean)**2 for stout in stouts])/count)\n",
        "benchmark = 50\n",
        "\n",
        "stouts_mean, stouts_std"
      ],
      "execution_count": 25,
      "outputs": [
        {
          "output_type": "execute_result",
          "data": {
            "text/plain": [
              "(54.625, 4.998437255783052)"
            ]
          },
          "metadata": {},
          "execution_count": 25
        }
      ]
    },
    {
      "cell_type": "code",
      "metadata": {
        "colab": {
          "base_uri": "https://localhost:8080/",
          "height": 35
        },
        "id": "Fqs5Fz2-qi-l",
        "outputId": "ab08f019-04b9-4204-cb31-143eac223972"
      },
      "source": [
        "# std = np.sqrt(np.sum([(sample - sample_mean)**2 for sample in samples])/len(samples))\n",
        "\n",
        "def t_test(samples, benchmark):\n",
        "    sample_mean = np.mean(samples)\n",
        "    sample_std = st.sem(samples)\n",
        "    return (sample_mean - benchmark) / sample_std\n",
        "\n",
        "t = t_test(samples, 50)\n",
        "t"
      ],
      "execution_count": 32,
      "outputs": [
        {
          "output_type": "execute_result",
          "data": {
            "text/plain": [
              "2.448085108904054"
            ]
          },
          "metadata": {},
          "execution_count": 32
        }
      ]
    },
    {
      "cell_type": "code",
      "metadata": {
        "colab": {
          "base_uri": "https://localhost:8080/",
          "height": 17
        },
        "id": "kDiy5tBds7ok",
        "outputId": "2be2ea1e-54fe-4b64-b4de-417ad5d34efe"
      },
      "source": [
        "def p_from_t(t, n):                     # n = number of data points \n",
        "    return 2 * st.t.cdf(-abs(t), n-1)   # 2nd arg to t.cdf() is \"degrees of freedom\""
      ],
      "execution_count": 33,
      "outputs": [
      ]
    },
    {
      "cell_type": "code",
      "metadata": {
        "colab": {
          "base_uri": "https://localhost:8080/",
          "height": 35
        },
        "id": "bP6B1cR0tGFd",
        "outputId": "818ae472-4c3c-43b8-a6f6-9f8ab4b72806"
      },
      "source": [
        "p = p_from_t(t, count)\n",
        "p"
      ],
      "execution_count": 34,
      "outputs": [
        {
          "output_type": "execute_result",
          "data": {
            "text/plain": [
              "0.0442312968303811"
            ]
          },
          "metadata": {},
          "execution_count": 34
        }
      ]
    },
    {
      "cell_type": "markdown",
      "metadata": {
        "id": "8uyuwD6jt3b8"
      },
      "source": [
        "#### Using NumPy and SciPy"
      ]
    },
    {
      "cell_type": "code",
      "metadata": {
        "colab": {
          "base_uri": "https://localhost:8080/",
          "height": 35
        },
        "id": "BbXKYmsHvBj3",
        "outputId": "0639bc96-abec-4289-e08d-1424be0e4733"
      },
      "source": [
        "sem = st.sem(samples)\n",
        "sem"
      ],
      "execution_count": 21,
      "outputs": [
        {
          "output_type": "execute_result",
          "data": {
            "text/plain": [
              "1.8892317032517287"
            ]
          },
          "metadata": {},
          "execution_count": 21
        }
      ]
    },
    {
      "cell_type": "code",
      "metadata": {
        "colab": {
          "base_uri": "https://localhost:8080/",
          "height": 35
        },
        "id": "T9Y6s6tNuOCi",
        "outputId": "36c37775-1095-46c8-e6e5-8fa17c31e6d2"
      },
      "source": [
        "st.ttest_1samp(samples, 50)"
      ],
      "execution_count": 18,
      "outputs": [
        {
          "output_type": "execute_result",
          "data": {
            "text/plain": [
              "Ttest_1sampResult(statistic=2.448085108904054, pvalue=0.0442312968303811)"
            ]
          },
          "metadata": {},
          "execution_count": 18
        }
      ]
    },
    {
      "cell_type": "markdown",
      "metadata": {
        "id": "VXiUjlTstQ5L"
      },
      "source": [
        "Answer: \n",
        "Your GMO yeast DOES produce statistically significant yields."
      ]
    },
    {
      "cell_type": "markdown",
      "metadata": {
        "id": "7lBr1lKJnVCs"
      },
      "source": [
        "## Exercise 2 - Flipper lengths\n",
        "\n",
        "2. Does the flipper length of Adélie penguins from Dream island vary significantly by sex?"
      ]
    },
    {
      "cell_type": "markdown",
      "metadata": {
        "id": "UmkbXEed1HIC"
      },
      "source": [
        "Answer: \n",
        "- On Dream island, the flippers of male Adélie penguins (191.9 mm) are significantly longer than those of females (187.9 mm)\n",
        "- $t = 2.4$, $p < .05$.\n"
      ]
    },
    {
      "cell_type": "code",
      "metadata": {
        "colab": {
          "base_uri": "https://localhost:8080/",
          "height": 297
        },
        "id": "N4xrDbWYyvu9",
        "outputId": "6eea8b44-5460-4248-e3a2-924713c25a9a"
      },
      "source": [
        "sb.boxplot(x='island', y='flipper_length_mm', hue='sex', data=adelie)"
      ],
      "execution_count": 53,
      "outputs": [
        {
          "output_type": "execute_result",
          "data": {
            "text/plain": [
              "<matplotlib.axes._subplots.AxesSubplot at 0x7fde6f1c10d0>"
            ]
          },
          "metadata": {},
          "execution_count": 53
        },
        {
          "output_type": "display_data",
          "data": {
            "image/png": "[encoded data removed]",
            "text/plain": [
              "<Figure size 432x288 with 1 Axes>"
            ]
          },
          "metadata": {
            "needs_background": "light"
          }
        }
      ]
    },
    {
      "cell_type": "code",
      "metadata": {
        "colab": {
          "base_uri": "https://localhost:8080/",
          "height": 326
        },
        "id": "jfkEk6d6x489",
        "outputId": "5770b937-c75f-4fbb-ebc2-f92c1f74bb64"
      },
      "source": [
        "# First, capture the necessary data in vectors.\n",
        "print(adelie.sex.value_counts())\n",
        "\n",
        "males = adelie[adelie.sex == 'Male']['flipper_length_mm'].to_numpy()\n",
        "females = adelie[adelie.sex== 'Female']['flipper_length_mm'].to_numpy()\n",
        "\n",
        "males, females"
      ],
      "execution_count": 46,
      "outputs": [
        {
          "output_type": "stream",
          "name": "stdout",
          "text": [
            "Male      73\n",
            "Female    73\n",
            "Name: sex, dtype: int64\n"
          ]
        },
        {
          "output_type": "execute_result",
          "data": {
            "text/plain": [
              "(array([181., 190., 195., 191., 198., 197., 194., 180., 185., 180., 183.,\n",
              "        180., 178., 184., 196., 190., 184., 195., 196., 190., 182., 191.,\n",
              "        188., 200., 191., 193., 194., 195., 192., 192., 188., 198., 190.,\n",
              "        197., 195., 184., 195., 196., 193., 194., 190., 189., 205., 186.,\n",
              "        208., 196., 192., 203., 190., 184., 190., 197., 191., 197., 196.,\n",
              "        199., 189., 198., 202., 199., 195., 210., 197., 199., 190., 200.,\n",
              "        193., 187., 190., 185., 190., 193., 201.]),\n",
              " array([186., 195., 193., 181., 182., 185., 195., 184., 174., 189., 187.,\n",
              "        187., 172., 178., 188., 195., 180., 181., 182., 186., 185., 190.,\n",
              "        186., 190., 187., 186., 181., 185., 185., 184., 195., 190., 190.,\n",
              "        196., 190., 191., 187., 189., 187., 191., 189., 190., 202., 185.,\n",
              "        187., 190., 178., 192., 183., 193., 199., 181., 198., 193., 191.,\n",
              "        188., 189., 187., 176., 186., 191., 191., 190., 193., 187., 191.,\n",
              "        185., 193., 188., 192., 184., 195., 187.]))"
            ]
          },
          "metadata": {},
          "execution_count": 46
        }
      ]
    },
    {
      "cell_type": "code",
      "metadata": {
        "colab": {
          "base_uri": "https://localhost:8080/",
          "height": 35
        },
        "id": "C35w9OhOya_j",
        "outputId": "387eedca-0dff-4fb6-f2a3-50a809850528"
      },
      "source": [
        "male_bar = np.mean(males.flipper_length_mm)\n",
        "female_bar = np.mean(females.flipper_length_mm)\n",
        "\n",
        "male_bar, female_bar"
      ],
      "execution_count": 44,
      "outputs": [
        {
          "output_type": "execute_result",
          "data": {
            "text/plain": [
              "(192.41095890410958, 187.7945205479452)"
            ]
          },
          "metadata": {},
          "execution_count": 44
        }
      ]
    },
    {
      "cell_type": "code",
      "metadata": {
        "colab": {
          "base_uri": "https://localhost:8080/",
          "height": 35
        },
        "id": "pEiyGNRky4Zn",
        "outputId": "7dd3b690-915d-48e5-8706-eed7318afe4f"
      },
      "source": [
        "male_var = males.var(ddof=1)\n",
        "female_var = females.var(ddof=1)\n",
        "\n",
        "male_var, female_var"
      ],
      "execution_count": 48,
      "outputs": [
        {
          "output_type": "execute_result",
          "data": {
            "text/plain": [
              "(43.5509893455099, 31.304414003044144)"
            ]
          },
          "metadata": {},
          "execution_count": 48
        }
      ]
    },
    {
      "cell_type": "markdown",
      "metadata": {
        "id": "Hzghdf_C2kNT"
      },
      "source": [
        "### Manual"
      ]
    },
    {
      "cell_type": "code",
      "metadata": {
        "colab": {
          "base_uri": "https://localhost:8080/",
          "height": 35
        },
        "id": "lPth4zk10DKP",
        "outputId": "17c2b941-a80c-4581-f388-9f21c04488e1"
      },
      "source": [
        "t = (male_bar - female_bar) / (male_var/count + female_var/count)**(1/2)\n",
        "t"
      ],
      "execution_count": 51,
      "outputs": [
        {
          "output_type": "execute_result",
          "data": {
            "text/plain": [
              "4.5588666963515765"
            ]
          },
          "metadata": {},
          "execution_count": 51
        }
      ]
    },
    {
      "cell_type": "markdown",
      "metadata": {
        "id": "nnoAs9fX2l9Q"
      },
      "source": [
        "### Automatic"
      ]
    },
    {
      "cell_type": "code",
      "metadata": {
        "colab": {
          "base_uri": "https://localhost:8080/",
          "height": 35
        },
        "id": "2JKa4F2l0Vwt",
        "outputId": "22172100-5112-4269-e8d7-750f1172e709"
      },
      "source": [
        "t = st.ttest_ind(females, males, equal_var=False)  # equal_var=False  --> Welch's t-test\n",
        "t   #e-05: very staitistically significant"
      ],
      "execution_count": 54,
      "outputs": [
        {
          "output_type": "execute_result",
          "data": {
            "text/plain": [
              "Ttest_indResult(statistic=-4.5588666963515765, pvalue=1.1099750778082192e-05)"
            ]
          },
          "metadata": {},
          "execution_count": 54
        }
      ]
    },
    {
      "cell_type": "code",
      "metadata": {
        "colab": {
          "base_uri": "https://localhost:8080/",
          "height": 35
        },
        "id": "LVurdn7Q3Y_N",
        "outputId": "56ce750c-c717-4ea9-dceb-f3182f54521d"
      },
      "source": [
        "# depending on the order of the input samples, the direction of t value may change.\n",
        "# but the direction is not important. \n",
        "\n",
        "st.ttest_ind(males, females, equal_var=False)"
      ],
      "execution_count": 58,
      "outputs": [
        {
          "output_type": "execute_result",
          "data": {
            "text/plain": [
              "Ttest_indResult(statistic=4.5588666963515765, pvalue=1.1099750778082192e-05)"
            ]
          },
          "metadata": {},
          "execution_count": 58
        }
      ]
    },
    {
      "cell_type": "code",
      "metadata": {
        "colab": {
          "base_uri": "https://localhost:8080/",
          "height": 35
        },
        "id": "tlQbVTe_2-IX",
        "outputId": "99e1471e-4822-492f-8aca-603cb187883e"
      },
      "source": [
        "# p-value\n",
        "t[1]"
      ],
      "execution_count": 55,
      "outputs": [
        {
          "output_type": "execute_result",
          "data": {
            "text/plain": [
              "1.1099750778082192e-05"
            ]
          },
          "metadata": {},
          "execution_count": 55
        }
      ]
    },
    {
      "cell_type": "code",
      "metadata": {
        "colab": {
          "base_uri": "https://localhost:8080/",
          "height": 35
        },
        "id": "WkgtSV112_iW",
        "outputId": "7df160bd-4331-4df7-c13c-56c055cbdbc6"
      },
      "source": [
        "# negative log p-value\n",
        "-np.log10(t[1])"
      ],
      "execution_count": 57,
      "outputs": [
        {
          "output_type": "execute_result",
          "data": {
            "text/plain": [
              "4.954686772287105"
            ]
          },
          "metadata": {},
          "execution_count": 57
        }
      ]
    },
    {
      "cell_type": "markdown",
      "metadata": {
        "id": "o4gBfZX_nWqb"
      },
      "source": [
        "3. Was the heart rate of low-fat dieters different after one minute of rest relative to after 15 minutes of rest?\n"
      ]
    },
    {
      "cell_type": "markdown",
      "metadata": {
        "id": "-J6fcf4O4ZOg"
      },
      "source": [
        "Answer:\n",
        "- The heart rate of low-fat dieters did not change significantly after one minute of rest (88.6 bpm) relative to after 15 minutes of rest (89.6 bpm).\n",
        "- $t=2.2$, $p = .09$."
      ]
    },
    {
      "cell_type": "code",
      "metadata": {
        "colab": {
          "base_uri": "https://localhost:8080/",
          "height": 279
        },
        "id": "GeCcTUCZnXL3",
        "outputId": "89b911d7-a42b-4c59-f636-a876fba5584e"
      },
      "source": [
        "exercise = sb.load_dataset('exercise')\n",
        "\n",
        "rest_lo = exercise[(exercise.diet == 'low fat') & (exercise.kind == 'rest')]\n",
        "_ = sb.boxplot(x='time', y='pulse', data=rest_lo)"
      ],
      "execution_count": 61,
      "outputs": [
        {
          "output_type": "display_data",
          "data": {
            "image/png": "[encoded data removed]",
            "text/plain": [
              "<Figure size 432x288 with 1 Axes>"
            ]
          },
          "metadata": {
            "needs_background": "light"
          }
        }
      ]
    },
    {
      "cell_type": "code",
      "metadata": {
        "colab": {
          "base_uri": "https://localhost:8080/",
          "height": 35
        },
        "id": "7JFjUDXx3-6T",
        "outputId": "e4e2ffbc-069e-4f79-da68-1327973067f2"
      },
      "source": [
        "min1 = rest_lo[rest_lo.time == '1 min']['pulse'].to_numpy()\n",
        "min15 = rest_lo[rest_lo.time == '15 min']['pulse'].to_numpy()\n",
        "\n",
        "min1.mean(), min15.mean()"
      ],
      "execution_count": 63,
      "outputs": [
        {
          "output_type": "execute_result",
          "data": {
            "text/plain": [
              "(88.6, 89.6)"
            ]
          },
          "metadata": {},
          "execution_count": 63
        }
      ]
    },
    {
      "cell_type": "code",
      "metadata": {
        "colab": {
          "base_uri": "https://localhost:8080/",
          "height": 35
        },
        "id": "CC8AMsLD4GqD",
        "outputId": "765748c9-18be-4d7a-9a9b-ba2ec42d06fa"
      },
      "source": [
        "st.ttest_rel(min15, min1)"
      ],
      "execution_count": 64,
      "outputs": [
        {
          "output_type": "execute_result",
          "data": {
            "text/plain": [
              "Ttest_relResult(statistic=2.23606797749979, pvalue=0.08900934250008564)"
            ]
          },
          "metadata": {},
          "execution_count": 64
        }
      ]
    },
    {
      "cell_type": "markdown",
      "metadata": {
        "id": "ItzsTHnEuCO-"
      },
      "source": [
        "# 8.6 Confidence Intervals\n",
        "\n",
        "**Applications**: \n",
        "- Polling results\n",
        "- Example statement: \"*there is a 95% chance that the population mean lies within this particular range of values.*\" \n",
        "\n",
        "We can calculate he confidence interval by re-arranging the z-score formula. \n"
      ]
    },
    {
      "cell_type": "markdown",
      "metadata": {
        "id": "lnOL1BtO5B11"
      },
      "source": [
        "z-score:\n",
        "$$z = \\frac{x_i - \\mu}{\\sigma}$$\n",
        "\n",
        "Confidence interval formula: \n",
        "$$C.I. =\\bar x \\pm z\\frac{s}{\\sqrt n}$$"
      ]
    },
    {
      "cell_type": "markdown",
      "metadata": {
        "id": "Pc4iCPQ55iHs"
      },
      "source": [
        "Where:\n",
        "\n",
        "- $\\bar{x}$ is the sample mean\n",
        "- $s$ is the sample standard deviation\n",
        "- $n$ is the sample size\n",
        "- $z$ corresponds to a z-score threshold (e.g., the most common 95% CI is $z \\pm 1.960$; \n",
        "- other popular ones are the 90% CI at $z \\pm 1.645$ and the 99% CI at $z \\pm 2.576$)\n",
        "\n",
        "For example, to find the 95% confidence interval for the true mean yield of our GMO yeast:\n"
      ]
    },
    {
      "cell_type": "code",
      "metadata": {
        "colab": {
          "base_uri": "https://localhost:8080/",
          "height": 17
        },
        "id": "qga3XoZ5nBc-",
        "outputId": "5bbbf082-8c34-47ad-d10c-207f55c685d5"
      },
      "source": [
        "x = np.array([48, 50, 54, 60, 49, 55, 59, 62])"
      ],
      "execution_count": 65,
      "outputs": [
      ]
    },
    {
      "cell_type": "code",
      "metadata": {
        "colab": {
          "base_uri": "https://localhost:8080/",
          "height": 35
        },
        "id": "hrIUIOML6GG3",
        "outputId": "9601212c-22eb-4602-dcb3-d58b7f5e5064"
      },
      "source": [
        "x_bar = x.mean()\n",
        "s = x.std()\n",
        "n = x.size\n",
        "\n",
        "x_bar, s, n"
      ],
      "execution_count": 67,
      "outputs": [
        {
          "output_type": "execute_result",
          "data": {
            "text/plain": [
              "(54.625, 4.998437255783052, 8)"
            ]
          },
          "metadata": {},
          "execution_count": 67
        }
      ]
    },
    {
      "cell_type": "code",
      "metadata": {
        "colab": {
          "base_uri": "https://localhost:8080/",
          "height": 17
        },
        "id": "0nw5MOXk6Gtw",
        "outputId": "a87e8500-33a4-435f-b3d3-fa694088543a"
      },
      "source": [
        "z = 1.96"
      ],
      "execution_count": 68,
      "outputs": [
      ]
    },
    {
      "cell_type": "code",
      "metadata": {
        "colab": {
          "base_uri": "https://localhost:8080/",
          "height": 17
        },
        "id": "k2FAVH5H6G-_",
        "outputId": "7a00e5d7-d920-40ab-de08-f09b5bf0f40e"
      },
      "source": [
        "def CIerror_calc(z, s, n):\n",
        "    return z*(s/n**(1/2))"
      ],
      "execution_count": 69,
      "outputs": [
      ]
    },
    {
      "cell_type": "code",
      "metadata": {
        "colab": {
          "base_uri": "https://localhost:8080/",
          "height": 35
        },
        "id": "7va7ijBD6ofn",
        "outputId": "36fed670-2a2d-4830-e181-469022e8baed"
      },
      "source": [
        "# How far our CI is from the mean (x bar)\n",
        "CIerror = CIerror_calc(z, s, n)\n",
        "CIerror"
      ],
      "execution_count": 76,
      "outputs": [
        {
          "output_type": "execute_result",
          "data": {
            "text/plain": [
              "3.4637403013216796"
            ]
          },
          "metadata": {},
          "execution_count": 76
        }
      ]
    },
    {
      "cell_type": "code",
      "metadata": {
        "colab": {
          "base_uri": "https://localhost:8080/",
          "height": 35
        },
        "id": "lEghnU1U6vba",
        "outputId": "32e76524-6246-4e4f-8aac-362c83206703"
      },
      "source": [
        "# Arr or subtract the error from the bar.\n",
        "x_bar + CIerror, x_bar - CIerror"
      ],
      "execution_count": 75,
      "outputs": [
        {
          "output_type": "execute_result",
          "data": {
            "text/plain": [
              "(58.08874030132168, 51.16125969867832)"
            ]
          },
          "metadata": {},
          "execution_count": 75
        }
      ]
    },
    {
      "cell_type": "markdown",
      "metadata": {
        "id": "5nFDyMin7IaC"
      },
      "source": [
        "Therefore, there's a 95% chance that the true mean yield of our GMO yeast lies in the range of 51.2 to 58.1 liters. Since this CI doesn't overlap with the established baseline mean of 50L, this corresponds to stating that the GMO yield is significantly greater than the baseline where $\\alpha = .05$, as we already determined:\n"
      ]
    },
    {
      "cell_type": "code",
      "metadata": {
        "colab": {
          "base_uri": "https://localhost:8080/",
          "height": 283
        },
        "id": "nxuMP4IE7F7s",
        "outputId": "db847f55-4a32-4224-88f3-c4b1c1f00297"
      },
      "source": [
        "fig, ax = plt.subplots()\n",
        "plt.ylabel('Stout Yield (L)')\n",
        "plt.grid(axis='y')\n",
        "ax.errorbar(['GMO'], [x_bar], [CIerror], fmt='o', color='green', label='GMO strain\\nwith error range')\n",
        "_ = ax.axhline(50, color='orange', label='baseline\\nof non-GMO yeast')\n",
        "plt.legend()"
      ],
      "execution_count": 82,
      "outputs": [
        {
          "output_type": "execute_result",
          "data": {
            "text/plain": [
              "<matplotlib.legend.Legend at 0x7fde66ae1550>"
            ]
          },
          "metadata": {},
          "execution_count": 82
        },
        {
          "output_type": "display_data",
          "data": {
            "image/png": "[encoded data removed]",
            "text/plain": [
              "<Figure size 432x288 with 1 Axes>"
            ]
          },
          "metadata": {
            "needs_background": "light"
          }
        }
      ]
    },
    {
      "cell_type": "markdown",
      "metadata": {
        "id": "0X17JPLyDTNP"
      },
      "source": [
        "Similarly, we can compare several sample means with CIs. Using our penguins again:"
      ]
    },
    {
      "cell_type": "code",
      "metadata": {
        "colab": {
          "base_uri": "https://localhost:8080/",
          "height": 17
        },
        "id": "pDTuOuIADV5H",
        "outputId": "034d6e22-8fb1-4469-d999-ce18fe1ec1aa"
      },
      "source": [
        "fCIerr = CIerror_calc(z, female_var, females.size)\n",
        "mCIerr = CIerror_calc(z, male_var, males.size)"
      ],
      "execution_count": 95,
      "outputs": [
      ]
    },
    {
      "cell_type": "code",
      "metadata": {
        "colab": {
          "base_uri": "https://localhost:8080/",
          "height": 281
        },
        "id": "R-cRZzBTEvef",
        "outputId": "9d34e46e-e984-4f34-a5dc-f9008c593e1c"
      },
      "source": [
        "fig, ax = plt.subplots()\n",
        "plt.title('Adélie Penguins')\n",
        "plt.ylabel('Weight (kg)')\n",
        "plt.grid(axis='y')\n",
        "_ = ax.errorbar(['female', 'male'], [female_bar, male_bar], [fCIerr, mCIerr], \n",
        "                fmt='.', color='green')"
      ],
      "execution_count": 96,
      "outputs": [
        {
          "output_type": "display_data",
          "data": {
            "image/png": "[encoded data removed]",
            "text/plain": [
              "<Figure size 432x288 with 1 Axes>"
            ]
          },
          "metadata": {
            "needs_background": "light"
          }
        }
      ]
    },
    {
      "cell_type": "code",
      "metadata": {
        "colab": {
          "base_uri": "https://localhost:8080/",
          "height": 17
        },
        "id": "PeelFseHEaQj",
        "outputId": "9427ca47-c5f4-44e3-e493-ce3b4f26d2ad"
      },
      "source": [
        "t = adelie[(adelie.sex == 'Female') & (adelie.island == 'Torgersen')]['body_mass_g'].to_numpy()/1000\n",
        "b = adelie[(adelie.sex == 'Female') & (adelie.island == 'Biscoe')]['body_mass_g'].to_numpy()/1000\n",
        "d = adelie[(adelie.sex == 'Female') & (adelie.island == 'Dream')]['body_mass_g'].to_numpy()/1000\n",
        "\n",
        "means = [t.mean(), b.mean(), d.mean()]"
      ],
      "execution_count": 97,
      "outputs": [
      ]
    },
    {
      "cell_type": "code",
      "metadata": {
        "colab": {
          "base_uri": "https://localhost:8080/",
          "height": 17
        },
        "id": "H9Vr2IXPEeVS",
        "outputId": "02151c04-19e8-492a-9b67-f95d7e76fb27"
      },
      "source": [
        "# standard error\n",
        "s_t, sb, sd = t.var(ddof=1), b.var(ddof=1), d.var(ddof=1) # s_t to disambiguate stats package\n",
        "# number of observations\n",
        "nt, nb, nd = t.size, b.size, d.size\n",
        "# Confidence Interval errors\n",
        "CIerrors = [CIerror_calc(z, s_t, nt), CIerror_calc(z, sb, nb), CIerror_calc(z, sd, nd)]"
      ],
      "execution_count": 98,
      "outputs": [
      ]
    },
    {
      "cell_type": "code",
      "metadata": {
        "colab": {
          "base_uri": "https://localhost:8080/",
          "height": 281
        },
        "id": "DWaQuAZQEK1q",
        "outputId": "6fda61b7-1f8e-4032-b2a6-8d5b32f79d7d"
      },
      "source": [
        "fig, ax = plt.subplots()\n",
        "plt.title('Female Adélie Penguins')\n",
        "plt.ylabel('Weight (kg)')\n",
        "plt.grid(axis='y')\n",
        "_ = ax.errorbar(['Torgersen', 'Biscoe', 'Dream'], means, CIerrors, \n",
        "                fmt='o', color='green')"
      ],
      "execution_count": 99,
      "outputs": [
        {
          "output_type": "display_data",
          "data": {
            "image/png": "[encoded data removed]",
            "text/plain": [
              "<Figure size 432x288 with 1 Axes>"
            ]
          },
          "metadata": {
            "needs_background": "light"
          }
        }
      ]
    },
    {
      "cell_type": "markdown",
      "metadata": {
        "id": "N1lyFtuKuIw4"
      },
      "source": [
        "# 8.7 ANOVA: Analysis of Variance\n",
        "\n",
        "Enables us to compare more than 2 samples in a single statistical analysis. \n",
        "\n",
        "There are 3 assumptions to run ANOVA test. The samples must: \n",
        "- independent (not paired)\n",
        "- normally distributed\n",
        "- Homoscedasticity: population standard deviations are equal.\n",
        "\n",
        "While not especially complicated under the hood (you can dig into the formulae [here](https://en.wikipedia.org/wiki/Analysis_of_variance#Logic)), ANOVA might be the least widely-applicable topic within Intro to Stats to ML so in the interest of time, we'll skip straight to the Python code:\n"
      ]
    },
    {
      "cell_type": "code",
      "metadata": {
        "colab": {
          "base_uri": "https://localhost:8080/",
          "height": 35
        },
        "id": "BfKPWbJjFujN",
        "outputId": "c4537c56-536c-480c-bb21-790e7789de07"
      },
      "source": [
        "# one-way f test. provides f-statistic\n",
        "st.f_oneway(t, b, d)\n",
        "\n",
        "# overall, across the three islands, \n",
        "# there is no statistically significant difference in female penguin's body mass by island. \n",
        "# With the f-statistic one-way ANOVA, we can conclude that: \n",
        "# he islands do not cause the female body weights to vary significantly.\n",
        "# (Islands do not affect body weight)."
      ],
      "execution_count": 100,
      "outputs": [
        {
          "output_type": "execute_result",
          "data": {
            "text/plain": [
              "F_onewayResult(statistic=0.22627752438542714, pvalue=0.7980777848719299)"
            ]
          },
          "metadata": {},
          "execution_count": 100
        }
      ]
    },
    {
      "cell_type": "markdown",
      "metadata": {
        "id": "elxDS14MZjIH"
      },
      "source": [
        "# Important Functions\n",
        "- `st.norm.ppf(.025)`\n",
        "  - `pass in p-value, returns z-score`\n",
        "- `st.norm.cdf(-2.5)`\n",
        "  - `pass in z-score, returns p-value`\n",
        "- `st.t.cdf(-abs(t), ddof)`: most common ddof n-1\n",
        "- `st.ttest_1samp(observed value, reference mean)`\n",
        "- `st.ttest_ind(x1, x2, equal_var=False)`\n",
        "- `st.ttest_rel(x1, x2)`: for paired-sample t-test\n",
        "- `ax.errorbar(['label'], [sample_mean], [CI error], fmt='o', color='green')`\n",
        "- `st.f_oneway(sample1, sample2, sample3)`"
      ]
    },
    {
      "cell_type": "markdown",
      "metadata": {
        "id": "TjWrB1KrZrD1"
      },
      "source": [
        "# Error Notes \n",
        "- `TypeError: slice indices must be integers or None or have an __index__ method`\n",
        "  - Make sure the data type is `int`, not `float` when cropping the image using the pixel index."
      ]
    },
    {
      "cell_type": "markdown",
      "metadata": {
        "id": "IHSZRre2ZwNR"
      },
      "source": [
        "## References\n",
        "\n",
        "My Statistics learning notebook following the live lesson series [**\"Probability and Statistics for Machine Learning\"**](https://learning.oreilly.com/videos/probability-and-statistics/9780137566273/) by Dr. Jon Krohn. I adapted some and partially modified or added entirely new code. Notes largely based on and from Jon's notebooks and learning materials. The lesson and original notebook source code at:\n",
        "\n",
        "https://learning.oreilly.com/videos/probability-and-statistics/9780137566273/\n",
        "https://github.com/jonkrohn/ML-foundations/blob/master/notebooks/4-calculus-ii.ipynb"
      ]
    }
  ]
}
