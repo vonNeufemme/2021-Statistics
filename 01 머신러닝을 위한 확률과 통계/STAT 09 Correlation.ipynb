{
  "nbformat": 4,
  "nbformat_minor": 0,
  "metadata": {
    "colab": {
      "name": "STAT 09 Correlation.ipynb",
      "provenance": [],
      "collapsed_sections": []
    },
    "kernelspec": {
      "name": "python3",
      "display_name": "Python 3"
    },
    "language_info": {
      "name": "python"
    }
  },
  "cells": [
    {
      "cell_type": "markdown",
      "metadata": {
        "id": "gSC9-aAWIV0C"
      },
      "source": [
        "# 9.1 The Pearson Correlation Coefficient\n",
        "\n",
        "If we have two vectors of the same length, $x$ and $y$, where each element of $x$ is paired with the corresponding element of $y$, covariance provides a measure of how related the variables are to each other: $$ \\text{cov}(x, y) = \\frac{\\sum_{i=1}^n (x_i - \\bar{x})(y_i - \\bar{y}) }{n} $$\n",
        "\n",
        "A drawback of covariance is that it confounds the relative scale of two variables with a measure of the variables' relatedness. Correlation builds on covariance and overcomes this drawback via rescaling, thereby measuring (linear) relatedness exclusively. Correlation is much more common because of this difference.\n",
        "\n",
        "The correlation coefficient (developed by Karl Pearson in the 20th c. though known in the 19th c.) is often denoted with $r$ or $\\rho$ and is defined by: $$ \\rho_{x,y} = \\frac{\\text{cov}(x,y)}{\\sigma_x \\sigma_y} $$\n",
        "\n"
      ]
    },
    {
      "cell_type": "code",
      "metadata": {
        "colab": {
          "base_uri": "https://localhost:8080/",
          "height": 422
        },
        "id": "uUQD2amsJGkC",
        "outputId": "02ce874e-a0b9-44a1-e414-eb2c25286d7e"
      },
      "source": [
        "iris = sb.load_dataset('iris')\n",
        "iris"
      ],
      "execution_count": 5,
      "outputs": [
        {
          "output_type": "execute_result",
          "data": {
            "text/html": [
              "<div>\n",
              "<style scoped>\n",
              "    .dataframe tbody tr th:only-of-type {\n",
              "        vertical-align: middle;\n",
              "    }\n",
              "\n",
              "    .dataframe tbody tr th {\n",
              "        vertical-align: top;\n",
              "    }\n",
              "\n",
              "    .dataframe thead th {\n",
              "        text-align: right;\n",
              "    }\n",
              "</style>\n",
              "<table border=\"1\" class=\"dataframe\">\n",
              "  <thead>\n",
              "    <tr style=\"text-align: right;\">\n",
              "      <th></th>\n",
              "      <th>sepal_length</th>\n",
              "      <th>sepal_width</th>\n",
              "      <th>petal_length</th>\n",
              "      <th>petal_width</th>\n",
              "      <th>species</th>\n",
              "    </tr>\n",
              "  </thead>\n",
              "  <tbody>\n",
              "    <tr>\n",
              "      <th>0</th>\n",
              "      <td>5.1</td>\n",
              "      <td>3.5</td>\n",
              "      <td>1.4</td>\n",
              "      <td>0.2</td>\n",
              "      <td>setosa</td>\n",
              "    </tr>\n",
              "    <tr>\n",
              "      <th>1</th>\n",
              "      <td>4.9</td>\n",
              "      <td>3.0</td>\n",
              "      <td>1.4</td>\n",
              "      <td>0.2</td>\n",
              "      <td>setosa</td>\n",
              "    </tr>\n",
              "    <tr>\n",
              "      <th>2</th>\n",
              "      <td>4.7</td>\n",
              "      <td>3.2</td>\n",
              "      <td>1.3</td>\n",
              "      <td>0.2</td>\n",
              "      <td>setosa</td>\n",
              "    </tr>\n",
              "    <tr>\n",
              "      <th>3</th>\n",
              "      <td>4.6</td>\n",
              "      <td>3.1</td>\n",
              "      <td>1.5</td>\n",
              "      <td>0.2</td>\n",
              "      <td>setosa</td>\n",
              "    </tr>\n",
              "    <tr>\n",
              "      <th>4</th>\n",
              "      <td>5.0</td>\n",
              "      <td>3.6</td>\n",
              "      <td>1.4</td>\n",
              "      <td>0.2</td>\n",
              "      <td>setosa</td>\n",
              "    </tr>\n",
              "    <tr>\n",
              "      <th>...</th>\n",
              "      <td>...</td>\n",
              "      <td>...</td>\n",
              "      <td>...</td>\n",
              "      <td>...</td>\n",
              "      <td>...</td>\n",
              "    </tr>\n",
              "    <tr>\n",
              "      <th>145</th>\n",
              "      <td>6.7</td>\n",
              "      <td>3.0</td>\n",
              "      <td>5.2</td>\n",
              "      <td>2.3</td>\n",
              "      <td>virginica</td>\n",
              "    </tr>\n",
              "    <tr>\n",
              "      <th>146</th>\n",
              "      <td>6.3</td>\n",
              "      <td>2.5</td>\n",
              "      <td>5.0</td>\n",
              "      <td>1.9</td>\n",
              "      <td>virginica</td>\n",
              "    </tr>\n",
              "    <tr>\n",
              "      <th>147</th>\n",
              "      <td>6.5</td>\n",
              "      <td>3.0</td>\n",
              "      <td>5.2</td>\n",
              "      <td>2.0</td>\n",
              "      <td>virginica</td>\n",
              "    </tr>\n",
              "    <tr>\n",
              "      <th>148</th>\n",
              "      <td>6.2</td>\n",
              "      <td>3.4</td>\n",
              "      <td>5.4</td>\n",
              "      <td>2.3</td>\n",
              "      <td>virginica</td>\n",
              "    </tr>\n",
              "    <tr>\n",
              "      <th>149</th>\n",
              "      <td>5.9</td>\n",
              "      <td>3.0</td>\n",
              "      <td>5.1</td>\n",
              "      <td>1.8</td>\n",
              "      <td>virginica</td>\n",
              "    </tr>\n",
              "  </tbody>\n",
              "</table>\n",
              "<p>150 rows × 5 columns</p>\n",
              "</div>"
            ],
            "text/plain": [
              "     sepal_length  sepal_width  petal_length  petal_width    species\n",
              "0             5.1          3.5           1.4          0.2     setosa\n",
              "1             4.9          3.0           1.4          0.2     setosa\n",
              "2             4.7          3.2           1.3          0.2     setosa\n",
              "3             4.6          3.1           1.5          0.2     setosa\n",
              "4             5.0          3.6           1.4          0.2     setosa\n",
              "..            ...          ...           ...          ...        ...\n",
              "145           6.7          3.0           5.2          2.3  virginica\n",
              "146           6.3          2.5           5.0          1.9  virginica\n",
              "147           6.5          3.0           5.2          2.0  virginica\n",
              "148           6.2          3.4           5.4          2.3  virginica\n",
              "149           5.9          3.0           5.1          1.8  virginica\n",
              "\n",
              "[150 rows x 5 columns]"
            ]
          },
          "metadata": {},
          "execution_count": 5
        }
      ]
    },
    {
      "cell_type": "code",
      "metadata": {
        "id": "Ae7nofSWJR1F"
      },
      "source": [
        "x = iris.sepal_length\n",
        "y = iris.petal_length\n",
        "colors = iris.species.to_numpy()\n",
        "color_codes = []\n",
        "for color in colors:\n",
        "    if (color == 'setosa'):\n",
        "        color_codes.append(1)\n",
        "    elif (color == 'versicolor'):\n",
        "        color_codes.append(2)\n",
        "    else: color_codes.append(3)\n"
      ],
      "execution_count": null,
      "outputs": []
    },
    {
      "cell_type": "code",
      "metadata": {
        "colab": {
          "base_uri": "https://localhost:8080/",
          "height": 280
        },
        "id": "scaNEzRvJT-M",
        "outputId": "72bbe996-c1b0-441f-d9f9-c5ccac6002fe"
      },
      "source": [
        "sb.set_style('darkgrid')\n",
        "_ = sb.scatterplot(x=x, y=y, c=color_codes)"
      ],
      "execution_count": 17,
      "outputs": [
        {
          "output_type": "display_data",
          "data": {
            "image/png": "[encoded data removed]",
            "text/plain": [
              "<Figure size 432x288 with 1 Axes>"
            ]
          },
          "metadata": {}
        }
      ]
    },
    {
      "cell_type": "code",
      "metadata": {
        "colab": {
          "base_uri": "https://localhost:8080/",
          "height": 108
        },
        "id": "9rl9xjZnJZUv",
        "outputId": "ea0006aa-aa2b-45c3-d696-09b77f380042"
      },
      "source": [
        "n = iris.sepal_width.size\n",
        "xbar, ybar = x.mean(), y.mean()\n",
        "\n",
        "product = []\n",
        "for i in range(n):\n",
        "    product.append((x[i]-xbar)*(y[i]-ybar))\n",
        "\n",
        "cov = sum(product)/n\n",
        "r = cov/(np.std(x)*np.std(y))\n",
        "\n",
        "n, xbar, ybar, cov, r"
      ],
      "execution_count": 19,
      "outputs": [
        {
          "output_type": "execute_result",
          "data": {
            "text/plain": [
              "(150,\n",
              " 5.843333333333335,\n",
              " 3.7580000000000027,\n",
              " 1.2658199999999995,\n",
              " 0.8717537758865828)"
            ]
          },
          "metadata": {},
          "execution_count": 19
        }
      ]
    },
    {
      "cell_type": "markdown",
      "metadata": {
        "id": "8o0FhqYCLIVH"
      },
      "source": [
        "We reached this point in Probability. Now, as for how to determine a p-value, we first calculate the t-statistic... $$ t = r \\sqrt{\\frac{n-2}{1-r^2}} $$"
      ]
    },
    {
      "cell_type": "markdown",
      "metadata": {
        "id": "vyee4yWdLkNB"
      },
      "source": [
        "- $n$: number of samples\n",
        "- $r$: r-squared\n",
        "- $r$: coefficient r for the square root"
      ]
    },
    {
      "cell_type": "code",
      "metadata": {
        "colab": {
          "base_uri": "https://localhost:8080/",
          "height": 35
        },
        "id": "HHdBN1mmLFod",
        "outputId": "c8873072-1910-4388-d8db-87c202c3aeb4"
      },
      "source": [
        "t = r*((n-2)/(1-r**2))**(1/2)\n",
        "t                               # a bic t-statistic. will be statistically significant."
      ],
      "execution_count": 22,
      "outputs": [
        {
          "output_type": "execute_result",
          "data": {
            "text/plain": [
              "21.64601934575973"
            ]
          },
          "metadata": {},
          "execution_count": 22
        }
      ]
    },
    {
      "cell_type": "markdown",
      "metadata": {
        "id": "ImQLSJbNLUw7"
      },
      "source": [
        "...which we can convert to a p-value as we've done several times above:"
      ]
    },
    {
      "cell_type": "code",
      "metadata": {
        "colab": {
          "base_uri": "https://localhost:8080/",
          "height": 35
        },
        "id": "I52DzJVxLWNo",
        "outputId": "6ddcbba1-9f07-4f60-be8c-b602f2172b78"
      },
      "source": [
        "import scipy.stats as st\n",
        "\n",
        "def p_from_t(t, n):\n",
        "    return 2 * st.t.cdf(-abs(t), n-1) # 2nd arg to t.cdf() is \"degrees of freedom\"\n",
        "\n",
        "p = p_from_t(t, n-1) \n",
        "p"
      ],
      "execution_count": 24,
      "outputs": [
        {
          "output_type": "execute_result",
          "data": {
            "text/plain": [
              "1.0386674194500194e-47"
            ]
          },
          "metadata": {},
          "execution_count": 24
        }
      ]
    },
    {
      "cell_type": "code",
      "metadata": {
        "colab": {
          "base_uri": "https://localhost:8080/",
          "height": 35
        },
        "id": "sLxohHcIMNTj",
        "outputId": "2e8ab3e1-4ad1-4657-fb5c-ad9ba2100782"
      },
      "source": [
        "-np.log10(p)"
      ],
      "execution_count": 25,
      "outputs": [
        {
          "output_type": "execute_result",
          "data": {
            "text/plain": [
              "46.98352349096027"
            ]
          },
          "metadata": {},
          "execution_count": 25
        }
      ]
    },
    {
      "cell_type": "markdown",
      "metadata": {
        "id": "N-hqtEZpMVbo"
      },
      "source": [
        "This confirms that iris sepal length is extremely positively correlated with petal length.\n",
        "\n",
        "All of the above can be done in a single line with SciPy's pearsonr() method:"
      ]
    },
    {
      "cell_type": "code",
      "metadata": {
        "colab": {
          "base_uri": "https://localhost:8080/",
          "height": 35
        },
        "id": "AnDMVy1eMXlr",
        "outputId": "4a5797cf-89a4-4e79-bbf4-3e24515b4560"
      },
      "source": [
        "st.pearsonr(x, y) # returns: correlation between two samples, p-value"
      ],
      "execution_count": 26,
      "outputs": [
        {
          "output_type": "execute_result",
          "data": {
            "text/plain": [
              "(0.8717537758865831, 1.0386674194498099e-47)"
            ]
          },
          "metadata": {},
          "execution_count": 26
        }
      ]
    },
    {
      "cell_type": "code",
      "metadata": {
        "colab": {
          "base_uri": "https://localhost:8080/",
          "height": 283
        },
        "id": "imNMCcSwMzIx",
        "outputId": "1b7f8849-5188-4a0a-cf99-7c0b91c9eb85"
      },
      "source": [
        "_ = sb.scatterplot(x=iris.sepal_length, y=iris.sepal_width, c=color_codes)"
      ],
      "execution_count": 29,
      "outputs": [
        {
          "output_type": "display_data",
          "data": {
            "image/png": "[encoded data removed]",
            "text/plain": [
              "<Figure size 432x288 with 1 Axes>"
            ]
          },
          "metadata": {}
        }
      ]
    },
    {
      "cell_type": "code",
      "metadata": {
        "colab": {
          "base_uri": "https://localhost:8080/",
          "height": 35
        },
        "id": "JRxgr2ncM2vL",
        "outputId": "f4dae5ed-e338-42c4-a7d1-3d88b5447c44"
      },
      "source": [
        "st.pearsonr(iris.sepal_length, iris.sepal_width)\n",
        "# modest negative correlation of -0.11\n",
        "# NOT statistically significant - sepal's length and width are statiatically NOT meaningful."
      ],
      "execution_count": 28,
      "outputs": [
        {
          "output_type": "execute_result",
          "data": {
            "text/plain": [
              "(-0.11756978413300206, 0.15189826071144766)"
            ]
          },
          "metadata": {},
          "execution_count": 28
        }
      ]
    },
    {
      "cell_type": "markdown",
      "metadata": {
        "id": "E8VzXqN4My1j"
      },
      "source": [
        ""
      ]
    },
    {
      "cell_type": "markdown",
      "metadata": {
        "id": "WizGtPCTMwKs"
      },
      "source": [
        "And, for reference, here's a correlation that is not significant ($r \\approx 0$):"
      ]
    },
    {
      "cell_type": "markdown",
      "metadata": {
        "id": "rrVFN66LkSKC"
      },
      "source": [
        "# 9.2 R-squared Coefficient of Determination\n",
        "\n",
        "...also known as $r^2$, this is the proportion of variance in one variable explained by another.\n",
        "\n",
        "It can range from 0 to 1 and it is simply the square of the Pearson $r$:\n",
        "\n"
      ]
    },
    {
      "cell_type": "markdown",
      "metadata": {
        "id": "cbTmFnoWOdiX"
      },
      "source": [
        "Just because there's correlation between two things doesn't mean there's causation.\n",
        "For instance, compare the coreelation coefficients between:  \n",
        "  - 1) Sepal length * Petal length (linearly positively correlated) 0.76 = 76%  \n",
        "  - 2) Sepal_length * Sepal_width (no correlation) 0.014 = 1.4%"
      ]
    },
    {
      "cell_type": "code",
      "metadata": {
        "colab": {
          "base_uri": "https://localhost:8080/",
          "height": 35
        },
        "id": "pzXQHhSjNEwF",
        "outputId": "37275ebc-8897-4424-b4a8-c1a988932c27"
      },
      "source": [
        "rsq = r**2\n",
        "rsq"
      ],
      "execution_count": 30,
      "outputs": [
        {
          "output_type": "execute_result",
          "data": {
            "text/plain": [
              "0.7599546457725144"
            ]
          },
          "metadata": {},
          "execution_count": 30
        }
      ]
    },
    {
      "cell_type": "markdown",
      "metadata": {
        "id": "htUv82R3N6bV"
      },
      "source": [
        "In this case, it indicates that 76% of the variance in iris petal length can be explained by sepal length. (This is easier to understand where one variable could straightforwardly drive variation in the other; more on that in Segment 2.)\n",
        "\n",
        "<br/>\n",
        "\n",
        "For comparison, only 1.4% of the variance in sepal width can be explained by sepal length:"
      ]
    },
    {
      "cell_type": "code",
      "metadata": {
        "colab": {
          "base_uri": "https://localhost:8080/",
          "height": 35
        },
        "id": "sDzGf1CJOJYD",
        "outputId": "ebbe4c34-e2d7-4894-89c4-a857650d9fde"
      },
      "source": [
        "st.pearsonr(iris.sepal_length, iris.sepal_width)[0]**2"
      ],
      "execution_count": 31,
      "outputs": [
        {
          "output_type": "execute_result",
          "data": {
            "text/plain": [
              "0.013822654141080705"
            ]
          },
          "metadata": {},
          "execution_count": 31
        }
      ]
    },
    {
      "cell_type": "markdown",
      "metadata": {
        "id": "jo4aevMAPzUt"
      },
      "source": [
        "Criteria for inferring causal relationships:  \n",
        "  - 1) must have covariation: two variables must vary together.  \n",
        "  - 2) temporal precedence: the affected variable must vary after the causal variable varies.\n",
        "    - The causal variable varies first, and that change causes the affected variable to vary.\n"
      ]
    },
    {
      "cell_type": "markdown",
      "metadata": {
        "id": "jLCPH40FIlk4"
      },
      "source": [
        "# 9.3 Correlation versus Causation\n"
      ]
    },
    {
      "cell_type": "code",
      "metadata": {
        "colab": {
          "base_uri": "https://localhost:8080/",
          "height": 761
        },
        "id": "ju0i4rN6Tw6t",
        "outputId": "1b19ba86-ce36-40c6-d17f-22c95fa434b0"
      },
      "source": [
        "# Lecture notes from 9.3 Correlation versus Causation by dr. Jon Krohn\n",
        "note1 = sticky_notes(notes1, fontScale=0.4, fontFace=cv2.FONT_HERSHEY_SIMPLEX)\n",
        "note2 = sticky_notes(notes2, fontScale=0.4, fontFace=cv2.FONT_HERSHEY_SIMPLEX)\n",
        "note3 = sticky_notes(notes3, fontScale=0.4, fontFace=cv2.FONT_HERSHEY_SIMPLEX)"
      ],
      "execution_count": 73,
      "outputs": [
        {
          "output_type": "display_data",
          "data": {
            "image/png": "[encoded data removed]",
            "text/plain": [
              "<PIL.Image.Image image mode=RGB size=476x248 at 0x7FB8336861D0>"
            ]
          },
          "metadata": {}
        },
        {
          "output_type": "display_data",
          "data": {
            "image/png": "[encoded data removed]",
            "text/plain": [
              "<PIL.Image.Image image mode=RGB size=476x248 at 0x7FB8336861D0>"
            ]
          },
          "metadata": {}
        },
        {
          "output_type": "display_data",
          "data": {
            "image/png": "[encoded data removed]",
            "text/plain": [
              "<PIL.Image.Image image mode=RGB size=476x248 at 0x7FB8336861D0>"
            ]
          },
          "metadata": {}
        }
      ]
    },
    {
      "cell_type": "code",
      "metadata": {
        "id": "8YlLDowrkTM7"
      },
      "source": [
        "# start coding here. "
      ],
      "execution_count": null,
      "outputs": []
    },
    {
      "cell_type": "markdown",
      "metadata": {
        "id": "a2KzzpxtImtW"
      },
      "source": [
        "# 9.4 Correcting for Multiple Comparisons\n",
        "\n",
        "A major issue with frequentist statistics is the issue of [multiple comparisons](https://github.com/jonkrohn/ML-foundations/blob/master/notebooks/6-statistics.ipynb):\n",
        "\n",
        "- If you perform 20 statistical tests where there is no real effect (i.e., the null hypothesis is true), then we would expect one of them to come up significant by chance alone (i.e., a false positive or Type I error).\n",
        "- If you perform a hundred tests in such a circumstance, then you should expect five false positives.\n",
        "\n",
        "The most straightforward, and indeed the most widely-used, solution is the Bonferroni correction (named after the 20th c. Italian mathematician [Carlo Emilio Bonferroni](https://mathshistory.st-andrews.ac.uk/Biographies/Bonferroni/)). Assuming, we'd like an overall $\\alpha = .05$:\n",
        "\n",
        "- If we're planning on conducting ten tests ($m=10$), the **significance threshold** for each individual test is \n",
        "  - $\\frac{\\alpha}{m} = \\frac{.05}{10} = .005$\n",
        "  - With 20 tests, it's $\\frac{\\alpha}{m} = \\frac{.05}{20} = .0025$\n",
        "  - With 100 tests, it's $\\frac{\\alpha}{m} = \\frac{.05}{100} = .0005$\n",
        "\n",
        "(Other, less straightforward, approaches for adjusting $\\alpha$ for multiple comparisons exist. They're beyond our scope, but the major ones are listed under the General methods of alpha adjustment for multiple comparisons heading here.)\n"
      ]
    },
    {
      "cell_type": "markdown",
      "metadata": {
        "id": "U04o-5OQfeAH"
      },
      "source": [
        "\n",
        "\n",
        "(Other, less straightforward, approaches for adjusting $\\alpha$ for multiple comparisons exist. They're beyond our scope, but the major ones are listed under the General methods of alpha adjustment for multiple comparisons heading here.)\n"
      ]
    },
    {
      "cell_type": "markdown",
      "metadata": {
        "id": "elxDS14MZjIH"
      },
      "source": [
        "# Important Functions\n",
        "- `st.pearsonr(x, y)`\n",
        "- `2 * st.t.cdf(-abs(t), n-1)`\n",
        "- Extract column values into a list\n",
        "  - ` dataset.column.to_numpy()`\n",
        "- Scatter-plot with varying colours\n",
        "  - `sb.scatterplot(x=, y=, c=color_codes)`"
      ]
    },
    {
      "cell_type": "markdown",
      "metadata": {
        "id": "IHSZRre2ZwNR"
      },
      "source": [
        "## References\n",
        "\n",
        "My Statistics learning notebook following the live lesson series [**\"Probability and Statistics for Machine Learning\"**](https://learning.oreilly.com/videos/probability-and-statistics/9780137566273/) by Dr. Jon Krohn. I adapted some and partially modified or added entirely new code. Notes largely based on and from Jon's notebooks and learning materials. The lesson and original notebook source code at:\n",
        "\n",
        "https://learning.oreilly.com/videos/probability-and-statistics/9780137566273/\n",
        "https://github.com/jonkrohn/ML-foundations/blob/master/notebooks/4-calculus-ii.ipynb\n",
        "\n",
        "For further learning:\n",
        "- Causality by Judea Pearl  \n",
        "  http://bayes.cs.ucla.edu/stat_bio.html"
      ]
    }
  ]
}
