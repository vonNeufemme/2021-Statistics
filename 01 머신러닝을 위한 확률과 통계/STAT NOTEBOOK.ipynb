{
  "nbformat": 4,
  "nbformat_minor": 0,
  "metadata": {
    "colab": {
      "name": "STAT NOTEBOOK.ipynb",
      "provenance": [],
      "collapsed_sections": []
    },
    "kernelspec": {
      "name": "python3",
      "display_name": "Python 3"
    },
    "language_info": {
      "name": "python"
    }
  },
  "cells": [
    {
      "cell_type": "markdown",
      "metadata": {
        "id": "hS6Lsz45ejN6"
      },
      "source": [
        "## Basic Setup"
      ]
    },
    {
      "cell_type": "code",
      "metadata": {
        "id": "eyWUBUeHZR9P"
      },
      "source": [
        "import math\n",
        "import numpy as np\n",
        "import seaborn as sb\n",
        "import matplotlib.pyplot as plt\n",
        "\n",
        "import cv2\n",
        "from google.colab.patches import cv2_imshow\n",
        "from google.colab import drive\n",
        "drive.mount('here')\n",
        "\n",
        "\n",
        "# shows the image immediately. Resize option available\n",
        "def show_img(path, resize=None):\n",
        "  img = cv2.imread(path)\n",
        "  if (resize != None):\n",
        "    img = cv2.resize(img, dsize=(0,0), fx=resize, fy=resize)\n",
        "  cv2_imshow(img)\n",
        "\n",
        "\n",
        "# turns the path into an image object. Resize option available\n",
        "def get_img(path, resize=None):\n",
        "  img = cv2.imread(path)\n",
        "  if (resize != None):\n",
        "    img = cv2.resize(img, dsize=(0,0), fx=resize, fy=resize)\n",
        "  return img\n",
        "\n",
        "\n",
        "def cite_source(img, source, org=None, scale=None):\n",
        "    if (org == None):\n",
        "        img = cv2.putText(img, source, org=(int(np.ceil(img.shape[1]*0.1)), int(np.ceil(img.shape[0]*0.98))),\n",
        "                          fontFace=cv2.FONT_HERSHEY_SIMPLEX, fontScale=scale, color=1)\n",
        "    elif (org != None):\n",
        "        img = cv2.putText(img, source, org=org,\n",
        "                          fontFace=cv2.FONT_HERSHEY_TRIPLEX, fontScale=scale, color=1)\n",
        "    return img\n",
        "\n",
        "\n",
        "def sticky_notes(notes):\n",
        "    path = \"/content/here/MyDrive/Math works/notes.png\"    \n",
        "    post_it = get_img(path, resize=0.65)\n",
        "    # img = increase_brightness(img, value=75)\n",
        "\n",
        "    for i, note in enumerate(notes):\n",
        "        post_it = take_notes(post_it, note, org=(1/17,(i+4)/11), scale=0.5)\n",
        "    cv2_imshow(post_it)\n",
        "\n",
        "\n",
        "# Code by Bill Grates on Stackoverflow\n",
        "# https://stackoverflow.com/users/5629538/bill-grates\n",
        "# https://stackoverflow.com/questions/32609098/how-to-fast-change-image-brightness-with-python-opencv\n",
        "\n",
        "def increase_brightness(img, value=30):\n",
        "    hsv = cv2.cvtColor(img, cv2.COLOR_BGR2HSV) \n",
        "    h, s, v = cv2.split(hsv)\n",
        "\n",
        "    lim = 255 - value\n",
        "    v[v > lim] = 255\n",
        "    v[v <= lim] += value\n",
        "    \n",
        "    final_hsv = cv2.merge((h, s, v))\n",
        "    img = cv2.cvtColor(final_hsv, cv2.COLOR_HSV2BGR)\n",
        "    return img"
      ],
      "execution_count": null,
      "outputs": []
    },
    {
      "cell_type": "markdown",
      "metadata": {
        "id": "3x9nq9P9guQD"
      },
      "source": [
        "## Sticky Notes for Thoughts"
      ]
    },
    {
      "cell_type": "code",
      "metadata": {
        "id": "GLqAFM4Sj29v"
      },
      "source": [
        "# display work\n",
        "notes = [\"\",\n",
        "         \"\",\n",
        "         \"\",\n",
        "         \"\"]\n",
        "\n",
        "sticky_notes(notes)"
      ],
      "execution_count": null,
      "outputs": []
    },
    {
      "cell_type": "markdown",
      "metadata": {
        "id": "rrVFN66LkSKC"
      },
      "source": [
        "# Chapter"
      ]
    },
    {
      "cell_type": "code",
      "metadata": {
        "id": "8YlLDowrkTM7"
      },
      "source": [
        "# start coding here. "
      ],
      "execution_count": null,
      "outputs": []
    },
    {
      "cell_type": "markdown",
      "metadata": {
        "id": "elxDS14MZjIH"
      },
      "source": [
        "# Frequent Functions\n",
        "- ``````\n",
        "  - ``````\n",
        "- ``````\n",
        "  - ``````\n",
        "- ``````\n",
        "  - ``````"
      ]
    },
    {
      "cell_type": "markdown",
      "metadata": {
        "id": "TjWrB1KrZrD1"
      },
      "source": [
        "# Error Notes \n",
        "- ``````\n",
        "  - ``````\n",
        "- ``````\n",
        "  - ``````\n",
        "- ``````\n",
        "  - ``````"
      ]
    }
  ]
}
